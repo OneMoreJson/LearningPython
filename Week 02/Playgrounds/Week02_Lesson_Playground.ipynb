{
 "cells": [
  {
   "cell_type": "code",
   "execution_count": null,
   "metadata": {},
   "outputs": [],
   "source": [
    "var = True\n",
    "\n",
    "if(var):\n",
    "    print(\"Yes\")"
   ]
  },
  {
   "cell_type": "code",
   "execution_count": null,
   "metadata": {},
   "outputs": [],
   "source": [
    "myName = \"\"\n",
    "\n",
    "myName = input(\"What is your Name?   \")\n",
    "\n",
    "print (\"My name is\", myName)\n",
    "print (\"My name is \" + myName)"
   ]
  },
  {
   "cell_type": "code",
   "execution_count": null,
   "metadata": {},
   "outputs": [],
   "source": [
    "# This is the answer to the Week 02 Assignment\n",
    "\n",
    "a = 5\n",
    "b = 2\n",
    "\n",
    "print ('Addition:\\t', a, '+', b, '=', a+b)\n",
    "print ('Subrtraction:\\t', a, '-', b, '=', a-b)\n",
    "print ('Multiplication:\\t', a, '*', b, '=', a*b)\n",
    "print ('Division:\\t', a, '/', b, '=', a/b)\n",
    "print ('Floor Division:\\t', a, '//', b, '=', a//b)\n",
    "print ('Modulus:\\t', a, '%', b, '=', a%b)"
   ]
  },
  {
   "cell_type": "code",
   "execution_count": null,
   "metadata": {},
   "outputs": [],
   "source": [
    "ID = input('Enter a Number')\n",
    "if ID =='007':\n",
    "    print(\"You are Bond, James Bond\")\n",
    "else:\n",
    "    print(\"You are Bund, All Bundy\")"
   ]
  },
  {
   "cell_type": "code",
   "execution_count": null,
   "metadata": {},
   "outputs": [],
   "source": [
    "s = 5\n",
    "a = 7\n",
    "\n",
    "print(a > b)\n",
    "print(a == b)\n",
    "print(b > a)\n",
    "\n",
    "one = True\n",
    "two = False\n",
    "\n",
    "print(one > two)\n",
    "print(two > one)"
   ]
  },
  {
   "cell_type": "code",
   "execution_count": null,
   "metadata": {},
   "outputs": [],
   "source": [
    "a = 10\n",
    "b = 20\n",
    "#c = 15\n",
    "c = 30\n",
    "\n",
    "if(c >= a and c <= b):\n",
    "    print(c, \"is between\", a, \" and \", b)\n",
    "else:\n",
    "    print(\"value is not in the range\")\n",
    "    print(c, \"is not between\", a, \" and \", b)"
   ]
  },
  {
   "cell_type": "code",
   "execution_count": null,
   "metadata": {},
   "outputs": [],
   "source": [
    "name = input(\"Enter Name\")\n",
    "hours = float(input(\"Enter Number of hours\"))\n",
    "rate = float(input(\"Enter hourly pay rate\"))\n",
    "\n",
    "# You must convert the input into numeric, because by default the input returns string.\n",
    "\n",
    "totalPay = hours * rate\n",
    "print(\"Weekly Pay\", totalPay)\n",
    "print(\"End of Part\\n\\n\\n\")    #what is \\n\\n\\n"
   ]
  },
  {
   "cell_type": "code",
   "execution_count": null,
   "metadata": {},
   "outputs": [],
   "source": [
    "# New Rule\n",
    "\n",
    "# if hours > 40:\n",
    "#     return rate = rate * 1.5\n",
    "\n",
    "# if totalPay > 600:\n",
    "#     return totalPay = totalPay - totalyPay * 20%\n",
    "\n",
    "# # Now do we get a change?\n",
    "\n",
    "# totalPay = hours * rate\n",
    "# print(\"Weekly Pay\", totalPay)\n",
    "# print(\"End of Part\\n\\n\\n\") \n",
    "\n"
   ]
  },
  {
   "cell_type": "markdown",
   "metadata": {},
   "source": [
    "# Vars"
   ]
  },
  {
   "cell_type": "code",
   "execution_count": null,
   "metadata": {},
   "outputs": [],
   "source": [
    "myAge = 22"
   ]
  },
  {
   "cell_type": "code",
   "execution_count": null,
   "metadata": {},
   "outputs": [],
   "source": [
    "myAgeLater = myAge + 5"
   ]
  },
  {
   "cell_type": "code",
   "execution_count": null,
   "metadata": {},
   "outputs": [],
   "source": [
    "myAgeLater"
   ]
  },
  {
   "cell_type": "markdown",
   "metadata": {},
   "source": [
    "# Scientific Notation"
   ]
  },
  {
   "cell_type": "code",
   "execution_count": null,
   "metadata": {},
   "outputs": [],
   "source": [
    "e = 2\n",
    "\n",
    "rate = 3 * e - 5\n",
    "\n",
    "rate"
   ]
  },
  {
   "cell_type": "markdown",
   "metadata": {},
   "source": [
    "# String Data / Conversions"
   ]
  },
  {
   "cell_type": "code",
   "execution_count": null,
   "metadata": {},
   "outputs": [],
   "source": [
    "houseNumber = 234\n",
    "address = str(houseNumber)\n",
    "print(address)\n",
    "print(type(houseNumber))\n",
    "print(type(address))"
   ]
  },
  {
   "cell_type": "code",
   "execution_count": null,
   "metadata": {},
   "outputs": [],
   "source": [
    "answer = 56\n",
    "newAnswer = float(answer)\n",
    "print(newAnswer)"
   ]
  },
  {
   "cell_type": "code",
   "execution_count": null,
   "metadata": {},
   "outputs": [],
   "source": [
    "age = 22\n",
    "age2 = float(age)\n",
    "print(age)\n",
    "print(age2)"
   ]
  },
  {
   "cell_type": "code",
   "execution_count": null,
   "metadata": {},
   "outputs": [],
   "source": [
    "print(type(age))\n",
    "print(type(age2))"
   ]
  },
  {
   "cell_type": "markdown",
   "metadata": {},
   "source": [
    "# Inputs"
   ]
  },
  {
   "cell_type": "code",
   "execution_count": null,
   "metadata": {},
   "outputs": [],
   "source": [
    "answer = input(\"Do you like chocolate?  \")"
   ]
  },
  {
   "cell_type": "code",
   "execution_count": null,
   "metadata": {},
   "outputs": [],
   "source": [
    "print(\"You answered:\", answer)"
   ]
  },
  {
   "cell_type": "markdown",
   "metadata": {},
   "source": [
    "# Additiona Program Examples"
   ]
  },
  {
   "cell_type": "code",
   "execution_count": 2,
   "metadata": {},
   "outputs": [
    {
     "name": "stdout",
     "output_type": "stream",
     "text": [
      "If you give me two numbers, I will tell you the sum.\n",
      "First number?   44\n",
      "Second number   24\n",
      "44.0\n",
      "24.0\n",
      "The sum is 68.0\n"
     ]
    }
   ],
   "source": [
    "# Tell the user what the purpose is\n",
    "# Get two numbers from the user\n",
    "# Add the numbers\n",
    "# Display the result\n",
    "\n",
    "print(\"If you give me two numbers, I will tell you the sum.\")\n",
    "\n",
    "firstNum = float(input(\"First number?   \"))\n",
    "\n",
    "secondNum = float(input(\"Second number   \"))\n",
    "\n",
    "print(firstNum)\n",
    "print(secondNum)\n",
    "\n",
    "total = firstNum + secondNum\n",
    "\n",
    "print(\"The sum is\", total)"
   ]
  },
  {
   "cell_type": "code",
   "execution_count": null,
   "metadata": {},
   "outputs": [],
   "source": [
    "num = int(input(\"say a number\"))\n",
    "print(num)\n",
    "print(type(num))"
   ]
  },
  {
   "cell_type": "markdown",
   "metadata": {},
   "source": [
    "# Making Decisions Using If"
   ]
  },
  {
   "cell_type": "code",
   "execution_count": 12,
   "metadata": {},
   "outputs": [
    {
     "name": "stdout",
     "output_type": "stream",
     "text": [
      "How much is the toal size?   107\n",
      "107\n",
      "There won't be an extra charge\n"
     ]
    }
   ],
   "source": [
    "sizeTotal = int(input(\"How much is the toal size?   \"))\n",
    "print(sizeTotal)\n",
    "\n",
    "\n",
    "if sizeTotal > 108:\n",
    "    print(\"The Package is over 108\")\n",
    "else:\n",
    "    print(\"There won't be an extra charge\")\n"
   ]
  },
  {
   "cell_type": "code",
   "execution_count": 21,
   "metadata": {},
   "outputs": [
    {
     "name": "stdout",
     "output_type": "stream",
     "text": [
      "Use LA for a liberal arts major and S for a Science major.  \n",
      "What is your major?   4\n",
      "\n",
      "Enter the first letter of your last name.  Please use uppercase:   d\n",
      "You did not enter valid information.  \n",
      "\n",
      "6\n"
     ]
    }
   ],
   "source": [
    "print(\"Use LA for a liberal arts major and S for a Science major.  \")\n",
    "major = input(\"What is your major?   \")\n",
    "print()\n",
    "\n",
    "letter = input(\"Enter the first letter of your last name.  Please use uppercase:   \")\n",
    "\n",
    "floor = 5\n",
    "\n",
    "if major == \"LA\":\n",
    "    if letter < \"L\":\n",
    "        foor = 1\n",
    "    else:\n",
    "        floor = 2\n",
    "elif major == \"S\":\n",
    "    if leter < \"L\":\n",
    "        floor = 3\n",
    "    else:\n",
    "        floor = 4\n",
    "else:\n",
    "    floor = 6\n",
    "    \n",
    "if floor < 6: \n",
    "    print(\"your room is on floor\", floor)\n",
    "else:\n",
    "    print(\"You did not enter valid information.  \")\n",
    "    \n",
    "\n",
    "print()    \n",
    "print(floor)\n"
   ]
  },
  {
   "cell_type": "markdown",
   "metadata": {},
   "source": [
    "# Practice"
   ]
  },
  {
   "cell_type": "code",
   "execution_count": 22,
   "metadata": {},
   "outputs": [
    {
     "name": "stdout",
     "output_type": "stream",
     "text": [
      "more\n"
     ]
    }
   ],
   "source": [
    "age = 4\n",
    "\n",
    "if age < 3:\n",
    "    print('less')\n",
    "else:\n",
    "    print('more')"
   ]
  },
  {
   "cell_type": "code",
   "execution_count": 26,
   "metadata": {},
   "outputs": [
    {
     "name": "stdout",
     "output_type": "stream",
     "text": [
      "False\n"
     ]
    }
   ],
   "source": [
    "answer = 1\n",
    "\n",
    "answer = False\n",
    "\n",
    "print(False)"
   ]
  },
  {
   "cell_type": "code",
   "execution_count": 27,
   "metadata": {},
   "outputs": [
    {
     "name": "stdout",
     "output_type": "stream",
     "text": [
      "<class 'int'>\n",
      "2\n",
      "<class 'int'>\n"
     ]
    }
   ],
   "source": [
    "myA = 30\n",
    "print(type(myA))\n",
    "myB = 7\n",
    "print(myA % myB)\n",
    "print(type(myA))"
   ]
  },
  {
   "cell_type": "code",
   "execution_count": null,
   "metadata": {},
   "outputs": [],
   "source": []
  }
 ],
 "metadata": {
  "kernelspec": {
   "display_name": "Python 3",
   "language": "python",
   "name": "python3"
  }
 },
 "nbformat": 4,
 "nbformat_minor": 4
}
