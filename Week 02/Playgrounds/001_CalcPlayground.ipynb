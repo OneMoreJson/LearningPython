{
 "cells": [
  {
   "cell_type": "markdown",
   "metadata": {},
   "source": [
    "# Part 1"
   ]
  },
  {
   "cell_type": "code",
   "execution_count": null,
   "metadata": {},
   "outputs": [],
   "source": [
    "# This is the flower box and it is at the begining of each assignment\n",
    "# Program Name: Wk2P1_Jason_Cameron.py\n",
    "# Student Name: Jason Cameron\n",
    "# Course: ENTD220\n",
    "# Instructor: Dr. Randy Bower\n",
    "# Date: Nov 02 2020\n",
    "# Description: This Code will be a type of calculator\n",
    "# Copy Wrong: This is, REALLY, my OWN work"
   ]
  },
  {
   "cell_type": "code",
   "execution_count": null,
   "metadata": {},
   "outputs": [],
   "source": [
    "print(\"Hello. If you give us two numbers, we will give you their sum, difference, product and quotient.\")\n",
    "print()"
   ]
  },
  {
   "cell_type": "code",
   "execution_count": null,
   "metadata": {},
   "outputs": [],
   "source": [
    "num01 = int(input(\"Please select a number between 0 and 100:  \"))\n",
    "print()"
   ]
  },
  {
   "cell_type": "code",
   "execution_count": null,
   "metadata": {},
   "outputs": [],
   "source": [
    "num02 = int(input(\"Please select another number between 0 and 100:  \"))\n",
    "print()"
   ]
  },
  {
   "cell_type": "code",
   "execution_count": null,
   "metadata": {},
   "outputs": [],
   "source": [
    "addAnswer = num01 + num02\n",
    "subAnswer = num01 - num02\n",
    "multAnswer = num01 * num02\n",
    "divAnswer = num01 / num02\n"
   ]
  },
  {
   "cell_type": "code",
   "execution_count": null,
   "metadata": {},
   "outputs": [],
   "source": [
    "print(\"When you add\", num01, \"to\", num02, \"the sum is\", addAnswer)\n",
    "print(\"When you subtract\", num01, \"from\", num02, \"the difference is\", subAnswer)\n",
    "print(\"When you multiply\", num01, \"with\", num02, \"the product is\", multAnswer)\n",
    "print(\"When you divide\", num01, \"from\", num02, \"the quotent is\", divAnswer)"
   ]
  },
  {
   "cell_type": "code",
   "execution_count": null,
   "metadata": {},
   "outputs": [],
   "source": [
    "print()\n",
    "print(\"Thank you for letting us calculate your numbers!\")"
   ]
  },
  {
   "cell_type": "markdown",
   "metadata": {},
   "source": [
    "# Part 2"
   ]
  },
  {
   "cell_type": "code",
   "execution_count": null,
   "metadata": {},
   "outputs": [],
   "source": [
    "# This is the flower box and it is at the begining of each assignment\n",
    "# Program Name: Wk2P2_Jason_Cameron.py\n",
    "# Student Name: Jason Cameron\n",
    "# Course: ENTD220\n",
    "# Instructor: Dr. Randy Bower\n",
    "# Date: Nov 02 2020\n",
    "# Description: This Code will be a type of calculator\n",
    "# Copy Wrong: This is, REALLY, my OWN work"
   ]
  },
  {
   "cell_type": "code",
   "execution_count": null,
   "metadata": {},
   "outputs": [],
   "source": [
    "print(\"Hello. If you give us two numbers, we will give you their sum, difference, product and quotient.\")\n",
    "print(\"We do require that you only select a number between -100 and 100.\")\n",
    "print(\"We also ask that you do not select '0'.  Bad things happen when you select '0'\")\n",
    "print()"
   ]
  },
  {
   "cell_type": "code",
   "execution_count": null,
   "metadata": {},
   "outputs": [],
   "source": [
    "numA = 0\n",
    "numB = 0\n",
    "\n",
    "while numA == 0 or numA < -100 or numA > 100:\n",
    "    numA = int(input(\"Please select a number:   \"))\n",
    "    print()\n",
    "    if numA == 0:\n",
    "        print(\"We thought we told you Not to select 0.  Bad things REALLY do happen with that number.  Please try again.  Thank you.\")\n",
    "        print()\n",
    "    elif numA < -100 or numA > 100:\n",
    "        print(\"We thought we told you to select BETWEEN -100 and 100.  We understand the confusion.  Please try again.  Thank you.   \")\n",
    "        print()\n",
    "    else:\n",
    "        print(\"Thank you.  You chose:\", numA)\n",
    "        \n",
    "while numB == 0 or numB < -100 or numB > 100:\n",
    "    numB = int(input(\"Please select a Second number:   \"))\n",
    "    print()\n",
    "    if numB == 0:\n",
    "        print(\"We thought we told you Not to select 0.  Bad things REALY do happen with that number.  Please try again.  Thank you.\")\n",
    "        print()\n",
    "    elif numB < -100 or numB > 100:\n",
    "        print(\"We thought we told you to select BETWEEN -100 and 100.  We understand the confusion.  Please try again.  Thank you.   \")\n",
    "        print()\n",
    "    else:\n",
    "        print(\"Thank you.  You chose:\", numB)"
   ]
  },
  {
   "cell_type": "code",
   "execution_count": null,
   "metadata": {},
   "outputs": [],
   "source": [
    "addAnswer2 = numA + numB\n",
    "subAnswer2 = numA - numB\n",
    "multAnswer2 = numA * numB\n",
    "divAnswer2 = numA / numB"
   ]
  },
  {
   "cell_type": "code",
   "execution_count": null,
   "metadata": {},
   "outputs": [],
   "source": [
    "print(\"When you add\", numA, \"to\", numB, \"their sum is\", addAnswer2)\n",
    "print(\"When you subtract\", numA, \"from\", numB, \"their difference is\", subAnswer2)\n",
    "print(\"When you multiply\", numA, \"with\", numB, \"their product is\", multAnswer2)\n",
    "print(\"When you divide\", numA, \"from\", numB, \"their quotent is\", divAnswer2)"
   ]
  },
  {
   "cell_type": "code",
   "execution_count": null,
   "metadata": {},
   "outputs": [],
   "source": [
    "print()\n",
    "print(\"Thank you for letting us calculate more numbers!\")"
   ]
  },
  {
   "cell_type": "markdown",
   "metadata": {},
   "source": [
    "# Part 2 Corrected"
   ]
  },
  {
   "cell_type": "code",
   "execution_count": null,
   "metadata": {},
   "outputs": [],
   "source": [
    "# This is the flower box and it is at the begining of each assignment\n",
    "# Program Name: Wk2P2_Jason_Cameron.py\n",
    "# Student Name: Jason Cameron\n",
    "# Course: ENTD220\n",
    "# Instructor: Dr. Randy Bower\n",
    "# Date: Nov 02 2020\n",
    "# Description: This Code will be a type of calculator\n",
    "# Copy Wrong: This is, REALLY, my OWN work"
   ]
  },
  {
   "cell_type": "code",
   "execution_count": 28,
   "metadata": {},
   "outputs": [
    {
     "name": "stdout",
     "output_type": "stream",
     "text": [
      "Hello. Please give us a range to work with between -100 and 100\n",
      "\n",
      "Please provide a number as your high number:   110\n",
      "\n",
      "Please select BETWEEN -100 and 100.\n",
      "\n",
      "Please provide a number as your high number:   -110\n",
      "\n",
      "Please select BETWEEN -100 and 100.\n",
      "\n",
      "Please provide a number as your high number:   50\n",
      "\n",
      "Thank you.  Your high number is: 50\n",
      "\n"
     ]
    }
   ],
   "source": [
    "print(\"Hello. Please give us a range to work with between -100 and 100\")\n",
    "print()\n",
    "\n",
    "high = False\n",
    "low = False\n",
    "\n",
    "while high == False or high < -100 or high > 100:\n",
    "    high = int(input(\"Please provide a number as your high number:   \"))\n",
    "    print()\n",
    "    if high < -100 or high > 100:\n",
    "        print(\"Please select BETWEEN -100 and 100.\")\n",
    "        print()\n",
    "    else:\n",
    "        print(\"Thank you.  Your high number is:\", high)\n",
    "        print()\n",
    "        "
   ]
  },
  {
   "cell_type": "code",
   "execution_count": 29,
   "metadata": {},
   "outputs": [
    {
     "name": "stdout",
     "output_type": "stream",
     "text": [
      "Please provide a number as your low number:   -110\n",
      "\n",
      "Please select BETWEEN -100 and 100.\n",
      "\n",
      "Please provide a number as your low number:   90\n",
      "\n",
      "Please select a number lower than your high number.   \n",
      "\n",
      "Please provide a number as your low number:   -50\n",
      "\n",
      "Thank you.  Your low number is:    -50\n",
      "\n"
     ]
    }
   ],
   "source": [
    "while low == False or low < -100 or low > high:\n",
    "    low = int(input(\"Please provide a number as your low number:   \"))\n",
    "    print()\n",
    "    if low < -100 or low > 100:\n",
    "        print(\"Please select BETWEEN -100 and 100.\")\n",
    "        print()\n",
    "    elif low > high:\n",
    "        print(\"Please select a number lower than your high number.   \")\n",
    "        print()\n",
    "    else:\n",
    "        print(\"Thank you.  Your low number is:   \", low)\n",
    "        print()"
   ]
  },
  {
   "cell_type": "code",
   "execution_count": 30,
   "metadata": {},
   "outputs": [
    {
     "name": "stdout",
     "output_type": "stream",
     "text": [
      "Now please select two numbers between 50 and -50 and we will provide their sum, difference, product and quotient.\n",
      "Please select a number:   100\n",
      "\n",
      "Please choose a number between the range of -50 and 50\n",
      "\n",
      "Please select a number:   -110\n",
      "\n",
      "Please choose a number between the range of -50 and 50\n",
      "\n",
      "Please select a number:   60\n",
      "\n",
      "Please choose a number between the range of -50 and 50\n",
      "\n",
      "Please select a number:   -60\n",
      "\n",
      "Please choose a number between the range of -50 and 50\n",
      "\n",
      "Please select a number:   10\n",
      "\n",
      "Thank you.  You chose:    10\n",
      "\n",
      "Please select a Second number:   100\n",
      "\n",
      "Please choose a number between the range of -50 and 50\n",
      "\n",
      "Please select a Second number:   -110\n",
      "\n",
      "Please choose a number between the range of -50 and 50\n",
      "\n",
      "Please select a Second number:   -1\n",
      "\n",
      "Thank you.  You chose:    -1\n",
      "\n"
     ]
    }
   ],
   "source": [
    "print(\"Now please select two numbers between\", high, \"and\", low, \"and we will provide their sum, difference, product and quotient.\")\n",
    "\n",
    "numA = False\n",
    "numB = False\n",
    "\n",
    "while numA == False or numA < low or numA > high:\n",
    "    numA = int(input(\"Please select a number:   \"))\n",
    "    print()\n",
    "    if numA < low or numA > high:\n",
    "        print(\"Please choose a number between the range of\", low, \"and\", high)\n",
    "        print()\n",
    "    else:\n",
    "        print(\"Thank you.  You chose:   \", numA)\n",
    "        print()\n",
    "        \n",
    "while numB == False or numB < low or numB > high:\n",
    "    numB = int(input(\"Please select a Second number:   \"))\n",
    "    print()\n",
    "    if numB < low or numB > high:\n",
    "        print(\"Please choose a number between the range of\", low, \"and\", high)\n",
    "        print()\n",
    "    else:\n",
    "        print(\"Thank you.  You chose:   \", numB)\n",
    "        print()"
   ]
  },
  {
   "cell_type": "code",
   "execution_count": 36,
   "metadata": {},
   "outputs": [],
   "source": [
    "addAnswer2 = numA + numB\n",
    "subAnswer2 = numB - numA\n",
    "multAnswer2 = numA * numB\n",
    "\n",
    "if numA == 0 or numB == 0:\n",
    "    divAnswer2 = \"an error, you cannot divide by 0\"\n",
    "else:\n",
    "    divAnswer2 = numA / numB"
   ]
  },
  {
   "cell_type": "code",
   "execution_count": 37,
   "metadata": {},
   "outputs": [
    {
     "name": "stdout",
     "output_type": "stream",
     "text": [
      "9\n",
      "-11\n",
      "-10\n",
      "-10.0\n"
     ]
    }
   ],
   "source": [
    "print(addAnswer2)\n",
    "print(subAnswer2)\n",
    "print(multAnswer2)\n",
    "print(divAnswer2)"
   ]
  },
  {
   "cell_type": "code",
   "execution_count": 38,
   "metadata": {},
   "outputs": [
    {
     "name": "stdout",
     "output_type": "stream",
     "text": [
      "When you add 10 to -1 the sum is 9\n",
      "When you subtract 10 from -1 the difference is -11\n",
      "When you multiply 10 with -1 the product is -10\n",
      "When you divide 10 by -1 the quotent is -10.0\n"
     ]
    }
   ],
   "source": [
    "print(\"When you add\", numA, \"to\", numB, \"the sum is\", addAnswer2)\n",
    "print(\"When you subtract\", numA, \"from\", numB, \"the difference is\", subAnswer2)\n",
    "print(\"When you multiply\", numA, \"with\", numB, \"the product is\", multAnswer2)\n",
    "print(\"When you divide\", numA, \"by\", numB, \"the quotent is\", divAnswer2)"
   ]
  },
  {
   "cell_type": "code",
   "execution_count": 34,
   "metadata": {},
   "outputs": [
    {
     "name": "stdout",
     "output_type": "stream",
     "text": [
      "\n",
      "Thank you for letting us calculate more numbers!\n"
     ]
    }
   ],
   "source": [
    "print()\n",
    "print(\"Thank you for letting us calculate more numbers!\")"
   ]
  },
  {
   "cell_type": "code",
   "execution_count": null,
   "metadata": {},
   "outputs": [],
   "source": []
  }
 ],
 "metadata": {
  "kernelspec": {
   "display_name": "Python 3",
   "language": "python",
   "name": "python3"
  },
  "language_info": {
   "codemirror_mode": {
    "name": "ipython",
    "version": 3
   },
   "file_extension": ".py",
   "mimetype": "text/x-python",
   "name": "python",
   "nbconvert_exporter": "python",
   "pygments_lexer": "ipython3",
   "version": "3.7.6"
  }
 },
 "nbformat": 4,
 "nbformat_minor": 4
}
