{
 "cells": [
  {
   "cell_type": "markdown",
   "id": "ad31a67b",
   "metadata": {},
   "source": [
    "# 1. Card Class\n",
    "\n",
    "## Suit, Rank, Value\n"
   ]
  },
  {
   "cell_type": "code",
   "execution_count": 1,
   "id": "9c556903",
   "metadata": {},
   "outputs": [],
   "source": [
    "import random"
   ]
  },
  {
   "cell_type": "code",
   "execution_count": 2,
   "id": "452dee88",
   "metadata": {},
   "outputs": [],
   "source": [
    "suits = ('Hearts', 'Diamonds', 'Spades', 'Clubs')\n",
    "\n",
    "ranks = ('Two', 'Three', 'Four', 'Five', 'Six', 'Seven', 'Eight', 'Nine', 'Ten', 'Jack', 'Queen', 'King', 'Ace')\n",
    "\n",
    "values = {'Two': 2,\n",
    "         'Three': 3,\n",
    "         'Four': 4,\n",
    "         'Five': 5,\n",
    "         'Six': 6,\n",
    "         'Seven': 7,\n",
    "         'Eight': 8,\n",
    "         'Nine': 9,\n",
    "         'Ten': 10,\n",
    "         'Jack': 11,\n",
    "         'Queen': 12,\n",
    "         'King': 13,\n",
    "         'Ace': 14}"
   ]
  },
  {
   "cell_type": "code",
   "execution_count": 3,
   "id": "ae23d79e",
   "metadata": {},
   "outputs": [],
   "source": [
    "class Card: \n",
    "    \n",
    "    def __init__(s, suit, rank):\n",
    "        s.suit = suit\n",
    "        s.rank = rank\n",
    "        s.value = values[rank]\n",
    "        \n",
    "    def __str__(s):\n",
    "        return s.rank + \" of \" + s.suit\n",
    "\n",
    "    "
   ]
  },
  {
   "cell_type": "code",
   "execution_count": null,
   "id": "0d1412d1",
   "metadata": {},
   "outputs": [],
   "source": []
  },
  {
   "cell_type": "markdown",
   "id": "8ddbfb7b",
   "metadata": {},
   "source": [
    "# 2. Deck Class"
   ]
  },
  {
   "cell_type": "code",
   "execution_count": 18,
   "id": "9231cb25",
   "metadata": {},
   "outputs": [],
   "source": [
    "class Deck:\n",
    "    \n",
    "    def __init__(s):\n",
    "        s.all_cards = []\n",
    "        \n",
    "        for suit in suits:\n",
    "            for rank in ranks:\n",
    "                # Create the Card Obj\n",
    "                created_card = Card(suit,rank)\n",
    "                \n",
    "                s.all_cards.append(created_card)\n",
    "    \n",
    "    def shuffle(s):\n",
    "        random.shuffle(s.all_cards)\n",
    "        \n",
    "    def deal_one(s):\n",
    "        return s.all_cards.pop()"
   ]
  },
  {
   "cell_type": "code",
   "execution_count": 19,
   "id": "c14c5840",
   "metadata": {},
   "outputs": [],
   "source": [
    "new_deck = Deck()"
   ]
  },
  {
   "cell_type": "code",
   "execution_count": 20,
   "id": "f563fd2d",
   "metadata": {},
   "outputs": [],
   "source": [
    "bottom_card = new_deck.all_cards[-1]"
   ]
  },
  {
   "cell_type": "code",
   "execution_count": 21,
   "id": "e15c0bdd",
   "metadata": {},
   "outputs": [
    {
     "name": "stdout",
     "output_type": "stream",
     "text": [
      "Ace of Clubs\n"
     ]
    }
   ],
   "source": [
    "print(bottom_card)"
   ]
  },
  {
   "cell_type": "code",
   "execution_count": 23,
   "id": "6a569026",
   "metadata": {},
   "outputs": [],
   "source": [
    "new_deck.shuffle()"
   ]
  },
  {
   "cell_type": "code",
   "execution_count": 25,
   "id": "8cb8403c",
   "metadata": {},
   "outputs": [
    {
     "name": "stdout",
     "output_type": "stream",
     "text": [
      "Jack of Hearts\n"
     ]
    }
   ],
   "source": [
    "print(new_deck.all_cards[0])"
   ]
  },
  {
   "cell_type": "code",
   "execution_count": null,
   "id": "549b8bf9",
   "metadata": {},
   "outputs": [],
   "source": []
  }
 ],
 "metadata": {
  "kernelspec": {
   "display_name": "Python 3 (ipykernel)",
   "language": "python",
   "name": "python3"
  },
  "language_info": {
   "codemirror_mode": {
    "name": "ipython",
    "version": 3
   },
   "file_extension": ".py",
   "mimetype": "text/x-python",
   "name": "python",
   "nbconvert_exporter": "python",
   "pygments_lexer": "ipython3",
   "version": "3.9.12"
  }
 },
 "nbformat": 4,
 "nbformat_minor": 5
}
