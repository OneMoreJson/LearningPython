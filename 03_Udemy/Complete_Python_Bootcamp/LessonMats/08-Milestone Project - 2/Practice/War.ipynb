{
 "cells": [
  {
   "cell_type": "markdown",
   "id": "5001e5f1",
   "metadata": {},
   "source": [
    "# 1. Card Class\n",
    "\n",
    "## Suit, Rank, Value\n"
   ]
  },
  {
   "cell_type": "code",
   "execution_count": 15,
   "id": "20829ed4",
   "metadata": {},
   "outputs": [],
   "source": [
    "values = {'Two': 2,\n",
    "         'Three': 3,\n",
    "         'Four': 4,\n",
    "         'Five': 5,\n",
    "         'Six': 6,\n",
    "         'Seven': 7,\n",
    "         'Eight': 8,\n",
    "         'Nine': 9,\n",
    "         'Ten': 10,\n",
    "         'Jack': 11,\n",
    "         'Queen': 12,\n",
    "         'King': 13,\n",
    "         'Ace': 14}"
   ]
  },
  {
   "cell_type": "code",
   "execution_count": 16,
   "id": "994c904d",
   "metadata": {},
   "outputs": [],
   "source": [
    "class Card: \n",
    "    \n",
    "    def __init__(s, suit, rank):\n",
    "        s.suit = suit\n",
    "        s.rank = rank\n",
    "        s.value = values[rank]\n",
    "        \n",
    "    def __str__(s):\n",
    "        return s.rank + \" of \" + s.suit\n",
    "\n",
    "    "
   ]
  },
  {
   "cell_type": "code",
   "execution_count": 17,
   "id": "9e6f2b32",
   "metadata": {},
   "outputs": [],
   "source": [
    "three_of_clubs = Card(\"Clubs\", \"Three\")"
   ]
  },
  {
   "cell_type": "code",
   "execution_count": 21,
   "id": "c42e5052",
   "metadata": {},
   "outputs": [
    {
     "data": {
      "text/plain": [
       "'Three'"
      ]
     },
     "execution_count": 21,
     "metadata": {},
     "output_type": "execute_result"
    }
   ],
   "source": [
    "three_of_clubs.rank"
   ]
  },
  {
   "cell_type": "code",
   "execution_count": null,
   "id": "89f3b128",
   "metadata": {},
   "outputs": [],
   "source": []
  },
  {
   "cell_type": "code",
   "execution_count": 22,
   "id": "085f4ea8",
   "metadata": {},
   "outputs": [],
   "source": [
    "two_hearts = Card(\"Hearts\", \"Two\")"
   ]
  },
  {
   "cell_type": "code",
   "execution_count": 23,
   "id": "61b409ae",
   "metadata": {},
   "outputs": [
    {
     "name": "stdout",
     "output_type": "stream",
     "text": [
      "Two of Hearts\n"
     ]
    }
   ],
   "source": [
    "print(two_hearts)"
   ]
  },
  {
   "cell_type": "code",
   "execution_count": 24,
   "id": "6d2cffbf",
   "metadata": {},
   "outputs": [
    {
     "data": {
      "text/plain": [
       "'Hearts'"
      ]
     },
     "execution_count": 24,
     "metadata": {},
     "output_type": "execute_result"
    }
   ],
   "source": [
    "two_hearts.suit"
   ]
  },
  {
   "cell_type": "code",
   "execution_count": 25,
   "id": "e645ee81",
   "metadata": {},
   "outputs": [
    {
     "data": {
      "text/plain": [
       "'Two'"
      ]
     },
     "execution_count": 25,
     "metadata": {},
     "output_type": "execute_result"
    }
   ],
   "source": [
    "two_hearts.rank"
   ]
  },
  {
   "cell_type": "code",
   "execution_count": 12,
   "id": "4628fe5d",
   "metadata": {},
   "outputs": [],
   "source": []
  },
  {
   "cell_type": "code",
   "execution_count": 27,
   "id": "5fc0ed75",
   "metadata": {},
   "outputs": [
    {
     "data": {
      "text/plain": [
       "False"
      ]
     },
     "execution_count": 27,
     "metadata": {},
     "output_type": "execute_result"
    }
   ],
   "source": [
    "two_hearts.value == three_of_clubs.value"
   ]
  },
  {
   "cell_type": "code",
   "execution_count": null,
   "id": "77e6c898",
   "metadata": {},
   "outputs": [],
   "source": []
  }
 ],
 "metadata": {
  "kernelspec": {
   "display_name": "Python 3 (ipykernel)",
   "language": "python",
   "name": "python3"
  },
  "language_info": {
   "codemirror_mode": {
    "name": "ipython",
    "version": 3
   },
   "file_extension": ".py",
   "mimetype": "text/x-python",
   "name": "python",
   "nbconvert_exporter": "python",
   "pygments_lexer": "ipython3",
   "version": "3.9.12"
  }
 },
 "nbformat": 4,
 "nbformat_minor": 5
}
