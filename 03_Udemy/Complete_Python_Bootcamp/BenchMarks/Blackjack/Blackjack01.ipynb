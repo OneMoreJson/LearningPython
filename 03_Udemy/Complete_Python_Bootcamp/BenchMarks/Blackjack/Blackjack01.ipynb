{
 "cells": [
  {
   "cell_type": "markdown",
   "id": "76073b1b",
   "metadata": {},
   "source": [
    "# 1. Card Class"
   ]
  },
  {
   "cell_type": "code",
   "execution_count": 1,
   "id": "0bc8ab60",
   "metadata": {},
   "outputs": [],
   "source": [
    "import random"
   ]
  },
  {
   "cell_type": "code",
   "execution_count": 2,
   "id": "b55d1c85",
   "metadata": {},
   "outputs": [],
   "source": [
    "suits = ('Hearts', 'Diamonds', 'Spades', 'Clubs')\n",
    "\n",
    "ranks = ('Two', 'Three', 'Four', 'Five', 'Six', 'Seven', 'Eight', 'Nine', 'Ten', 'Jack', 'Queen', 'King', 'Ace' )\n",
    "\n",
    "values = {'Two': 2,\n",
    "          'Three': 3,\n",
    "          'Four': 4,\n",
    "          'Five': 5,\n",
    "          'Six': 6, \n",
    "          'Seven': 7,\n",
    "          'Eight': 8,\n",
    "          'Nine': 9, \n",
    "          'Ten': 10,\n",
    "          'Jack': 10,\n",
    "          'Queen': 10,\n",
    "          'King': 10,\n",
    "          'Ace': 10}\n"
   ]
  },
  {
   "cell_type": "code",
   "execution_count": 3,
   "id": "30297565",
   "metadata": {},
   "outputs": [],
   "source": [
    "class Card:\n",
    "    \n",
    "    def __init__(s, suit, rank):\n",
    "        s.suit = suit \n",
    "        s.rank = rank\n",
    "        s.value = values[rank]\n",
    "    \n",
    "    def __str__(s):\n",
    "        return s.rank + ' of ' + s.suit\n",
    "        \n",
    "        "
   ]
  },
  {
   "cell_type": "code",
   "execution_count": null,
   "id": "2f3ae1b0",
   "metadata": {},
   "outputs": [],
   "source": []
  },
  {
   "cell_type": "markdown",
   "id": "fddc040b",
   "metadata": {},
   "source": [
    "# 2. Deck Class"
   ]
  },
  {
   "cell_type": "code",
   "execution_count": 4,
   "id": "ec481a7e",
   "metadata": {},
   "outputs": [],
   "source": [
    "class Deck:\n",
    "    \n",
    "    def __init__(s):\n",
    "        s.all_cards = []\n",
    "        \n",
    "        for suit in suits:\n",
    "            for rank in ranks:\n",
    "                \n",
    "                # Create the Card\n",
    "                create_card = Card(suit, rank)\n",
    "                \n",
    "                # Place in Deck\n",
    "                s.all_cards.append(create_card)\n",
    "        \n",
    "    def shuffle(s):\n",
    "        random.shuffle(s.all_cards)\n",
    "        \n",
    "    def deal_one(s):\n",
    "        return s.all_cards.pop()\n",
    "        \n",
    "        "
   ]
  },
  {
   "cell_type": "code",
   "execution_count": 5,
   "id": "f19af9c9",
   "metadata": {},
   "outputs": [],
   "source": [
    "deck = Deck()"
   ]
  },
  {
   "cell_type": "code",
   "execution_count": 6,
   "id": "e6211d77",
   "metadata": {},
   "outputs": [],
   "source": [
    "deck.shuffle()"
   ]
  },
  {
   "cell_type": "code",
   "execution_count": 9,
   "id": "b4df4acb",
   "metadata": {},
   "outputs": [
    {
     "name": "stdout",
     "output_type": "stream",
     "text": [
      "Eight of Hearts\n",
      "Three of Spades\n",
      "Five of Hearts\n",
      "Four of Spades\n",
      "Ace of Spades\n",
      "King of Spades\n",
      "Five of Spades\n",
      "Five of Clubs\n",
      "Six of Clubs\n",
      "Eight of Clubs\n",
      "Queen of Spades\n",
      "Three of Hearts\n",
      "Queen of Clubs\n",
      "Jack of Spades\n",
      "Ten of Clubs\n",
      "Seven of Clubs\n",
      "Six of Hearts\n",
      "Queen of Diamonds\n",
      "Eight of Spades\n",
      "Ten of Hearts\n",
      "Four of Diamonds\n",
      "King of Diamonds\n",
      "Jack of Diamonds\n",
      "Ace of Diamonds\n",
      "Two of Spades\n",
      "Two of Clubs\n",
      "King of Clubs\n",
      "Queen of Hearts\n",
      "Ten of Spades\n",
      "Seven of Hearts\n",
      "Jack of Hearts\n",
      "Five of Diamonds\n",
      "King of Hearts\n",
      "Ten of Diamonds\n",
      "Three of Clubs\n",
      "Nine of Clubs\n",
      "Four of Hearts\n",
      "Three of Diamonds\n",
      "Ace of Clubs\n",
      "Two of Diamonds\n",
      "Two of Hearts\n",
      "Nine of Diamonds\n",
      "Nine of Spades\n",
      "Six of Spades\n",
      "Ace of Hearts\n",
      "Four of Clubs\n",
      "Eight of Diamonds\n",
      "Nine of Hearts\n",
      "Seven of Spades\n",
      "Seven of Diamonds\n",
      "Six of Diamonds\n",
      "Jack of Clubs\n"
     ]
    }
   ],
   "source": [
    "for card in deck.all_cards:\n",
    "    print(card)"
   ]
  },
  {
   "cell_type": "code",
   "execution_count": null,
   "id": "a11a2525",
   "metadata": {},
   "outputs": [],
   "source": []
  },
  {
   "cell_type": "markdown",
   "id": "3ec73201",
   "metadata": {},
   "source": [
    "# 3. Player Class"
   ]
  },
  {
   "cell_type": "code",
   "execution_count": null,
   "id": "c0cde8b1",
   "metadata": {},
   "outputs": [],
   "source": [
    "class Player:\n",
    "    \n",
    "    new_line = '\\n'\n",
    "    tab = '\\t'\n",
    "    \n",
    "    def __init__(s, name, bank):\n",
    "        s.name = name\n",
    "        s.bank = bank\n",
    "        s.player_hand = []\n",
    "        \n",
    "        \n",
    "    def read_current_hand(s):\n",
    "        print(f\"{name} has: {new_line}\")\n",
    "        for card in s.player_hand:\n",
    "            print(f\"{tab}{card} {new_line}\")\n"
   ]
  },
  {
   "cell_type": "code",
   "execution_count": null,
   "id": "a2d6056b",
   "metadata": {},
   "outputs": [],
   "source": []
  },
  {
   "cell_type": "markdown",
   "id": "9e4641c4",
   "metadata": {},
   "source": [
    "# 4. Table Class"
   ]
  },
  {
   "cell_type": "code",
   "execution_count": null,
   "id": "cdcfdfe5",
   "metadata": {},
   "outputs": [],
   "source": [
    "class Table:\n",
    "    \n",
    "    def __init__(s):\n",
    "        s.dealer_hand = []\n",
    "        s.pot = 0\n",
    "    \n",
    "    def read_dealer_hand(s):\n",
    "        pass\n",
    "        "
   ]
  },
  {
   "cell_type": "code",
   "execution_count": null,
   "id": "aac080a2",
   "metadata": {},
   "outputs": [],
   "source": []
  },
  {
   "cell_type": "markdown",
   "id": "76024e64",
   "metadata": {},
   "source": [
    "# 5. Game Logic"
   ]
  },
  {
   "cell_type": "code",
   "execution_count": null,
   "id": "939d1b47",
   "metadata": {},
   "outputs": [],
   "source": [
    "# if deck size is zero, append new shuffled deck to current deck\n",
    "\n",
    "# player starts play with bet 10, 15, or 20...\n",
    "    # bet goes in table's pot\n",
    "\n",
    "# initial deal: two cards to dealer, two cards to player\n",
    "\n",
    "# need table (or show cards): print first dealer card, print both cards for player\n",
    "\n",
    "# playing menu: \n",
    "    #  \"hit\" (take a card)  || 0, 5, or 10 raise\n",
    "        # evaluate player points with each new card. Determine 21 or bust\n",
    "            #  if 21, auto win\n",
    "            #  if bust, auto loose \n",
    "    #  \"stand\" (end their turn and stop without taking a card)\n",
    "        # Start dealer play\n",
    "\n",
    "# Dealer play: continues to pull card until they beat player or bust\n",
    "    # if dealer beats player's points, player looses\n",
    "    # if dealer busts, player wins\n",
    "\n",
    "# game menu\n",
    "    #  Continue -> replay\n",
    "    #  End -> show bank\n",
    "\n"
   ]
  },
  {
   "cell_type": "code",
   "execution_count": null,
   "id": "0a78ce66",
   "metadata": {},
   "outputs": [],
   "source": []
  },
  {
   "cell_type": "code",
   "execution_count": null,
   "id": "f2349fcc",
   "metadata": {},
   "outputs": [],
   "source": []
  }
 ],
 "metadata": {
  "kernelspec": {
   "display_name": "Python 3 (ipykernel)",
   "language": "python",
   "name": "python3"
  },
  "language_info": {
   "codemirror_mode": {
    "name": "ipython",
    "version": 3
   },
   "file_extension": ".py",
   "mimetype": "text/x-python",
   "name": "python",
   "nbconvert_exporter": "python",
   "pygments_lexer": "ipython3",
   "version": "3.9.12"
  }
 },
 "nbformat": 4,
 "nbformat_minor": 5
}
