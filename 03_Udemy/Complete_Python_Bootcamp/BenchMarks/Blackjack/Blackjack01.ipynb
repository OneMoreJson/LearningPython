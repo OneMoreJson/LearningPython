{
 "cells": [
  {
   "cell_type": "markdown",
   "id": "76073b1b",
   "metadata": {},
   "source": [
    "# 1. Card Class"
   ]
  },
  {
   "cell_type": "code",
   "execution_count": 1,
   "id": "0bc8ab60",
   "metadata": {},
   "outputs": [],
   "source": [
    "import random\n",
    "\n",
    "# Global V\n",
    "new_line = '\\n'\n",
    "tab = '\\t'"
   ]
  },
  {
   "cell_type": "code",
   "execution_count": 2,
   "id": "b55d1c85",
   "metadata": {},
   "outputs": [],
   "source": [
    "suits = ('Hearts', 'Diamonds', 'Spades', 'Clubs')\n",
    "\n",
    "ranks = ('Two', 'Three', 'Four', 'Five', 'Six', 'Seven', 'Eight', 'Nine', 'Ten', 'Jack', 'Queen', 'King', 'Ace' )\n",
    "\n",
    "values = {'Two': 2,\n",
    "          'Three': 3,\n",
    "          'Four': 4,\n",
    "          'Five': 5,\n",
    "          'Six': 6, \n",
    "          'Seven': 7,\n",
    "          'Eight': 8,\n",
    "          'Nine': 9, \n",
    "          'Ten': 10,\n",
    "          'Jack': 10,\n",
    "          'Queen': 10,\n",
    "          'King': 10,\n",
    "          'Ace': 10}\n"
   ]
  },
  {
   "cell_type": "code",
   "execution_count": 3,
   "id": "30297565",
   "metadata": {},
   "outputs": [],
   "source": [
    "class Card:\n",
    "    \n",
    "    def __init__(s, suit, rank):\n",
    "        s.suit = suit \n",
    "        s.rank = rank\n",
    "        s.value = values[rank]\n",
    "    \n",
    "    def __str__(s):\n",
    "        return s.rank + ' of ' + s.suit\n",
    "        \n",
    "        "
   ]
  },
  {
   "cell_type": "code",
   "execution_count": null,
   "id": "2f3ae1b0",
   "metadata": {},
   "outputs": [],
   "source": []
  },
  {
   "cell_type": "markdown",
   "id": "fddc040b",
   "metadata": {},
   "source": [
    "# 2. Deck Class"
   ]
  },
  {
   "cell_type": "code",
   "execution_count": 4,
   "id": "ec481a7e",
   "metadata": {},
   "outputs": [],
   "source": [
    "class Deck:\n",
    "    \n",
    "    def __init__(s):\n",
    "        s.all_cards = []\n",
    "        \n",
    "        for suit in suits:\n",
    "            for rank in ranks:\n",
    "                \n",
    "                # Create the Card\n",
    "                create_card = Card(suit, rank)\n",
    "                \n",
    "                # Place in Deck\n",
    "                s.all_cards.append(create_card)\n",
    "        \n",
    "    def shuffle(s):\n",
    "        random.shuffle(s.all_cards)\n",
    "        \n",
    "    def deal_one(s):\n",
    "        return s.all_cards.pop()\n",
    "        \n",
    "        "
   ]
  },
  {
   "cell_type": "code",
   "execution_count": 5,
   "id": "f19af9c9",
   "metadata": {},
   "outputs": [],
   "source": [
    "deck = Deck()"
   ]
  },
  {
   "cell_type": "code",
   "execution_count": 6,
   "id": "e6211d77",
   "metadata": {},
   "outputs": [],
   "source": [
    "deck.shuffle()"
   ]
  },
  {
   "cell_type": "code",
   "execution_count": 7,
   "id": "b4df4acb",
   "metadata": {},
   "outputs": [
    {
     "name": "stdout",
     "output_type": "stream",
     "text": [
      "Queen of Clubs\n",
      "Ace of Hearts\n",
      "Four of Clubs\n",
      "Seven of Spades\n",
      "Queen of Hearts\n",
      "Eight of Spades\n",
      "Ten of Spades\n",
      "Jack of Clubs\n",
      "Five of Diamonds\n",
      "Eight of Hearts\n",
      "Three of Diamonds\n",
      "Four of Hearts\n",
      "Five of Hearts\n",
      "Ace of Spades\n",
      "Queen of Spades\n",
      "Four of Spades\n",
      "Two of Spades\n",
      "Four of Diamonds\n",
      "Nine of Hearts\n",
      "Six of Diamonds\n",
      "Jack of Hearts\n",
      "Two of Diamonds\n",
      "King of Spades\n",
      "Eight of Diamonds\n",
      "Three of Clubs\n",
      "King of Hearts\n",
      "Jack of Diamonds\n",
      "Six of Hearts\n",
      "Five of Spades\n",
      "Eight of Clubs\n",
      "Three of Hearts\n",
      "Ten of Diamonds\n",
      "Ten of Clubs\n",
      "Seven of Diamonds\n",
      "Six of Clubs\n",
      "Seven of Hearts\n",
      "King of Clubs\n",
      "Ace of Clubs\n",
      "Queen of Diamonds\n",
      "Two of Hearts\n",
      "King of Diamonds\n",
      "Nine of Spades\n",
      "Jack of Spades\n",
      "Two of Clubs\n",
      "Nine of Clubs\n",
      "Six of Spades\n",
      "Ace of Diamonds\n",
      "Ten of Hearts\n",
      "Five of Clubs\n",
      "Seven of Clubs\n",
      "Three of Spades\n",
      "Nine of Diamonds\n"
     ]
    }
   ],
   "source": [
    "for card in deck.all_cards:\n",
    "    print(card)"
   ]
  },
  {
   "cell_type": "code",
   "execution_count": 8,
   "id": "dd3630ab",
   "metadata": {},
   "outputs": [
    {
     "name": "stdout",
     "output_type": "stream",
     "text": [
      "Queen of Clubs\n"
     ]
    }
   ],
   "source": [
    "print(deck.all_cards[0])"
   ]
  },
  {
   "cell_type": "code",
   "execution_count": null,
   "id": "a11a2525",
   "metadata": {},
   "outputs": [],
   "source": []
  },
  {
   "cell_type": "markdown",
   "id": "3ec73201",
   "metadata": {},
   "source": [
    "# 3. Player Class"
   ]
  },
  {
   "cell_type": "code",
   "execution_count": 9,
   "id": "c0cde8b1",
   "metadata": {},
   "outputs": [],
   "source": [
    "class Player:\n",
    "    \n",
    "    def __init__(s, name, bank):\n",
    "        s.name = name\n",
    "        s.bank = bank\n",
    "        s.player_hand = []\n",
    "        \n",
    "    def add_card(s, card):\n",
    "        s.player_hand.append(card)\n",
    "        \n",
    "    def reset_hand(s):\n",
    "        s.player_hand = []\n",
    "\n",
    "    def bet(s, amount):\n",
    "        s.bank = s.bank - amount\n",
    "        return amount\n",
    "    \n",
    "    def add_to_bank(s, amount):\n",
    "        s.bank = s.bank + amount\n",
    "        \n",
    "    def read_current_hand(s):\n",
    "        print(f\"{s.name} has: {new_line}\")\n",
    "        for card in s.player_hand:\n",
    "            print(f\"{tab}{card} {new_line}\")\n"
   ]
  },
  {
   "cell_type": "code",
   "execution_count": 10,
   "id": "a2d6056b",
   "metadata": {},
   "outputs": [],
   "source": [
    "player = Player('player_one', 500)"
   ]
  },
  {
   "cell_type": "code",
   "execution_count": 11,
   "id": "388f8f79",
   "metadata": {},
   "outputs": [
    {
     "name": "stdout",
     "output_type": "stream",
     "text": [
      "500\n"
     ]
    }
   ],
   "source": [
    "print(player.bank)"
   ]
  },
  {
   "cell_type": "code",
   "execution_count": 12,
   "id": "4d2c25d9",
   "metadata": {},
   "outputs": [],
   "source": [
    "player.add_card(deck.all_cards[0])"
   ]
  },
  {
   "cell_type": "code",
   "execution_count": 13,
   "id": "01e21088",
   "metadata": {},
   "outputs": [],
   "source": [
    "player.add_card(deck.all_cards[1])"
   ]
  },
  {
   "cell_type": "code",
   "execution_count": 14,
   "id": "185f5ce4",
   "metadata": {},
   "outputs": [
    {
     "name": "stdout",
     "output_type": "stream",
     "text": [
      "player_one has: \n",
      "\n",
      "\tQueen of Clubs \n",
      "\n",
      "\tAce of Hearts \n",
      "\n"
     ]
    }
   ],
   "source": [
    "player.read_current_hand()"
   ]
  },
  {
   "cell_type": "code",
   "execution_count": 15,
   "id": "c0adf010",
   "metadata": {},
   "outputs": [
    {
     "name": "stdout",
     "output_type": "stream",
     "text": [
      "400\n"
     ]
    }
   ],
   "source": [
    "player.reduce_bank(100)\n",
    "print(player.bank)"
   ]
  },
  {
   "cell_type": "code",
   "execution_count": 16,
   "id": "3b97b2cf",
   "metadata": {},
   "outputs": [
    {
     "name": "stdout",
     "output_type": "stream",
     "text": [
      "450\n"
     ]
    }
   ],
   "source": [
    "player.add_to_bank(50)\n",
    "print(player.bank)"
   ]
  },
  {
   "cell_type": "code",
   "execution_count": 17,
   "id": "8b62d635",
   "metadata": {},
   "outputs": [
    {
     "name": "stdout",
     "output_type": "stream",
     "text": [
      "-50\n"
     ]
    }
   ],
   "source": [
    "player.reduce_bank(500)\n",
    "print(player.bank)"
   ]
  },
  {
   "cell_type": "code",
   "execution_count": null,
   "id": "2b0d82df",
   "metadata": {},
   "outputs": [],
   "source": []
  },
  {
   "cell_type": "markdown",
   "id": "9e4641c4",
   "metadata": {},
   "source": [
    "# 4. Table Class"
   ]
  },
  {
   "cell_type": "code",
   "execution_count": 84,
   "id": "cdcfdfe5",
   "metadata": {},
   "outputs": [],
   "source": [
    "class Table:\n",
    "    \n",
    "    def __init__(s):\n",
    "        s.dealer_hand = []\n",
    "        s.hidden_card = [None]\n",
    "        s.pot = 0\n",
    "    \n",
    "    def read_dealer_hand(s):\n",
    "        print(\"The dealer's shows: \")\n",
    "        for card in table.dealer_hand:\n",
    "            print(f'{tab}{card}')\n",
    "    \n",
    "    def add_to_pot(s, amount):\n",
    "        s.pot = s.pot + amount\n",
    "        \n",
    "    def read_pot_amount(s):\n",
    "        print(f'The current pot is: ${s.pot}')\n",
    "        "
   ]
  },
  {
   "cell_type": "code",
   "execution_count": 85,
   "id": "242abc18",
   "metadata": {},
   "outputs": [],
   "source": [
    "table = Table()"
   ]
  },
  {
   "cell_type": "code",
   "execution_count": 86,
   "id": "d4fb3cfc",
   "metadata": {},
   "outputs": [
    {
     "name": "stdout",
     "output_type": "stream",
     "text": [
      "[None]\n"
     ]
    }
   ],
   "source": [
    "print(table.hidden_card)"
   ]
  },
  {
   "cell_type": "code",
   "execution_count": 87,
   "id": "b632558a",
   "metadata": {},
   "outputs": [
    {
     "name": "stdout",
     "output_type": "stream",
     "text": [
      "Three of Diamonds\n"
     ]
    }
   ],
   "source": [
    "table.hidden_card = deck.all_cards[10]\n",
    "print(table.hidden_card)"
   ]
  },
  {
   "cell_type": "code",
   "execution_count": 88,
   "id": "2695bd8a",
   "metadata": {},
   "outputs": [],
   "source": [
    "table.dealer_hand.append(deck.all_cards[9])"
   ]
  },
  {
   "cell_type": "code",
   "execution_count": 89,
   "id": "098e72b5",
   "metadata": {},
   "outputs": [
    {
     "name": "stdout",
     "output_type": "stream",
     "text": [
      "Eight of Hearts\n"
     ]
    }
   ],
   "source": [
    "for card in table.dealer_hand:\n",
    "    print(card)"
   ]
  },
  {
   "cell_type": "code",
   "execution_count": 90,
   "id": "aac080a2",
   "metadata": {},
   "outputs": [],
   "source": [
    "table.dealer_hand.append(table.hidden_card)"
   ]
  },
  {
   "cell_type": "code",
   "execution_count": 91,
   "id": "1ca542d5",
   "metadata": {},
   "outputs": [
    {
     "name": "stdout",
     "output_type": "stream",
     "text": [
      "Eight of Hearts\n",
      "Three of Diamonds\n"
     ]
    }
   ],
   "source": [
    "for card in table.dealer_hand:\n",
    "    print(card)"
   ]
  },
  {
   "cell_type": "code",
   "execution_count": 92,
   "id": "b4b5c9a8",
   "metadata": {},
   "outputs": [],
   "source": [
    "table.dealer_hand.append(deck.all_cards[11])"
   ]
  },
  {
   "cell_type": "code",
   "execution_count": 93,
   "id": "f061d2db",
   "metadata": {},
   "outputs": [
    {
     "name": "stdout",
     "output_type": "stream",
     "text": [
      "Eight of Hearts\n",
      "Three of Diamonds\n",
      "Four of Hearts\n"
     ]
    }
   ],
   "source": [
    "for card in table.dealer_hand:\n",
    "    print(card)"
   ]
  },
  {
   "cell_type": "code",
   "execution_count": 94,
   "id": "375d71f9",
   "metadata": {},
   "outputs": [
    {
     "name": "stdout",
     "output_type": "stream",
     "text": [
      "The dealer's shows: \n",
      "\tEight of Hearts\n",
      "\tThree of Diamonds\n",
      "\tFour of Hearts\n"
     ]
    }
   ],
   "source": [
    "table.read_dealer_hand()"
   ]
  },
  {
   "cell_type": "code",
   "execution_count": null,
   "id": "825e6e96",
   "metadata": {},
   "outputs": [],
   "source": []
  },
  {
   "cell_type": "code",
   "execution_count": null,
   "id": "542fb5c9",
   "metadata": {},
   "outputs": [],
   "source": []
  },
  {
   "cell_type": "markdown",
   "id": "76024e64",
   "metadata": {},
   "source": [
    "# 5. Game Logic"
   ]
  },
  {
   "cell_type": "code",
   "execution_count": null,
   "id": "939d1b47",
   "metadata": {},
   "outputs": [],
   "source": [
    "# if deck size is zero, append new shuffled deck to current deck\n",
    "\n",
    "# player starts play with bet 10, 15, or 20...\n",
    "    # bet goes in table's pot\n",
    "\n",
    "# initial deal: two cards to dealer, two cards to player\n",
    "\n",
    "# need table (or show cards): print first dealer card, print both cards for player\n",
    "\n",
    "# playing menu: \n",
    "    #  \"hit\" (take a card)  || 0, 5, or 10 raise\n",
    "        # evaluate player points with each new card. Determine 21 or bust\n",
    "            #  if 21, auto win\n",
    "            #  if bust, auto loose \n",
    "    #  \"stand\" (end their turn and stop without taking a card)\n",
    "        # Start dealer play\n",
    "\n",
    "# Dealer play: continues to pull card until they beat player or bust\n",
    "    # if dealer beats player's points, player looses\n",
    "    # if dealer busts, player wins\n",
    "\n",
    "# game menu\n",
    "    #  Continue -> replay\n",
    "    #  End -> show bank\n",
    "\n"
   ]
  },
  {
   "cell_type": "code",
   "execution_count": null,
   "id": "0a78ce66",
   "metadata": {},
   "outputs": [],
   "source": []
  },
  {
   "cell_type": "code",
   "execution_count": null,
   "id": "89e78760",
   "metadata": {},
   "outputs": [],
   "source": []
  },
  {
   "cell_type": "code",
   "execution_count": null,
   "id": "f2349fcc",
   "metadata": {},
   "outputs": [],
   "source": []
  },
  {
   "cell_type": "code",
   "execution_count": null,
   "id": "e131c584",
   "metadata": {},
   "outputs": [],
   "source": []
  }
 ],
 "metadata": {
  "kernelspec": {
   "display_name": "Python 3 (ipykernel)",
   "language": "python",
   "name": "python3"
  },
  "language_info": {
   "codemirror_mode": {
    "name": "ipython",
    "version": 3
   },
   "file_extension": ".py",
   "mimetype": "text/x-python",
   "name": "python",
   "nbconvert_exporter": "python",
   "pygments_lexer": "ipython3",
   "version": "3.9.12"
  }
 },
 "nbformat": 4,
 "nbformat_minor": 5
}
