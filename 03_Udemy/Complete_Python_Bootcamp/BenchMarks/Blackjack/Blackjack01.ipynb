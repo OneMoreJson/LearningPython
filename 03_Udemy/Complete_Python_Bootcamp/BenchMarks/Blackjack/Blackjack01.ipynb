{
 "cells": [
  {
   "cell_type": "markdown",
   "id": "76073b1b",
   "metadata": {},
   "source": [
    "# 1. Card Class"
   ]
  },
  {
   "cell_type": "code",
   "execution_count": 2,
   "id": "b55d1c85",
   "metadata": {},
   "outputs": [],
   "source": [
    "suits = ('Hearts', 'Diamonds', 'Spades', 'Clubs')\n",
    "\n",
    "ranks = ('Two', 'Three', 'Four', 'Five', 'Six', 'Seven', 'Eight', 'Nine', 'Ten', 'Jack', 'Queen', 'King', 'Ace' )\n",
    "\n",
    "values = {'Two': 2,\n",
    "          'Three': 3,\n",
    "          'Four': 4,\n",
    "          'Five': 5,\n",
    "          'Six': 6, \n",
    "          'Seven': 7,\n",
    "          'Eight': 8,\n",
    "          'Nine': 9, \n",
    "          'Ten': 10,\n",
    "          'Jack': 10,\n",
    "          'Queen': 10,\n",
    "          'King': 10,\n",
    "          'Ace': 10}\n"
   ]
  },
  {
   "cell_type": "code",
   "execution_count": 3,
   "id": "30297565",
   "metadata": {},
   "outputs": [],
   "source": [
    "class Card:\n",
    "    \n",
    "    def __init__(s, suit, rank):\n",
    "        s.suit = suit \n",
    "        s.rank = rank\n",
    "        s.value = values[rank]\n",
    "    \n",
    "    def __str__(s):\n",
    "        return s.rank + ' of ' + s.suit\n",
    "        \n",
    "        "
   ]
  },
  {
   "cell_type": "code",
   "execution_count": null,
   "id": "2f3ae1b0",
   "metadata": {},
   "outputs": [],
   "source": []
  },
  {
   "cell_type": "markdown",
   "id": "fddc040b",
   "metadata": {},
   "source": [
    "# 2. Deck Class"
   ]
  },
  {
   "cell_type": "code",
   "execution_count": 4,
   "id": "ec481a7e",
   "metadata": {},
   "outputs": [],
   "source": [
    "class Deck:\n",
    "    \n",
    "    def __init__(s):\n",
    "        s.all_cards = []\n",
    "        \n",
    "        for suit in suits:\n",
    "            for rank in ranks:\n",
    "                \n",
    "                # Create the Card\n",
    "                create_card = Card(suit, rank)\n",
    "                \n",
    "                # Place in Deck\n",
    "                s.all_cards.append(create_card)\n",
    "        \n",
    "    def shuffle(s):\n",
    "        random.shuffle(s.all_cards)\n",
    "        \n",
    "    def deal_one(s):\n",
    "        return s.all_cards.pop()\n",
    "        \n",
    "        "
   ]
  },
  {
   "cell_type": "code",
   "execution_count": null,
   "id": "f19af9c9",
   "metadata": {},
   "outputs": [],
   "source": []
  },
  {
   "cell_type": "markdown",
   "id": "a7f52e36",
   "metadata": {},
   "source": [
    "# 3. Player Class"
   ]
  },
  {
   "cell_type": "code",
   "execution_count": 7,
   "id": "70b0cef0",
   "metadata": {},
   "outputs": [],
   "source": [
    "class Player:\n",
    "    \n",
    "    def __init__(s, name, bank):\n",
    "        s.name = name\n",
    "        s.bank = bank\n"
   ]
  },
  {
   "cell_type": "code",
   "execution_count": null,
   "id": "df8add4d",
   "metadata": {},
   "outputs": [],
   "source": []
  },
  {
   "cell_type": "markdown",
   "id": "8ecbe0ac",
   "metadata": {},
   "source": [
    "# 4. Table Class"
   ]
  },
  {
   "cell_type": "code",
   "execution_count": null,
   "id": "9b1d95bb",
   "metadata": {},
   "outputs": [],
   "source": [
    "class Table:\n",
    "    \n",
    "    def __init__(s):\n",
    "        s.dealer_hand = []\n",
    "        "
   ]
  },
  {
   "cell_type": "code",
   "execution_count": null,
   "id": "e1edc77e",
   "metadata": {},
   "outputs": [],
   "source": []
  },
  {
   "cell_type": "markdown",
   "id": "b75b43a2",
   "metadata": {},
   "source": [
    "# 5. Game Functions"
   ]
  },
  {
   "cell_type": "code",
   "execution_count": 6,
   "id": "3abcbf0f",
   "metadata": {},
   "outputs": [],
   "source": [
    "# start with bet 10, 15, or 20...\n",
    "\n",
    "# initial deal: two cards to dealer, two cards to player\n",
    "\n",
    "# need table (or show cards): print first dealer card, print both cards for player\n",
    "\n",
    "# playing menu: \n",
    "    #  \"hit\" (take a card)  || 0, 5, or 10 raise\n",
    "        # evaluate player points with each new card. Determine 21 or bust\n",
    "            #  if 21, auto win\n",
    "            #  if bust, auto loose \n",
    "    #  \"stand\" (end their turn and stop without taking a card)\n",
    "        # Start dealer play\n",
    "\n",
    "# Dealer play: continues to pull card until they beat player or bust\n",
    "    # if dealer beats player's points, player looses\n",
    "    # if dealer busts, player wins\n",
    "\n",
    "# game menu\n",
    "    #  Continue -> replay\n",
    "    #  End -> show bank\n",
    "\n"
   ]
  },
  {
   "cell_type": "code",
   "execution_count": null,
   "id": "ca500650",
   "metadata": {},
   "outputs": [],
   "source": []
  },
  {
   "cell_type": "code",
   "execution_count": null,
   "id": "70db33d8",
   "metadata": {},
   "outputs": [],
   "source": []
  }
 ],
 "metadata": {
  "kernelspec": {
   "display_name": "Python 3 (ipykernel)",
   "language": "python",
   "name": "python3"
  },
  "language_info": {
   "codemirror_mode": {
    "name": "ipython",
    "version": 3
   },
   "file_extension": ".py",
   "mimetype": "text/x-python",
   "name": "python",
   "nbconvert_exporter": "python",
   "pygments_lexer": "ipython3",
   "version": "3.9.12"
  }
 },
 "nbformat": 4,
 "nbformat_minor": 5
}
