{
 "cells": [
  {
   "cell_type": "markdown",
   "id": "76073b1b",
   "metadata": {},
   "source": [
    "# 1. Card Class"
   ]
  },
  {
   "cell_type": "code",
   "execution_count": 2,
   "id": "b55d1c85",
   "metadata": {},
   "outputs": [],
   "source": [
    "suits = ('Hearts', 'Diamonds', 'Spades', 'Clubs')\n",
    "\n",
    "ranks = ('Two', 'Three', 'Four', 'Five', 'Six', 'Seven', 'Eight', 'Nine', 'Ten', 'Jack', 'Queen', 'King', 'Ace' )\n",
    "\n",
    "values = {'Two': 2,\n",
    "          'Three': 3,\n",
    "          'Four': 4,\n",
    "          'Five': 5,\n",
    "          'Six': 6, \n",
    "          'Seven': 7,\n",
    "          'Eight': 8,\n",
    "          'Nine': 9, \n",
    "          'Ten': 10,\n",
    "          'Jack': 10,\n",
    "          'Queen': 10,\n",
    "          'King': 10,\n",
    "          'Ace': 10}"
   ]
  },
  {
   "cell_type": "code",
   "execution_count": 3,
   "id": "30297565",
   "metadata": {},
   "outputs": [],
   "source": [
    "class Card:\n",
    "    \n",
    "    def __init__(s, suit, rank):\n",
    "        s.suit = suit \n",
    "        s.rank = rank\n",
    "        s.value = values[rank]\n",
    "    \n",
    "    def __str__(s):\n",
    "        return s.rank + ' of ' + s.suit\n",
    "        \n",
    "        "
   ]
  },
  {
   "cell_type": "code",
   "execution_count": null,
   "id": "2f3ae1b0",
   "metadata": {},
   "outputs": [],
   "source": []
  },
  {
   "cell_type": "markdown",
   "id": "fddc040b",
   "metadata": {},
   "source": [
    "# 2. Deck Class"
   ]
  },
  {
   "cell_type": "code",
   "execution_count": 4,
   "id": "ec481a7e",
   "metadata": {},
   "outputs": [],
   "source": [
    "class Deck:\n",
    "    \n",
    "    def __init__(s):\n",
    "        s.all_cards = []\n",
    "        \n",
    "        for suit in suits:\n",
    "            for rank in ranks:\n",
    "                \n",
    "                # Create the Card\n",
    "                create_card = Card(suit, rank)\n",
    "                \n",
    "                # Place in Deck\n",
    "                s.all_cards.append(create_card)\n",
    "        \n",
    "    def shuffle(s):\n",
    "        random.shuffle(s.all_cards)\n",
    "        \n",
    "    def deal_one(s):\n",
    "        return s.all_cards.pop()\n",
    "        \n",
    "        "
   ]
  },
  {
   "cell_type": "code",
   "execution_count": null,
   "id": "f19af9c9",
   "metadata": {},
   "outputs": [],
   "source": []
  }
 ],
 "metadata": {
  "kernelspec": {
   "display_name": "Python 3 (ipykernel)",
   "language": "python",
   "name": "python3"
  },
  "language_info": {
   "codemirror_mode": {
    "name": "ipython",
    "version": 3
   },
   "file_extension": ".py",
   "mimetype": "text/x-python",
   "name": "python",
   "nbconvert_exporter": "python",
   "pygments_lexer": "ipython3",
   "version": "3.9.12"
  }
 },
 "nbformat": 4,
 "nbformat_minor": 5
}
