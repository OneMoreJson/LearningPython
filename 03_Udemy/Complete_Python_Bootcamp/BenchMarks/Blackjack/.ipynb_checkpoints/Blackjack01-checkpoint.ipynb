{
 "cells": [
  {
   "cell_type": "markdown",
   "id": "76073b1b",
   "metadata": {},
   "source": [
    "# 1. Card Class"
   ]
  },
  {
   "cell_type": "code",
   "execution_count": 1,
   "id": "0bc8ab60",
   "metadata": {},
   "outputs": [],
   "source": [
    "import random\n",
    "\n",
    "# Global V\n",
    "new_line = '\\n'\n",
    "tab = '\\t'"
   ]
  },
  {
   "cell_type": "code",
   "execution_count": 2,
   "id": "b55d1c85",
   "metadata": {},
   "outputs": [],
   "source": [
    "suits = ('Hearts', 'Diamonds', 'Spades', 'Clubs')\n",
    "\n",
    "ranks = ('Two', 'Three', 'Four', 'Five', 'Six', 'Seven', 'Eight', 'Nine', 'Ten', 'Jack', 'Queen', 'King', 'Ace' )\n",
    "\n",
    "values = {'Two': 2,\n",
    "          'Three': 3,\n",
    "          'Four': 4,\n",
    "          'Five': 5,\n",
    "          'Six': 6, \n",
    "          'Seven': 7,\n",
    "          'Eight': 8,\n",
    "          'Nine': 9, \n",
    "          'Ten': 10,\n",
    "          'Jack': 10,\n",
    "          'Queen': 10,\n",
    "          'King': 10,\n",
    "          'Ace': 10}\n"
   ]
  },
  {
   "cell_type": "code",
   "execution_count": 3,
   "id": "30297565",
   "metadata": {},
   "outputs": [],
   "source": [
    "class Card:\n",
    "    \n",
    "    def __init__(s, suit, rank):\n",
    "        s.suit = suit \n",
    "        s.rank = rank\n",
    "        s.value = values[rank]\n",
    "    \n",
    "    def __str__(s):\n",
    "        return s.rank + ' of ' + s.suit\n",
    "        \n",
    "        "
   ]
  },
  {
   "cell_type": "code",
   "execution_count": null,
   "id": "2f3ae1b0",
   "metadata": {},
   "outputs": [],
   "source": []
  },
  {
   "cell_type": "markdown",
   "id": "fddc040b",
   "metadata": {},
   "source": [
    "# 2. Deck Class"
   ]
  },
  {
   "cell_type": "code",
   "execution_count": 4,
   "id": "ec481a7e",
   "metadata": {},
   "outputs": [],
   "source": [
    "class Deck:\n",
    "    \n",
    "    def __init__(s):\n",
    "        s.all_cards = []\n",
    "        \n",
    "        for suit in suits:\n",
    "            for rank in ranks:\n",
    "                \n",
    "                # Create the Card\n",
    "                create_card = Card(suit, rank)\n",
    "                \n",
    "                # Place in Deck\n",
    "                s.all_cards.append(create_card)\n",
    "        \n",
    "    def shuffle(s):\n",
    "        random.shuffle(s.all_cards)\n",
    "        \n",
    "    def deal_one(s):\n",
    "        return s.all_cards.pop()\n",
    "        \n",
    "        "
   ]
  },
  {
   "cell_type": "code",
   "execution_count": 5,
   "id": "f19af9c9",
   "metadata": {},
   "outputs": [],
   "source": [
    "deck = Deck()"
   ]
  },
  {
   "cell_type": "code",
   "execution_count": 6,
   "id": "e6211d77",
   "metadata": {},
   "outputs": [],
   "source": [
    "deck.shuffle()"
   ]
  },
  {
   "cell_type": "code",
   "execution_count": 7,
   "id": "b4df4acb",
   "metadata": {},
   "outputs": [
    {
     "name": "stdout",
     "output_type": "stream",
     "text": [
      "Ten of Diamonds\n",
      "Eight of Spades\n",
      "Nine of Spades\n",
      "Three of Diamonds\n",
      "Nine of Diamonds\n",
      "Five of Clubs\n",
      "King of Spades\n",
      "Jack of Hearts\n",
      "Nine of Clubs\n",
      "Ace of Hearts\n",
      "Two of Hearts\n",
      "Six of Hearts\n",
      "Six of Diamonds\n",
      "King of Hearts\n",
      "Three of Spades\n",
      "Ace of Clubs\n",
      "Queen of Hearts\n",
      "Eight of Clubs\n",
      "Nine of Hearts\n",
      "Ten of Spades\n",
      "Queen of Diamonds\n",
      "Seven of Spades\n",
      "Queen of Clubs\n",
      "Four of Diamonds\n",
      "Ace of Diamonds\n",
      "Six of Spades\n",
      "Seven of Clubs\n",
      "Eight of Hearts\n",
      "Two of Spades\n",
      "Queen of Spades\n",
      "Five of Diamonds\n",
      "King of Diamonds\n",
      "Three of Hearts\n",
      "Five of Hearts\n",
      "Five of Spades\n",
      "Seven of Diamonds\n",
      "Four of Clubs\n",
      "Jack of Diamonds\n",
      "Four of Spades\n",
      "Ten of Clubs\n",
      "Ace of Spades\n",
      "Jack of Spades\n",
      "Two of Clubs\n",
      "Six of Clubs\n",
      "Ten of Hearts\n",
      "Three of Clubs\n",
      "Eight of Diamonds\n",
      "King of Clubs\n",
      "Jack of Clubs\n",
      "Four of Hearts\n",
      "Seven of Hearts\n",
      "Two of Diamonds\n"
     ]
    }
   ],
   "source": [
    "for card in deck.all_cards:\n",
    "    print(card)"
   ]
  },
  {
   "cell_type": "code",
   "execution_count": 8,
   "id": "dd3630ab",
   "metadata": {},
   "outputs": [
    {
     "name": "stdout",
     "output_type": "stream",
     "text": [
      "Ten of Diamonds\n"
     ]
    }
   ],
   "source": [
    "print(deck.all_cards[0])"
   ]
  },
  {
   "cell_type": "code",
   "execution_count": null,
   "id": "a11a2525",
   "metadata": {},
   "outputs": [],
   "source": []
  },
  {
   "cell_type": "markdown",
   "id": "3ec73201",
   "metadata": {},
   "source": [
    "# 3. Player Class"
   ]
  },
  {
   "cell_type": "code",
   "execution_count": 9,
   "id": "c0cde8b1",
   "metadata": {},
   "outputs": [],
   "source": [
    "class Player:\n",
    "    \n",
    "    def __init__(s, name, bank):\n",
    "        s.name = name\n",
    "        s.bank = bank\n",
    "        s.player_hand = []\n",
    "        \n",
    "    def add_card(s, card):\n",
    "        s.player_hand.append(card)\n",
    "        \n",
    "    def reset_hand(s):\n",
    "        s.player_hand = []\n",
    "\n",
    "    def bet(s, amount):\n",
    "        s.bank = s.bank - amount\n",
    "        return amount\n",
    "    \n",
    "    def add_to_bank(s, amount):\n",
    "        s.bank = s.bank + amount\n",
    "        \n",
    "    def read_current_hand(s):\n",
    "        print(f\"{s.name} has: {new_line}\")\n",
    "        for card in s.player_hand:\n",
    "            print(f\"{tab}{card} {new_line}\")\n"
   ]
  },
  {
   "cell_type": "code",
   "execution_count": 10,
   "id": "a2d6056b",
   "metadata": {},
   "outputs": [],
   "source": [
    "player = Player('player_one', 500)"
   ]
  },
  {
   "cell_type": "code",
   "execution_count": 11,
   "id": "388f8f79",
   "metadata": {},
   "outputs": [
    {
     "name": "stdout",
     "output_type": "stream",
     "text": [
      "500\n"
     ]
    }
   ],
   "source": [
    "print(player.bank)"
   ]
  },
  {
   "cell_type": "code",
   "execution_count": 12,
   "id": "4d2c25d9",
   "metadata": {},
   "outputs": [],
   "source": [
    "player.add_card(deck.all_cards[0])"
   ]
  },
  {
   "cell_type": "code",
   "execution_count": 13,
   "id": "01e21088",
   "metadata": {},
   "outputs": [],
   "source": [
    "player.add_card(deck.all_cards[1])"
   ]
  },
  {
   "cell_type": "code",
   "execution_count": 14,
   "id": "185f5ce4",
   "metadata": {},
   "outputs": [
    {
     "name": "stdout",
     "output_type": "stream",
     "text": [
      "player_one has: \n",
      "\n",
      "\tTen of Diamonds \n",
      "\n",
      "\tEight of Spades \n",
      "\n"
     ]
    }
   ],
   "source": [
    "player.read_current_hand()"
   ]
  },
  {
   "cell_type": "code",
   "execution_count": 15,
   "id": "b2388f23",
   "metadata": {},
   "outputs": [
    {
     "name": "stdout",
     "output_type": "stream",
     "text": [
      "400\n"
     ]
    }
   ],
   "source": [
    "player.bet(100)\n",
    "print(player.bank)"
   ]
  },
  {
   "cell_type": "code",
   "execution_count": 16,
   "id": "34ce6a35",
   "metadata": {},
   "outputs": [
    {
     "name": "stdout",
     "output_type": "stream",
     "text": [
      "450\n"
     ]
    }
   ],
   "source": [
    "player.add_to_bank(50)\n",
    "print(player.bank)"
   ]
  },
  {
   "cell_type": "code",
   "execution_count": null,
   "id": "0a984a5f",
   "metadata": {},
   "outputs": [],
   "source": []
  },
  {
   "cell_type": "markdown",
   "id": "9e4641c4",
   "metadata": {},
   "source": [
    "# 4. Table Class"
   ]
  },
  {
   "cell_type": "code",
   "execution_count": 17,
   "id": "cdcfdfe5",
   "metadata": {},
   "outputs": [],
   "source": [
    "class Table:\n",
    "    \n",
    "    def __init__(s):\n",
    "        s.dealer_hand = []\n",
    "        s.hidden_card = [None]\n",
    "        s.pot = 0\n",
    "    \n",
    "    def read_dealer_hand(s):\n",
    "        print(\"The dealer's shows: \")\n",
    "        for card in table.dealer_hand:\n",
    "            print(f'{tab}{card}')\n",
    "    \n",
    "    def add_to_pot(s, amount):\n",
    "        s.pot = s.pot + amount\n",
    "    \n",
    "    def pot_to_winner(s, player):\n",
    "        player.add_to_bank(s.pot)\n",
    "        \n",
    "    def read_pot_amount(s):\n",
    "        print(f'The current pot is: ${s.pot}')\n",
    "        "
   ]
  },
  {
   "cell_type": "code",
   "execution_count": 18,
   "id": "242abc18",
   "metadata": {},
   "outputs": [],
   "source": [
    "table = Table()"
   ]
  },
  {
   "cell_type": "code",
   "execution_count": 19,
   "id": "abb57043",
   "metadata": {},
   "outputs": [
    {
     "name": "stdout",
     "output_type": "stream",
     "text": [
      "[None]\n"
     ]
    }
   ],
   "source": [
    "print(table.hidden_card)"
   ]
  },
  {
   "cell_type": "code",
   "execution_count": 20,
   "id": "6bacdc1a",
   "metadata": {},
   "outputs": [
    {
     "name": "stdout",
     "output_type": "stream",
     "text": [
      "Two of Hearts\n"
     ]
    }
   ],
   "source": [
    "table.hidden_card = deck.all_cards[10]\n",
    "print(table.hidden_card)"
   ]
  },
  {
   "cell_type": "code",
   "execution_count": 21,
   "id": "2db0661e",
   "metadata": {},
   "outputs": [],
   "source": [
    "table.dealer_hand.append(deck.all_cards[9])"
   ]
  },
  {
   "cell_type": "code",
   "execution_count": 22,
   "id": "3562d9e6",
   "metadata": {},
   "outputs": [
    {
     "name": "stdout",
     "output_type": "stream",
     "text": [
      "Ace of Hearts\n"
     ]
    }
   ],
   "source": [
    "for card in table.dealer_hand:\n",
    "    print(card)"
   ]
  },
  {
   "cell_type": "code",
   "execution_count": 23,
   "id": "aac080a2",
   "metadata": {},
   "outputs": [],
   "source": [
    "table.dealer_hand.append(table.hidden_card)"
   ]
  },
  {
   "cell_type": "code",
   "execution_count": 24,
   "id": "31a7f9d5",
   "metadata": {},
   "outputs": [
    {
     "name": "stdout",
     "output_type": "stream",
     "text": [
      "Ace of Hearts\n",
      "Two of Hearts\n"
     ]
    }
   ],
   "source": [
    "for card in table.dealer_hand:\n",
    "    print(card)"
   ]
  },
  {
   "cell_type": "code",
   "execution_count": 25,
   "id": "2c520f47",
   "metadata": {},
   "outputs": [],
   "source": [
    "table.dealer_hand.append(deck.all_cards[11])"
   ]
  },
  {
   "cell_type": "code",
   "execution_count": 26,
   "id": "61c4bcbf",
   "metadata": {},
   "outputs": [
    {
     "name": "stdout",
     "output_type": "stream",
     "text": [
      "Ace of Hearts\n",
      "Two of Hearts\n",
      "Six of Hearts\n"
     ]
    }
   ],
   "source": [
    "for card in table.dealer_hand:\n",
    "    print(card)"
   ]
  },
  {
   "cell_type": "code",
   "execution_count": 27,
   "id": "7f61dcd9",
   "metadata": {},
   "outputs": [
    {
     "name": "stdout",
     "output_type": "stream",
     "text": [
      "The dealer's shows: \n",
      "\tAce of Hearts\n",
      "\tTwo of Hearts\n",
      "\tSix of Hearts\n"
     ]
    }
   ],
   "source": [
    "table.read_dealer_hand()"
   ]
  },
  {
   "cell_type": "code",
   "execution_count": 28,
   "id": "25c959ff",
   "metadata": {},
   "outputs": [
    {
     "name": "stdout",
     "output_type": "stream",
     "text": [
      "The Pot starts at: $0\n",
      "player_one bank is now at $350\n",
      "The table's pot is now at: $100\n"
     ]
    }
   ],
   "source": [
    "print(f'The Pot starts at: ${table.pot}')\n",
    "table.add_to_pot(player.bet(100))\n",
    "print(f'{player.name} bank is now at ${player.bank}')\n",
    "print(f'The table\\'s pot is now at: ${table.pot}')\n"
   ]
  },
  {
   "cell_type": "code",
   "execution_count": 29,
   "id": "4b05eb83",
   "metadata": {},
   "outputs": [
    {
     "name": "stdout",
     "output_type": "stream",
     "text": [
      "Player wins $100\n",
      "player_one now has 450\n"
     ]
    }
   ],
   "source": [
    "print(f'Player wins ${table.pot}')\n",
    "table.pot_to_winner(player)\n",
    "print(f'{player.name} now has {player.bank}')"
   ]
  },
  {
   "cell_type": "code",
   "execution_count": 31,
   "id": "af0b9c23",
   "metadata": {},
   "outputs": [
    {
     "data": {
      "text/plain": [
       "<__main__.Card at 0x7f7810923e50>"
      ]
     },
     "execution_count": 31,
     "metadata": {},
     "output_type": "execute_result"
    }
   ],
   "source": []
  },
  {
   "cell_type": "code",
   "execution_count": 32,
   "id": "1d2bdc7b",
   "metadata": {},
   "outputs": [
    {
     "name": "stdout",
     "output_type": "stream",
     "text": [
      "44\n"
     ]
    }
   ],
   "source": [
    "print(len(deck.all_cards))"
   ]
  },
  {
   "cell_type": "code",
   "execution_count": null,
   "id": "81de0859",
   "metadata": {},
   "outputs": [],
   "source": []
  },
  {
   "cell_type": "markdown",
   "id": "76024e64",
   "metadata": {},
   "source": [
    "# 5. Game Logic"
   ]
  },
  {
   "cell_type": "code",
   "execution_count": 33,
   "id": "939d1b47",
   "metadata": {},
   "outputs": [],
   "source": [
    "# if deck size is zero, append new shuffled deck to current deck\n",
    "if len(deck.all_cards) == 0:\n",
    "    newDeck = Deck()\n",
    "    newDeck.shuffle()\n",
    "    deck.append(newDeck)\n",
    "\n",
    "# player starts play with bet 10, 15, or 20...\n",
    "    # bet goes in table's pot\n",
    "\n",
    "# initial deal: two cards to dealer, two cards to player\n",
    "\n",
    "# need table (or show cards): print first dealer card, print both cards for player\n",
    "\n",
    "# playing menu: \n",
    "    #  \"hit\" (take a card)  || 0, 5, or 10 raise\n",
    "        # evaluate player points with each new card. Determine 21 or bust\n",
    "            #  if 21, auto win\n",
    "            #  if bust, auto loose \n",
    "    #  \"stand\" (end their turn and stop without taking a card)\n",
    "        # Start dealer play\n",
    "\n",
    "# Dealer play: continues to pull card until they beat player or bust\n",
    "    # if dealer beats player's points, player looses\n",
    "    # if dealer busts, player wins\n",
    "\n",
    "# game menu\n",
    "    #  Continue -> replay\n",
    "    #  End -> show bank\n",
    "\n"
   ]
  },
  {
   "cell_type": "code",
   "execution_count": 34,
   "id": "89e78760",
   "metadata": {},
   "outputs": [
    {
     "name": "stdout",
     "output_type": "stream",
     "text": [
      "44\n"
     ]
    }
   ],
   "source": [
    "for card in deck.all_cards:\n",
    "    deck.deal_one\n",
    "    \n",
    "print(len(deck.all_cards))"
   ]
  },
  {
   "cell_type": "code",
   "execution_count": 35,
   "id": "0a78ce66",
   "metadata": {},
   "outputs": [
    {
     "name": "stdout",
     "output_type": "stream",
     "text": [
      "44\n"
     ]
    }
   ],
   "source": [
    "print(len(deck.all_cards))"
   ]
  },
  {
   "cell_type": "code",
   "execution_count": null,
   "id": "f2349fcc",
   "metadata": {},
   "outputs": [],
   "source": []
  },
  {
   "cell_type": "code",
   "execution_count": null,
   "id": "e131c584",
   "metadata": {},
   "outputs": [],
   "source": []
  }
 ],
 "metadata": {
  "kernelspec": {
   "display_name": "Python 3 (ipykernel)",
   "language": "python",
   "name": "python3"
  },
  "language_info": {
   "codemirror_mode": {
    "name": "ipython",
    "version": 3
   },
   "file_extension": ".py",
   "mimetype": "text/x-python",
   "name": "python",
   "nbconvert_exporter": "python",
   "pygments_lexer": "ipython3",
   "version": "3.9.12"
  }
 },
 "nbformat": 4,
 "nbformat_minor": 5
}
