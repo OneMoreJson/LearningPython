{
 "cells": [
  {
   "cell_type": "markdown",
   "id": "76073b1b",
   "metadata": {},
   "source": [
    "# 1. Card Class"
   ]
  },
  {
   "cell_type": "code",
   "execution_count": 1,
   "id": "0bc8ab60",
   "metadata": {},
   "outputs": [],
   "source": [
    "import random\n",
    "\n",
    "# Global V\n",
    "new_line = '\\n'\n",
    "tab = '\\t'"
   ]
  },
  {
   "cell_type": "code",
   "execution_count": 2,
   "id": "b55d1c85",
   "metadata": {},
   "outputs": [],
   "source": [
    "suits = ('Hearts', 'Diamonds', 'Spades', 'Clubs')\n",
    "\n",
    "ranks = ('Two', 'Three', 'Four', 'Five', 'Six', 'Seven', 'Eight', 'Nine', 'Ten', 'Jack', 'Queen', 'King', 'Ace' )\n",
    "\n",
    "values = {'Two': 2,\n",
    "          'Three': 3,\n",
    "          'Four': 4,\n",
    "          'Five': 5,\n",
    "          'Six': 6, \n",
    "          'Seven': 7,\n",
    "          'Eight': 8,\n",
    "          'Nine': 9, \n",
    "          'Ten': 10,\n",
    "          'Jack': 10,\n",
    "          'Queen': 10,\n",
    "          'King': 10,\n",
    "          'Ace': 10}\n"
   ]
  },
  {
   "cell_type": "code",
   "execution_count": 3,
   "id": "30297565",
   "metadata": {},
   "outputs": [],
   "source": [
    "class Card:\n",
    "    \n",
    "    def __init__(s, suit, rank):\n",
    "        s.suit = suit \n",
    "        s.rank = rank\n",
    "        s.value = values[rank]\n",
    "    \n",
    "    def __str__(s):\n",
    "        return s.rank + ' of ' + s.suit\n",
    "        \n",
    "        "
   ]
  },
  {
   "cell_type": "code",
   "execution_count": null,
   "id": "2f3ae1b0",
   "metadata": {},
   "outputs": [],
   "source": []
  },
  {
   "cell_type": "markdown",
   "id": "fddc040b",
   "metadata": {},
   "source": [
    "# 2. Deck Class"
   ]
  },
  {
   "cell_type": "code",
   "execution_count": 4,
   "id": "ec481a7e",
   "metadata": {},
   "outputs": [],
   "source": [
    "class Deck:\n",
    "    \n",
    "    def __init__(s):\n",
    "        s.all_cards = []\n",
    "        \n",
    "        for suit in suits:\n",
    "            for rank in ranks:\n",
    "                \n",
    "                # Create the Card\n",
    "                create_card = Card(suit, rank)\n",
    "                \n",
    "                # Place in Deck\n",
    "                s.all_cards.append(create_card)\n",
    "        \n",
    "    def shuffle(s):\n",
    "        random.shuffle(s.all_cards)\n",
    "        \n",
    "    def deal_one(s):\n",
    "        return s.all_cards.pop()\n",
    "        \n",
    "        "
   ]
  },
  {
   "cell_type": "code",
   "execution_count": 5,
   "id": "f19af9c9",
   "metadata": {},
   "outputs": [],
   "source": [
    "deck = Deck()"
   ]
  },
  {
   "cell_type": "code",
   "execution_count": 6,
   "id": "e6211d77",
   "metadata": {},
   "outputs": [],
   "source": [
    "deck.shuffle()"
   ]
  },
  {
   "cell_type": "code",
   "execution_count": null,
   "id": "b4df4acb",
   "metadata": {},
   "outputs": [],
   "source": [
    "for card in deck.all_cards:\n",
    "    print(card)"
   ]
  },
  {
   "cell_type": "code",
   "execution_count": 7,
   "id": "dd3630ab",
   "metadata": {},
   "outputs": [
    {
     "name": "stdout",
     "output_type": "stream",
     "text": [
      "Three of Hearts\n"
     ]
    }
   ],
   "source": [
    "print(deck.all_cards[0])"
   ]
  },
  {
   "cell_type": "code",
   "execution_count": null,
   "id": "a11a2525",
   "metadata": {},
   "outputs": [],
   "source": []
  },
  {
   "cell_type": "markdown",
   "id": "3ec73201",
   "metadata": {},
   "source": [
    "# 3. Player Class"
   ]
  },
  {
   "cell_type": "code",
   "execution_count": 38,
   "id": "c0cde8b1",
   "metadata": {},
   "outputs": [],
   "source": [
    "class Player:\n",
    "    \n",
    "    def __init__(s, name, bank):\n",
    "        s.name = name\n",
    "        s.bank = bank\n",
    "        s.player_hand = []\n",
    "        \n",
    "    def add_card(s, card):\n",
    "        s.player_hand.append(card)\n",
    "        \n",
    "    def reset_hand(s):\n",
    "        s.player_hand = []\n",
    "\n",
    "    def reduce_bank(s, amount):\n",
    "        s.bank = s.bank - amount\n",
    "    \n",
    "    def add_to_bank(s, amount):\n",
    "        s.bank = s.bank + amount\n",
    "        \n",
    "    def read_current_hand(s):\n",
    "        print(f\"{s.name} has: {new_line}\")\n",
    "        for card in s.player_hand:\n",
    "            print(f\"{tab}{card} {new_line}\")\n"
   ]
  },
  {
   "cell_type": "code",
   "execution_count": 39,
   "id": "a2d6056b",
   "metadata": {},
   "outputs": [],
   "source": [
    "player = Player('player_one', 500)"
   ]
  },
  {
   "cell_type": "code",
   "execution_count": 40,
   "id": "388f8f79",
   "metadata": {},
   "outputs": [
    {
     "name": "stdout",
     "output_type": "stream",
     "text": [
      "500\n"
     ]
    }
   ],
   "source": [
    "print(player.bank)"
   ]
  },
  {
   "cell_type": "code",
   "execution_count": 41,
   "id": "4d2c25d9",
   "metadata": {},
   "outputs": [],
   "source": [
    "player.add_card(deck.all_cards[0])"
   ]
  },
  {
   "cell_type": "code",
   "execution_count": 42,
   "id": "01e21088",
   "metadata": {},
   "outputs": [],
   "source": [
    "player.add_card(deck.all_cards[1])"
   ]
  },
  {
   "cell_type": "code",
   "execution_count": 43,
   "id": "185f5ce4",
   "metadata": {},
   "outputs": [
    {
     "ename": "NameError",
     "evalue": "name 'new_line' is not defined",
     "output_type": "error",
     "traceback": [
      "\u001b[0;31m---------------------------------------------------------------------------\u001b[0m",
      "\u001b[0;31mNameError\u001b[0m                                 Traceback (most recent call last)",
      "Input \u001b[0;32mIn [43]\u001b[0m, in \u001b[0;36m<cell line: 1>\u001b[0;34m()\u001b[0m\n\u001b[0;32m----> 1\u001b[0m \u001b[43mplayer\u001b[49m\u001b[38;5;241;43m.\u001b[39;49m\u001b[43mread_current_hand\u001b[49m\u001b[43m(\u001b[49m\u001b[43m)\u001b[49m\n",
      "Input \u001b[0;32mIn [38]\u001b[0m, in \u001b[0;36mPlayer.read_current_hand\u001b[0;34m(s)\u001b[0m\n\u001b[1;32m     23\u001b[0m \u001b[38;5;28;01mdef\u001b[39;00m \u001b[38;5;21mread_current_hand\u001b[39m(s):\n\u001b[0;32m---> 24\u001b[0m     \u001b[38;5;28mprint\u001b[39m(\u001b[38;5;124mf\u001b[39m\u001b[38;5;124m\"\u001b[39m\u001b[38;5;132;01m{\u001b[39;00ms\u001b[38;5;241m.\u001b[39mname\u001b[38;5;132;01m}\u001b[39;00m\u001b[38;5;124m has: \u001b[39m\u001b[38;5;132;01m{\u001b[39;00mnew_line\u001b[38;5;132;01m}\u001b[39;00m\u001b[38;5;124m\"\u001b[39m)\n",
      "\u001b[0;31mNameError\u001b[0m: name 'new_line' is not defined"
     ]
    }
   ],
   "source": [
    "player.read_current_hand()"
   ]
  },
  {
   "cell_type": "code",
   "execution_count": null,
   "id": "e131c584",
   "metadata": {},
   "outputs": [],
   "source": []
  },
  {
   "cell_type": "code",
   "execution_count": null,
   "id": "89e78760",
   "metadata": {},
   "outputs": [],
   "source": []
  },
  {
   "cell_type": "code",
   "execution_count": null,
   "id": "242abc18",
   "metadata": {},
   "outputs": [],
   "source": []
  },
  {
   "cell_type": "markdown",
   "id": "9e4641c4",
   "metadata": {},
   "source": [
    "# 4. Table Class"
   ]
  },
  {
   "cell_type": "code",
   "execution_count": null,
   "id": "cdcfdfe5",
   "metadata": {},
   "outputs": [],
   "source": [
    "class Table:\n",
    "    \n",
    "    def __init__(s):\n",
    "        s.dealer_hand = []\n",
    "        s.pot = 0\n",
    "    \n",
    "    def read_dealer_hand(s):\n",
    "        pass\n",
    "        "
   ]
  },
  {
   "cell_type": "code",
   "execution_count": null,
   "id": "aac080a2",
   "metadata": {},
   "outputs": [],
   "source": []
  },
  {
   "cell_type": "markdown",
   "id": "76024e64",
   "metadata": {},
   "source": [
    "# 5. Game Logic"
   ]
  },
  {
   "cell_type": "code",
   "execution_count": null,
   "id": "939d1b47",
   "metadata": {},
   "outputs": [],
   "source": [
    "# if deck size is zero, append new shuffled deck to current deck\n",
    "\n",
    "# player starts play with bet 10, 15, or 20...\n",
    "    # bet goes in table's pot\n",
    "\n",
    "# initial deal: two cards to dealer, two cards to player\n",
    "\n",
    "# need table (or show cards): print first dealer card, print both cards for player\n",
    "\n",
    "# playing menu: \n",
    "    #  \"hit\" (take a card)  || 0, 5, or 10 raise\n",
    "        # evaluate player points with each new card. Determine 21 or bust\n",
    "            #  if 21, auto win\n",
    "            #  if bust, auto loose \n",
    "    #  \"stand\" (end their turn and stop without taking a card)\n",
    "        # Start dealer play\n",
    "\n",
    "# Dealer play: continues to pull card until they beat player or bust\n",
    "    # if dealer beats player's points, player looses\n",
    "    # if dealer busts, player wins\n",
    "\n",
    "# game menu\n",
    "    #  Continue -> replay\n",
    "    #  End -> show bank\n",
    "\n"
   ]
  },
  {
   "cell_type": "code",
   "execution_count": null,
   "id": "0a78ce66",
   "metadata": {},
   "outputs": [],
   "source": []
  },
  {
   "cell_type": "code",
   "execution_count": null,
   "id": "f2349fcc",
   "metadata": {},
   "outputs": [],
   "source": []
  }
 ],
 "metadata": {
  "kernelspec": {
   "display_name": "Python 3 (ipykernel)",
   "language": "python",
   "name": "python3"
  },
  "language_info": {
   "codemirror_mode": {
    "name": "ipython",
    "version": 3
   },
   "file_extension": ".py",
   "mimetype": "text/x-python",
   "name": "python",
   "nbconvert_exporter": "python",
   "pygments_lexer": "ipython3",
   "version": "3.9.12"
  }
 },
 "nbformat": 4,
 "nbformat_minor": 5
}
