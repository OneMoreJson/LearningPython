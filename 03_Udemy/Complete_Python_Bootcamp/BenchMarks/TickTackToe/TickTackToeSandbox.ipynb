{
 "cells": [
  {
   "cell_type": "code",
   "execution_count": null,
   "id": "da757249",
   "metadata": {},
   "outputs": [],
   "source": [
    "import random"
   ]
  },
  {
   "cell_type": "code",
   "execution_count": null,
   "id": "576651b4",
   "metadata": {},
   "outputs": [],
   "source": [
    "places = [1, 2, 3, 4, 5, 6, 7, 8, 9]\n",
    "playerTurn = True\n",
    "playerChoices = []\n",
    "compChoices = []\n",
    "play = True\n",
    "win = False\n"
   ]
  },
  {
   "cell_type": "code",
   "execution_count": null,
   "id": "14f0f8c4",
   "metadata": {},
   "outputs": [],
   "source": [
    "def bb():\n",
    "\n",
    "    print('       |       |')\n",
    "    print('   {}   |   {}   |   {}' .format(places[0], places[1], places[2]))\n",
    "    print('_______|_______|_______')\n",
    "    print('       |       |')\n",
    "    print('   {}   |   {}   |   {}' .format(places[3], places[4], places[5]))\n",
    "    print('_______|_______|_______')\n",
    "    print('       |       |')\n",
    "    print('   {}   |   {}   |   {}' .format(places[6], places[7], places[8]))\n",
    "    print('       |       |')"
   ]
  },
  {
   "cell_type": "code",
   "execution_count": null,
   "id": "3c90b722",
   "metadata": {},
   "outputs": [],
   "source": [
    "bb()"
   ]
  },
  {
   "cell_type": "code",
   "execution_count": null,
   "id": "0ede0aa6",
   "metadata": {},
   "outputs": [],
   "source": [
    "# places[0] = 'X'\n",
    "# places[1] = 'X'\n",
    "# places[2] = 'X'"
   ]
  },
  {
   "cell_type": "code",
   "execution_count": null,
   "id": "01873b28",
   "metadata": {},
   "outputs": [],
   "source": [
    "bb()"
   ]
  },
  {
   "cell_type": "code",
   "execution_count": null,
   "id": "56d42838",
   "metadata": {},
   "outputs": [],
   "source": [
    "def inst():\n",
    "    print('Welcome to Py Tick Tack Toe')\n",
    "    print('')\n",
    "    print('You will be \"X\" while your opponent will be \"O\"')\n",
    "    print('')\n",
    "    print('Please select a number square that has not been taken')\n",
    "    print('If you get three squares in a row, you win!')"
   ]
  },
  {
   "cell_type": "code",
   "execution_count": null,
   "id": "37a1c587",
   "metadata": {},
   "outputs": [],
   "source": [
    "inst()"
   ]
  },
  {
   "cell_type": "code",
   "execution_count": null,
   "id": "1dbec577",
   "metadata": {},
   "outputs": [],
   "source": [
    "def selectionCheck(choice, places):\n",
    "    if(type(choice) == int):\n",
    "        if(choice in places):\n",
    "            return True\n",
    "        else:\n",
    "            return False\n",
    "    else:\n",
    "        return False"
   ]
  },
  {
   "cell_type": "code",
   "execution_count": null,
   "id": "a27c0efe",
   "metadata": {},
   "outputs": [],
   "source": [
    "def compChoice():\n",
    "    out = random.randint(1, 9)\n",
    "\n",
    "    if(selectionCheck(out, places)):\n",
    "        return out\n",
    "    else:\n",
    "        print('call compChoice()')\n",
    "        return compChoice()"
   ]
  },
  {
   "cell_type": "code",
   "execution_count": null,
   "id": "ed3c4bda",
   "metadata": {},
   "outputs": [],
   "source": [
    "print(compChoice())\n",
    "print(compChoice())\n",
    "print(compChoice())\n",
    "print(compChoice())\n",
    "print(compChoice())\n",
    "print(compChoice())\n",
    "print(compChoice())\n",
    "print(compChoice())\n",
    "print(compChoice())\n",
    "print(compChoice())"
   ]
  },
  {
   "cell_type": "code",
   "execution_count": null,
   "id": "6ce1b960",
   "metadata": {},
   "outputs": [],
   "source": [
    "# Player Choice\n",
    "def playerChoice():\n",
    "    try:\n",
    "        selection = int(input(\n",
    "            'Please select a number square that has not been taken\\n'))\n",
    "    except ValueError:\n",
    "        print('That was not a number...')\n",
    "        return playerChoice()\n",
    "\n",
    "    if(selectionCheck(selection, places)):\n",
    "        return selection\n",
    "    else:\n",
    "        print(\"I'm sorry, that is an invalid input.\")\n",
    "        return playerChoice()"
   ]
  },
  {
   "cell_type": "code",
   "execution_count": null,
   "id": "e8265eba",
   "metadata": {},
   "outputs": [],
   "source": [
    "# Replace Square number with X or O\n",
    "def replaceSquare(xo, selection, places):\n",
    "    for i in range(len(places)):\n",
    "        if places[i] == selection:\n",
    "            places[i] = xo\n",
    "    bb()\n",
    "    return places"
   ]
  },
  {
   "cell_type": "code",
   "execution_count": null,
   "id": "95416302",
   "metadata": {},
   "outputs": [],
   "source": [
    "# replaceSquare('X', 5, places)"
   ]
  },
  {
   "cell_type": "code",
   "execution_count": null,
   "id": "29ec8470",
   "metadata": {},
   "outputs": [],
   "source": [
    "# Winner?\n",
    "def checkWinner(playerSelections, playerTurn):\n",
    "    if playerSelections == [1, 2, 3]:\n",
    "        print(\"winner!!!\")\n",
    "    else:\n",
    "        playerTurn = not playerTurn\n",
    "        runGame(playerTurn)"
   ]
  },
  {
   "cell_type": "code",
   "execution_count": null,
   "id": "4f492bff",
   "metadata": {},
   "outputs": [],
   "source": [
    "print(len(playerChoices))"
   ]
  },
  {
   "cell_type": "code",
   "execution_count": null,
   "id": "287e3e47",
   "metadata": {},
   "outputs": [],
   "source": [
    "# Run Game (Start with player)\n",
    "def runGame(playerTurn):\n",
    "\n",
    "    if(playerTurn):\n",
    "        # Displays\n",
    "        print('--------> Player\\'s Move <--------\\n')\n",
    "        # Player selects\n",
    "        selection = playerChoice()\n",
    "        # Store selection in player list\n",
    "        playerChoices.append(selection)\n",
    "        # Change Board list\n",
    "        # Rewrite Board\n",
    "        replaceSquare('X', selection, places)\n",
    "\n",
    "        # Check if there is a win\n",
    "        # change players\n",
    "        checkWinner(playerChoices, playerTurn)\n",
    "\n",
    "        print('\\n')\n",
    "\n",
    "    else:\n",
    "        # Displays\n",
    "        print('--------> Computers\\'s Move <--------\\n')\n",
    "\n",
    "        # Comp selects\n",
    "        selection = compChoice()\n",
    "        # Store selection in comp list\n",
    "        compChoices.append(selection)\n",
    "        # Change Board list\n",
    "        # Rewrite Board\n",
    "        replaceSquare('O', selection, places)\n",
    "\n",
    "        # Check if there is a win\n",
    "        # change players\n",
    "        checkWinner(compChoices, playerTurn)\n",
    "\n",
    "        print('\\n')\n"
   ]
  },
  {
   "cell_type": "code",
   "execution_count": null,
   "id": "39339758",
   "metadata": {},
   "outputs": [],
   "source": [
    "runGame(playerTurn)"
   ]
  },
  {
   "cell_type": "code",
   "execution_count": 7,
   "id": "779a6086",
   "metadata": {},
   "outputs": [],
   "source": [
    "def contGame():\n",
    "    choice = input('Would you like to play again? (Yes or No)').lower()\n",
    "    print(choice)\n",
    "\n",
    "    \n",
    "    if choice == 'yes' or choice == 'y':\n",
    "        # return runGame(playerTurn)\n",
    "        print('you chose yes')\n",
    "    elif choice == 'no' or choice == 'n':\n",
    "        # return endGame()\n",
    "        print('you chose no')\n",
    "    else:\n",
    "        print('That was an invalid answer...')\n",
    "        return contGame()\n",
    "    "
   ]
  },
  {
   "cell_type": "code",
   "execution_count": 8,
   "id": "e986f257",
   "metadata": {},
   "outputs": [
    {
     "name": "stdout",
     "output_type": "stream",
     "text": [
      "Would you like to play again? (Yes or No)YES\n",
      "yes\n",
      "you chose yes\n"
     ]
    }
   ],
   "source": [
    "contGame()"
   ]
  },
  {
   "cell_type": "code",
   "execution_count": null,
   "id": "e4aece6f",
   "metadata": {},
   "outputs": [],
   "source": []
  }
 ],
 "metadata": {
  "kernelspec": {
   "display_name": "Python 3 (ipykernel)",
   "language": "python",
   "name": "python3"
  },
  "language_info": {
   "codemirror_mode": {
    "name": "ipython",
    "version": 3
   },
   "file_extension": ".py",
   "mimetype": "text/x-python",
   "name": "python",
   "nbconvert_exporter": "python",
   "pygments_lexer": "ipython3",
   "version": "3.9.12"
  }
 },
 "nbformat": 4,
 "nbformat_minor": 5
}
