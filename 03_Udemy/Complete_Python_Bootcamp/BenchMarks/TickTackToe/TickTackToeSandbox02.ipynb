{
 "cells": [
  {
   "cell_type": "code",
   "execution_count": 1,
   "id": "367018c1",
   "metadata": {},
   "outputs": [],
   "source": [
    "# IMPORTS\n",
    "import random\n",
    "from IPython.display import clear_output\n",
    "\n",
    "# VARS\n",
    "places = [1, 2, 3, 4, 5, 6, 7, 8, 9]\n",
    "playerChoices = []\n",
    "compChoices = []\n",
    "playerTurn = True\n",
    "play = True\n",
    "win = False"
   ]
  },
  {
   "cell_type": "code",
   "execution_count": 2,
   "id": "4cdb89ee",
   "metadata": {},
   "outputs": [],
   "source": [
    "# Instructions\n",
    "def inst():\n",
    "    print('Welcome to Py Tick Tack Toe')\n",
    "    print('')\n",
    "    print('You will be \"X\" while your opponent will be \"O\"')\n",
    "    print('')\n",
    "    print('You will take turns selecting squares')\n",
    "    print('If you get three squares in a row, you win!')\n"
   ]
  },
  {
   "cell_type": "code",
   "execution_count": 3,
   "id": "dfeb8ccd",
   "metadata": {},
   "outputs": [],
   "source": [
    "# Continue?\n",
    "def contGame():\n",
    "    choice = input('Would you like to play again? (Yes or Now)').lower()\n",
    "\n",
    "    if choice == 'yes' or choice == 'y':\n",
    "        return runGame(playerTurn)\n",
    "    elif choice == 'no' or choice == 'n':\n",
    "        return endGame()\n",
    "    else:\n",
    "        print('That was an invalid answer...')\n",
    "        return contGame()"
   ]
  },
  {
   "cell_type": "code",
   "execution_count": 4,
   "id": "aff63c19",
   "metadata": {},
   "outputs": [],
   "source": [
    "# End Game\n",
    "def endGame():\n",
    "    print('Thank you for playing Py Tick Tack Toe!')"
   ]
  },
  {
   "cell_type": "code",
   "execution_count": 5,
   "id": "8d6a524b",
   "metadata": {},
   "outputs": [],
   "source": [
    "# Build Board\n",
    "def bb():\n",
    "\n",
    "\n",
    "    print('       |       |')\n",
    "    print('   {}   |   {}   |   {}' .format(places[0], places[1], places[2]))\n",
    "    print('_______|_______|_______')\n",
    "    print('       |       |')\n",
    "    print('   {}   |   {}   |   {}' .format(places[3], places[4], places[5]))\n",
    "    print('_______|_______|_______')\n",
    "    print('       |       |')\n",
    "    print('   {}   |   {}   |   {}' .format(places[6], places[7], places[8]))\n",
    "    print('       |       |')\n",
    "    print('\\n\\n\\n')"
   ]
  },
  {
   "cell_type": "code",
   "execution_count": 6,
   "id": "0f00e7ca",
   "metadata": {},
   "outputs": [],
   "source": [
    "# Check Valid Choice\n",
    "def selectionCheck(choice, places):\n",
    "\n",
    "    if(choice in places):\n",
    "        return True\n",
    "    else:\n",
    "        return False\n"
   ]
  },
  {
   "cell_type": "code",
   "execution_count": 7,
   "id": "024e0c73",
   "metadata": {},
   "outputs": [],
   "source": [
    "# Computer Choice\n",
    "def compChoice():\n",
    "    out = random.randint(1, 9)\n",
    "\n",
    "    if(selectionCheck(out, places)):\n",
    "        return out\n",
    "    else:\n",
    "        return compChoice()"
   ]
  },
  {
   "cell_type": "code",
   "execution_count": 8,
   "id": "fa240c4f",
   "metadata": {},
   "outputs": [],
   "source": [
    "# Player Choice\n",
    "def playerChoice():\n",
    "    try:\n",
    "        selection = int(input(\n",
    "            'Please select a number square that has not been taken\\n'))\n",
    "    except ValueError:\n",
    "        print('That was not a number...')\n",
    "        return playerChoice()\n",
    "\n",
    "    if(selectionCheck(selection, places)):\n",
    "        return selection\n",
    "    else:\n",
    "        print(\"I'm sorry, that is an invalid input.\")\n",
    "        return playerChoice()"
   ]
  },
  {
   "cell_type": "code",
   "execution_count": 9,
   "id": "07b56533",
   "metadata": {},
   "outputs": [],
   "source": [
    "# Replace Square number with X or O\n",
    "def replaceSquare(xo, selection, places):\n",
    "    for i in range(len(places)):\n",
    "        if places[i] == selection:\n",
    "            places[i] = xo\n",
    "    bb()\n",
    "    return places"
   ]
  },
  {
   "cell_type": "code",
   "execution_count": 10,
   "id": "e738c728",
   "metadata": {},
   "outputs": [],
   "source": [
    "# Winner?\n",
    "def checkWinner(playerSelections, playerTurn, player):\n",
    "    win1 = [1, 2, 3]\n",
    "    win2 = [4, 5, 6]\n",
    "    win3 = [7, 8, 9]\n",
    "    win4 = [1, 4, 7]\n",
    "    win5 = [2, 5, 8]\n",
    "    win6 = [3, 6, 9]\n",
    "    win7 = [1, 5, 9]\n",
    "    win8 = [3, 5, 7]\n",
    "\n",
    "    win1Check = all(elem in playerSelections for elem in win1)\n",
    "    win2Check = all(elem in playerSelections for elem in win2)\n",
    "    win3Check = all(elem in playerSelections for elem in win3)\n",
    "    win4Check = all(elem in playerSelections for elem in win4)\n",
    "    win5Check = all(elem in playerSelections for elem in win5)\n",
    "    win6Check = all(elem in playerSelections for elem in win6)\n",
    "    win7Check = all(elem in playerSelections for elem in win7)\n",
    "    win8Check = all(elem in playerSelections for elem in win8)\n",
    "\n",
    "    if win1Check or win2Check or win3Check or win4Check or win5Check or win6Check or win7Check or win8Check:\n",
    "        print('{} Won!!!' .format(player))\n",
    "    elif len(playerChoices) == 5:\n",
    "        print('##############################\\n')\n",
    "        print(\"Game is a Draw!\")\n",
    "        contGame()\n",
    "    else:\n",
    "        playerTurn = not playerTurn\n",
    "        runGame(playerTurn)"
   ]
  },
  {
   "cell_type": "code",
   "execution_count": 11,
   "id": "e10a81e9",
   "metadata": {},
   "outputs": [],
   "source": [
    "# Run Game (Start with player)\n",
    "def runGame(playerTurn):\n",
    "\n",
    "    if(playerTurn):\n",
    "        # Player selects\n",
    "        selection = playerChoice()\n",
    "        # Store selection in player list\n",
    "        playerChoices.append(selection)\n",
    "        # Change Board list\n",
    "        # Rewrite Board\n",
    "        replaceSquare('X', selection, places)\n",
    "\n",
    "        # Check if there is a win\n",
    "        # change players\n",
    "        checkWinner(playerChoices, playerTurn, 'You')\n",
    "\n",
    "        print('\\n')\n",
    "\n",
    "    else:\n",
    "\n",
    "        # Comp selects\n",
    "        selection = compChoice()\n",
    "        # Store selection in comp list``\n",
    "        compChoices.append(selection)\n",
    "        # Change Board list\n",
    "        # Rewrite Board\n",
    "        replaceSquare('O', selection, places)\n",
    "\n",
    "        # Check if there is a win\n",
    "        # change players\n",
    "        checkWinner(compChoices, playerTurn, 'Computer')\n",
    "\n",
    "        print('\\n')\n"
   ]
  },
  {
   "cell_type": "code",
   "execution_count": 12,
   "id": "965bcc81",
   "metadata": {},
   "outputs": [],
   "source": [
    "# START GAME\n",
    "def startGame():\n",
    "    bb()\n",
    "    inst()\n",
    "    playerChoice()"
   ]
  },
  {
   "cell_type": "code",
   "execution_count": 14,
   "id": "253d17f2",
   "metadata": {},
   "outputs": [
    {
     "name": "stdout",
     "output_type": "stream",
     "text": [
      "       |       |\n",
      "   1   |   2   |   3\n",
      "_______|_______|_______\n",
      "       |       |\n",
      "   4   |   5   |   6\n",
      "_______|_______|_______\n",
      "       |       |\n",
      "   7   |   8   |   9\n",
      "       |       |\n",
      "\n",
      "\n",
      "\n",
      "\n",
      "Welcome to Py Tick Tack Toe\n",
      "\n",
      "You will be \"X\" while your opponent will be \"O\"\n",
      "\n",
      "You will take turns selecting squares\n",
      "If you get three squares in a row, you win!\n",
      "Please select a number square that has not been taken\n",
      "4\n"
     ]
    }
   ],
   "source": [
    "startGame()"
   ]
  },
  {
   "cell_type": "code",
   "execution_count": null,
   "id": "f6c16cf2",
   "metadata": {},
   "outputs": [],
   "source": [
    "places = [1, 2, 3, 4, 5, 6, 7, 8, 9]\n",
    "playerChoices = []\n",
    "compChoices = []"
   ]
  },
  {
   "cell_type": "code",
   "execution_count": null,
   "id": "2d740127",
   "metadata": {},
   "outputs": [],
   "source": [
    "inst()"
   ]
  },
  {
   "cell_type": "code",
   "execution_count": null,
   "id": "08c160ce",
   "metadata": {},
   "outputs": [],
   "source": []
  }
 ],
 "metadata": {
  "kernelspec": {
   "display_name": "Python 3 (ipykernel)",
   "language": "python",
   "name": "python3"
  },
  "language_info": {
   "codemirror_mode": {
    "name": "ipython",
    "version": 3
   },
   "file_extension": ".py",
   "mimetype": "text/x-python",
   "name": "python",
   "nbconvert_exporter": "python",
   "pygments_lexer": "ipython3",
   "version": "3.9.12"
  }
 },
 "nbformat": 4,
 "nbformat_minor": 5
}
