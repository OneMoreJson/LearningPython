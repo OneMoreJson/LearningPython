{
 "cells": [
  {
   "cell_type": "markdown",
   "metadata": {},
   "source": [
    "# Change"
   ]
  },
  {
   "cell_type": "code",
   "execution_count": 88,
   "metadata": {},
   "outputs": [],
   "source": [
    "# Build Calc Functions\n",
    "\n",
    "def addFunc(numA, numB):\n",
    "    return numA + numB\n",
    "\n",
    "\n",
    "def subFunc(numA, numB):\n",
    "    return numB - numA\n",
    "\n",
    "\n",
    "def multFunc(numA, numB):\n",
    "    return numB * numA\n",
    "\n",
    "\n",
    "def divFunc(numA, numB): \n",
    "    return numA / numB\n"
   ]
  },
  {
   "cell_type": "code",
   "execution_count": 89,
   "metadata": {},
   "outputs": [],
   "source": [
    "# Check in Range Function\n",
    "\n",
    "def isinrange (lr, hr, n):\n",
    "    if n > lr and n < hr:\n",
    "        return True\n",
    "    else:\n",
    "        return False "
   ]
  },
  {
   "cell_type": "code",
   "execution_count": 90,
   "metadata": {},
   "outputs": [
    {
     "name": "stdout",
     "output_type": "stream",
     "text": [
      "Cont is True\n"
     ]
    }
   ],
   "source": [
    "# Begin Loop\n",
    "\n",
    "cont = True\n",
    "\n",
    "while cont == True: \n",
    "    if cont == False:\n",
    "        print(\"Cont is False\")\n",
    "    else:\n",
    "        print(\"Cont is True\")\n",
    "        cont = False\n"
   ]
  },
  {
   "cell_type": "code",
   "execution_count": 93,
   "metadata": {},
   "outputs": [
    {
     "name": "stdout",
     "output_type": "stream",
     "text": [
      "Please select your low number between 100 and -100:  101\n",
      "Please select your high number between 100 and -100:  1\n",
      "Please select the first number between 1 and 101 to be calculated:  20\n",
      "Please select the second number between 1 and 101 to be calculated:  30\n"
     ]
    }
   ],
   "source": [
    "# All four input values are read first, no matter what. \n",
    "\n",
    "low = int(input(\"Please select your low number between 100 and -100:  \"))\n",
    "high = int(input(\"Please select your high number between 100 and -100:  \"))\n",
    "\n",
    "numA = int(input(\"Please select the first number between \" + str(high) + \" and \" + str(low) + \" to be calculated:  \"))\n",
    "numB = int(input(\"Please select the second number between \" + str(high) + \" and \" + str(low) + \" to be calculated:  \"))\n"
   ]
  },
  {
   "cell_type": "code",
   "execution_count": 94,
   "metadata": {},
   "outputs": [
    {
     "name": "stdout",
     "output_type": "stream",
     "text": [
      "no calculations are performed\n"
     ]
    }
   ],
   "source": [
    "# After all four input values are read, then the program does the necessary error checking of the range\n",
    "\n",
    "if isinrange(low,high,numA) == True and isinrange(low,high,numB) == True:\n",
    "    \n",
    "    # \"There are no input or print statements inside these functions\"\n",
    "    \n",
    "    print(\"When you add\", numA, \"to\", numB, \"the sum is\", addFunc(numA, numB))\n",
    "    print(\"When you subtract\", numB, \"from\", numA, \"the difference is\", subFunc(numA, numB))\n",
    "    print(\"When you multiply\", numA, \"with\", numB, \"the product is\", multFunc(numA, numB))\n",
    "    if numB == 0:\n",
    "        print(\"no calculations are performed\")\n",
    "    else:\n",
    "        print(\"When you divide\", numA, \"by\", numB, \"the quotent is\", divFunc(numA, numB))\n",
    "else:\n",
    "    print(\"no calculations are performed\")"
   ]
  },
  {
   "cell_type": "markdown",
   "metadata": {},
   "source": [
    "# Putting this Change Together Under a Loop"
   ]
  },
  {
   "cell_type": "code",
   "execution_count": null,
   "metadata": {},
   "outputs": [],
   "source": [
    "# Build Calc Functions\n",
    "\n",
    "def addFunc(numA, numB):\n",
    "    return numA + numB\n",
    "\n",
    "def subFunc(numA, numB):\n",
    "    return numB - numA\n",
    "\n",
    "def multFunc(numA, numB):\n",
    "    return numB * numA\n",
    "\n",
    "def divFunc(numA, numB): \n",
    "    return numA / numB\n",
    "\n",
    "# Check in Range Function\n",
    "\n",
    "def isinrange (lr, hr, n):\n",
    "    if n > lr and n < hr:\n",
    "        return True\n",
    "    else:\n",
    "        return False \n",
    "    \n",
    "# Begin Loop\n",
    "\n",
    "cont = True\n",
    "\n",
    "while cont == True: \n",
    "    \n",
    "    # Input Values \n",
    "\n",
    "    low = int(input(\"Please select your low number between 100 and -100:  \"))\n",
    "    high = int(input(\"Please select your high number between 100 and -100:  \"))\n",
    "\n",
    "    numA = int(input(\"Please select the first number between \" + str(high) + \" and \" + str(low) + \" to be calculated:  \"))\n",
    "    numB = int(input(\"Please select the second number between \" + str(high) + \" and \" + str(low) + \" to be calculated:  \"))\n",
    "\n",
    "\n",
    "    # Error detection function called twice\n",
    "    \n",
    "    if isinrange(low,high,numA) == True and isinrange(low,high,numB) == True:\n",
    "        \n",
    "        # Calc Functions called and reported with print (NO print statments in calc functions)\n",
    "\n",
    "        print(\"When you add\", numA, \"to\", numB, \"the sum is\", addFunc(numA, numB))\n",
    "        print(\"When you subtract\", numB, \"from\", numA, \"the difference is\", subFunc(numA, numB))\n",
    "        print(\"When you multiply\", numA, \"with\", numB, \"the product is\", multFunc(numA, numB))\n",
    "        if numB == 0:\n",
    "            print(\"no calculations are performed\")\n",
    "        else:\n",
    "            print(\"When you divide\", numA, \"by\", numB, \"the quotent is\", divFunc(numA, numB))\n",
    "    else:\n",
    "        print(\"no calculations are performed\")  \n",
    "    \n",
    "    # Continue Loop or Not\n",
    "    \n",
    "    response = input(\"Would you Like To Continue, type 'Y' or 'N'\")\n",
    "    if response == 'y' or response == 'Y':\n",
    "        numA = False\n",
    "        numB = False\n",
    "        highNum = False\n",
    "        lowNum = False\n",
    "        cont = True\n",
    "\n",
    "    elif response == 'n' or response == 'N':\n",
    "        cont = False\n",
    "        print(\"Thank you for letting us calculate more numbers!\")  \n",
    "\n",
    "    else:\n",
    "        print(\"no calculations are performed\")\n",
    "        numA = False\n",
    "        numB = False\n",
    "        highNum = False\n",
    "        lowNum = False\n",
    "        cont = True\n",
    "        "
   ]
  },
  {
   "cell_type": "code",
   "execution_count": null,
   "metadata": {},
   "outputs": [],
   "source": []
  }
 ],
 "metadata": {
  "kernelspec": {
   "display_name": "Python 3",
   "language": "python",
   "name": "python3"
  },
  "language_info": {
   "codemirror_mode": {
    "name": "ipython",
    "version": 3
   },
   "file_extension": ".py",
   "mimetype": "text/x-python",
   "name": "python",
   "nbconvert_exporter": "python",
   "pygments_lexer": "ipython3",
   "version": "3.7.6"
  }
 },
 "nbformat": 4,
 "nbformat_minor": 4
}
