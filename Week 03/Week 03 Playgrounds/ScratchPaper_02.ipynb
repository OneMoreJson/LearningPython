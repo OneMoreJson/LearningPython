{
 "cells": [
  {
   "cell_type": "code",
   "execution_count": 3,
   "metadata": {},
   "outputs": [
    {
     "name": "stdout",
     "output_type": "stream",
     "text": [
      "please select a number:   -1111\n",
      "No, we need to ask for better numbers!\n"
     ]
    }
   ],
   "source": [
    "hiNum = 100\n",
    "loNum = 0\n",
    "\n",
    "userNum = int(input(\"please select a number:   \"))\n",
    "\n",
    "if userNum < hiNum and userNum > loNum:\n",
    "    print(\"Yes the user number is between the range numbers.\")\n",
    "else:\n",
    "    print(\"No, we need to ask for better numbers!\")"
   ]
  },
  {
   "cell_type": "code",
   "execution_count": null,
   "metadata": {},
   "outputs": [],
   "source": []
  }
 ],
 "metadata": {
  "kernelspec": {
   "display_name": "Python 3",
   "language": "python",
   "name": "python3"
  },
  "language_info": {
   "codemirror_mode": {
    "name": "ipython",
    "version": 3
   },
   "file_extension": ".py",
   "mimetype": "text/x-python",
   "name": "python",
   "nbconvert_exporter": "python",
   "pygments_lexer": "ipython3",
   "version": "3.7.6"
  }
 },
 "nbformat": 4,
 "nbformat_minor": 4
}
