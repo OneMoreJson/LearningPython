{
 "cells": [
  {
   "cell_type": "code",
   "execution_count": 5,
   "metadata": {},
   "outputs": [],
   "source": [
    "\n",
    "def add(a,b):\n",
    "    answer = a + b\n",
    "    return answer \n"
   ]
  },
  {
   "cell_type": "code",
   "execution_count": 6,
   "metadata": {},
   "outputs": [
    {
     "data": {
      "text/plain": [
       "3"
      ]
     },
     "execution_count": 6,
     "metadata": {},
     "output_type": "execute_result"
    }
   ],
   "source": [
    "add(1,2)"
   ]
  },
  {
   "cell_type": "code",
   "execution_count": 12,
   "metadata": {},
   "outputs": [
    {
     "name": "stdout",
     "output_type": "stream",
     "text": [
      "5\n"
     ]
    }
   ],
   "source": [
    "answer = add(2,3)\n",
    "print(answer)"
   ]
  },
  {
   "cell_type": "code",
   "execution_count": 14,
   "metadata": {},
   "outputs": [
    {
     "name": "stdout",
     "output_type": "stream",
     "text": [
      "3\n"
     ]
    }
   ],
   "source": [
    "print(add(1,2))"
   ]
  },
  {
   "cell_type": "code",
   "execution_count": 15,
   "metadata": {},
   "outputs": [
    {
     "name": "stdout",
     "output_type": "stream",
     "text": [
      "5\n"
     ]
    }
   ],
   "source": [
    "print(answer)"
   ]
  },
  {
   "cell_type": "code",
   "execution_count": 19,
   "metadata": {},
   "outputs": [
    {
     "name": "stdout",
     "output_type": "stream",
     "text": [
      "3\n"
     ]
    }
   ],
   "source": [
    "def sub(c,d):\n",
    "    answer = c - d\n",
    "    return answer\n",
    "\n",
    "subAnswer = sub(5,2)\n",
    "print(subAnswer)"
   ]
  },
  {
   "cell_type": "code",
   "execution_count": 20,
   "metadata": {},
   "outputs": [
    {
     "name": "stdout",
     "output_type": "stream",
     "text": [
      "enter 1st number1\n",
      "enter 2nd number2\n",
      "3\n"
     ]
    }
   ],
   "source": [
    "num1 = int(input(\"enter 1st number\"))\n",
    "num2 = int(input(\"enter 2nd number\"))\n",
    "\n",
    "def add(num1,num2):\n",
    "    answer = num1 + num2\n",
    "    return answer\n",
    "\n",
    "addAnswer = add(num1,num2)\n",
    "print(addAnswer)\n",
    "\n"
   ]
  },
  {
   "cell_type": "code",
   "execution_count": 24,
   "metadata": {},
   "outputs": [
    {
     "name": "stdout",
     "output_type": "stream",
     "text": [
      "0\n",
      "Would you Like To Continue, type 'Y' or 'N'y\n",
      "1\n",
      "Would you Like To Continue, type 'Y' or 'N'y\n",
      "2\n",
      "Would you Like To Continue, type 'Y' or 'N'y\n",
      "3\n",
      "Would you Like To Continue, type 'Y' or 'N'n\n",
      "Thanks for playing\n"
     ]
    }
   ],
   "source": [
    "# First the Loop Set Up\n",
    "\n",
    "cont = True\n",
    "testA = 0\n",
    "\n",
    "while cont == True: \n",
    "    if cont == False:\n",
    "        break\n",
    "        \n",
    "    print(testA)\n",
    "    response = input(\"Would you Like To Continue, type 'Y' or 'N'\")\n",
    "    if response == 'y':\n",
    "        cont = True\n",
    "        testA +=1\n",
    "    else:\n",
    "        cont = False\n",
    "        print(\"Thanks for playing\")"
   ]
  },
  {
   "cell_type": "markdown",
   "metadata": {},
   "source": [
    "# Function in a Function?"
   ]
  },
  {
   "cell_type": "code",
   "execution_count": 30,
   "metadata": {},
   "outputs": [
    {
     "name": "stdout",
     "output_type": "stream",
     "text": [
      "Give me a number5\n",
      "Give me a number4\n",
      "Give your nameJason\n",
      "\n",
      "Jason your answer is 9\n"
     ]
    }
   ],
   "source": [
    "numA = 0\n",
    "numB = 0 \n",
    "name = \"xxxx\"\n",
    "\n",
    "def add1Func(numA, numB):\n",
    "    answer1 = numA + numB\n",
    "    return answer1\n",
    "\n",
    "def giveAnswer(name):\n",
    "    answer0 = add1Func(numA,numB)\n",
    "    print(name + \" your answer is \" + str(answer0))\n",
    "\n",
    "numA = int(input(\"Give me a number:  \"))\n",
    "numB = int(input(\"Give me a number:  \"))\n",
    "name = input(\"Give your name\")\n",
    "\n",
    "print()\n",
    "\n",
    "giveAnswer(name)\n",
    "\n",
    "\n",
    "\n"
   ]
  },
  {
   "cell_type": "code",
   "execution_count": 60,
   "metadata": {},
   "outputs": [
    {
     "name": "stdout",
     "output_type": "stream",
     "text": [
      "Please provide a number as your high number:   50\n",
      "\n",
      "Thank you.  Your high number is: 50\n",
      "50\n"
     ]
    }
   ],
   "source": [
    "highNum = False\n",
    "\n",
    "def highNumFunc(highNum):\n",
    "    while highNum == False or highNum < -100 or highNum > 100:\n",
    "        highNum = int(input(\"Please provide a number as your high number:   \"))\n",
    "        print()\n",
    "        if highNum < -100 or highNum > 100:\n",
    "            print(\"Please select BETWEEN -100 and 100.\")\n",
    "            print()\n",
    "        else:\n",
    "            print(\"Thank you.  Your high number is:\", highNum)\n",
    "            return highNum\n",
    "            print()\n",
    "\n",
    "highNum = highNumFunc(highNum)\n",
    "        \n",
    "print(highNum)\n",
    "    "
   ]
  },
  {
   "cell_type": "code",
   "execution_count": 61,
   "metadata": {},
   "outputs": [
    {
     "name": "stdout",
     "output_type": "stream",
     "text": [
      "Please provide a number as your low number:   90\n",
      "\n",
      "Please select a number lower than your high number.   \n",
      "\n",
      "Please provide a number as your low number:   40\n",
      "\n",
      "Thank you.  Your low number is:    40\n"
     ]
    }
   ],
   "source": [
    "lowNum = False\n",
    "\n",
    "def lowNumFunc(lowNum,highNum):\n",
    "    while lowNum == False or lowNum < -100 or lowNum > highNum:\n",
    "        lowNum = int(input(\"Please provide a number as your low number:   \"))\n",
    "        print()\n",
    "        if lowNum < -100 or lowNum > 100:\n",
    "            print(\"Please select BETWEEN -1004 and 100.\")\n",
    "            print()\n",
    "        elif lowNum > highNum:\n",
    "            print(\"Please select a number lower than your high number.   \")\n",
    "            print()\n",
    "        else:\n",
    "            print(\"Thank you.  Your low number is:   \", lowNum)\n",
    "            return lowNum\n",
    "            print()\n",
    "\n",
    "lowNum = lowNumFunc(lowNum, highNum)\n"
   ]
  },
  {
   "cell_type": "code",
   "execution_count": 62,
   "metadata": {},
   "outputs": [
    {
     "name": "stdout",
     "output_type": "stream",
     "text": [
      "40\n"
     ]
    }
   ],
   "source": [
    "print(lowNum)"
   ]
  },
  {
   "cell_type": "code",
   "execution_count": 63,
   "metadata": {},
   "outputs": [
    {
     "name": "stdout",
     "output_type": "stream",
     "text": [
      "50\n"
     ]
    }
   ],
   "source": [
    "print(highNum)"
   ]
  },
  {
   "cell_type": "code",
   "execution_count": 67,
   "metadata": {},
   "outputs": [
    {
     "name": "stdout",
     "output_type": "stream",
     "text": [
      "Now please select two numbers between 50 and 40 and we will provide their sum, difference, product and quotient.\n",
      "\n",
      "Please select a number:   45\n",
      "\n",
      "Thank you.  You chose:    45\n",
      "45\n"
     ]
    }
   ],
   "source": [
    "numA = False\n",
    "\n",
    "def numAFunc(numA):\n",
    "    print(\"Now please select two numbers between\", highNum, \"and\", lowNum, \"and we will provide their sum, difference, product and quotient.\")\n",
    "    print()\n",
    "    while numA == False or numA < lowNum or numA > highNum:\n",
    "        numA = int(input(\"Please select a number:   \"))\n",
    "        print()\n",
    "        if numA < lowNum or numA > highNum:\n",
    "            print(\"Please choose a number between the range of\", lowNum, \"and\", highNum)\n",
    "            print()\n",
    "        else:\n",
    "            print(\"Thank you.  You chose:   \", numA)\n",
    "            return numA\n",
    "            print()\n",
    "\n",
    "numA = numAFunc(numA)\n",
    "\n",
    "print(numA)"
   ]
  },
  {
   "cell_type": "code",
   "execution_count": 70,
   "metadata": {},
   "outputs": [
    {
     "name": "stdout",
     "output_type": "stream",
     "text": [
      "Please select a Second number:   90\n",
      "\n",
      "Please choose a number between the range of 40 and 50\n",
      "\n",
      "Please select a Second number:   30\n",
      "\n",
      "Please choose a number between the range of 40 and 50\n",
      "\n",
      "Please select a Second number:   44\n",
      "\n",
      "Thank you.  You chose:    44\n",
      "44\n"
     ]
    }
   ],
   "source": [
    "numB = False\n",
    "\n",
    "def numBFunc(numB):\n",
    "    while numB == False or numB < lowNum or numB > highNum:\n",
    "        numB = int(input(\"Please select a Second number:   \"))\n",
    "        print()\n",
    "        if numB < lowNum or numB > highNum:\n",
    "            print(\"Please choose a number between the range of\", lowNum, \"and\", highNum)\n",
    "            print()\n",
    "        else:\n",
    "            print(\"Thank you.  You chose:   \", numB)\n",
    "            return numB\n",
    "            print()\n",
    "\n",
    "numB = numBFunc(numB)\n",
    "\n",
    "print(numB)"
   ]
  },
  {
   "cell_type": "code",
   "execution_count": null,
   "metadata": {},
   "outputs": [],
   "source": []
  }
 ],
 "metadata": {
  "kernelspec": {
   "display_name": "Python 3",
   "language": "python",
   "name": "python3"
  },
  "language_info": {
   "codemirror_mode": {
    "name": "ipython",
    "version": 3
   },
   "file_extension": ".py",
   "mimetype": "text/x-python",
   "name": "python",
   "nbconvert_exporter": "python",
   "pygments_lexer": "ipython3",
   "version": "3.7.6"
  }
 },
 "nbformat": 4,
 "nbformat_minor": 4
}
