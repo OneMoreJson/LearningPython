{
 "cells": [
  {
   "cell_type": "code",
   "execution_count": 3,
   "metadata": {},
   "outputs": [],
   "source": [
    "mylist = [1,2,3,4]"
   ]
  },
  {
   "cell_type": "code",
   "execution_count": 4,
   "metadata": {},
   "outputs": [
    {
     "name": "stdout",
     "output_type": "stream",
     "text": [
      "[1, 2, 3, 4]\n"
     ]
    }
   ],
   "source": [
    "print(mylist)"
   ]
  },
  {
   "cell_type": "code",
   "execution_count": 10,
   "metadata": {},
   "outputs": [
    {
     "data": {
      "text/plain": [
       "range(0, 10)"
      ]
     },
     "execution_count": 10,
     "metadata": {},
     "output_type": "execute_result"
    }
   ],
   "source": [
    "range(10)"
   ]
  },
  {
   "cell_type": "markdown",
   "metadata": {},
   "source": [
    "# Definite Loops "
   ]
  },
  {
   "cell_type": "markdown",
   "metadata": {},
   "source": [
    "for [variable] in [sequence]"
   ]
  },
  {
   "cell_type": "code",
   "execution_count": 11,
   "metadata": {},
   "outputs": [
    {
     "name": "stdout",
     "output_type": "stream",
     "text": [
      "Are we there yet?\n",
      "Are we there yet?\n",
      "Are we there yet?\n",
      "Are we there yet?\n"
     ]
    }
   ],
   "source": [
    "for n in [0,1,2,3]:\n",
    "    print(\"Are we there yet?\")"
   ]
  },
  {
   "cell_type": "code",
   "execution_count": 18,
   "metadata": {},
   "outputs": [
    {
     "name": "stdout",
     "output_type": "stream",
     "text": [
      "Are we there yet?\n",
      "Are we there yet?\n",
      "Are we there yet?\n",
      "Are we there yet?\n"
     ]
    }
   ],
   "source": [
    "for n in [10,16,-3,14]:\n",
    "    print(\"Are we there yet?\")"
   ]
  },
  {
   "cell_type": "code",
   "execution_count": 19,
   "metadata": {},
   "outputs": [
    {
     "name": "stdout",
     "output_type": "stream",
     "text": [
      "Are we there yet?\n",
      "Are we there yet?\n",
      "Are we there yet?\n",
      "Are we there yet?\n"
     ]
    }
   ],
   "source": [
    "for num in \"Bark\":\n",
    "    print(\"Are we there yet?\")"
   ]
  },
  {
   "cell_type": "code",
   "execution_count": 20,
   "metadata": {},
   "outputs": [
    {
     "name": "stdout",
     "output_type": "stream",
     "text": [
      "B\n",
      "a\n",
      "r\n",
      "k\n"
     ]
    }
   ],
   "source": [
    "for num in \"Bark\":\n",
    "    print(num)"
   ]
  },
  {
   "cell_type": "code",
   "execution_count": 21,
   "metadata": {},
   "outputs": [
    {
     "name": "stdout",
     "output_type": "stream",
     "text": [
      "10\n",
      "14\n",
      "20\n",
      "33\n",
      "23\n"
     ]
    }
   ],
   "source": [
    "listA = [10, 14, 20, 33, 23]\n",
    "for num in listA:\n",
    "    print(num)"
   ]
  },
  {
   "cell_type": "code",
   "execution_count": 22,
   "metadata": {},
   "outputs": [
    {
     "name": "stdout",
     "output_type": "stream",
     "text": [
      "23\n"
     ]
    }
   ],
   "source": [
    "print(num)"
   ]
  },
  {
   "cell_type": "code",
   "execution_count": 23,
   "metadata": {},
   "outputs": [
    {
     "name": "stdout",
     "output_type": "stream",
     "text": [
      "[10, 14, 20, 33, 23]\n"
     ]
    }
   ],
   "source": [
    "print(listA)"
   ]
  },
  {
   "cell_type": "code",
   "execution_count": 25,
   "metadata": {},
   "outputs": [
    {
     "name": "stdout",
     "output_type": "stream",
     "text": [
      "4\n",
      "<class 'int'>\n",
      "box\n",
      "<class 'str'>\n",
      "2.3\n",
      "<class 'float'>\n"
     ]
    }
   ],
   "source": [
    "listB = [4, \"box\", 2.3]\n",
    "for num in listB:\n",
    "    print(num)\n",
    "    print(type(num))"
   ]
  },
  {
   "cell_type": "markdown",
   "metadata": {},
   "source": [
    "# Finding an Average Example"
   ]
  },
  {
   "cell_type": "code",
   "execution_count": 26,
   "metadata": {},
   "outputs": [],
   "source": [
    "# Ask the user how many values they have, store in countValues\n",
    "# Initialize the sum to zero\n",
    "# Write loop to ask for each value\n",
    "#   convert what the user entered into a floating point number\n",
    "#   ad it to the sum\n",
    "#   to be repeated countValues times\n",
    "# Calculate the average\n",
    "# Give the user the sum, number of values and the average\n"
   ]
  },
  {
   "cell_type": "code",
   "execution_count": 27,
   "metadata": {},
   "outputs": [
    {
     "name": "stdout",
     "output_type": "stream",
     "text": [
      "This program will find the average of your group of numbers.\n",
      "How many numbers?10\n"
     ]
    }
   ],
   "source": [
    "print(\"This program will find the average of your group of numbers.\")\n",
    "countValues = input(\"How many numbers?\")\n",
    "countValues = int(countValues)"
   ]
  },
  {
   "cell_type": "code",
   "execution_count": 28,
   "metadata": {},
   "outputs": [],
   "source": [
    "sum = 0.0\n"
   ]
  },
  {
   "cell_type": "code",
   "execution_count": 29,
   "metadata": {},
   "outputs": [
    {
     "name": "stdout",
     "output_type": "stream",
     "text": [
      "Please enter one of your number:  1\n",
      "Please enter one of your number:  2\n",
      "Please enter one of your number:  3\n",
      "Please enter one of your number:  4\n",
      "Please enter one of your number:  5\n",
      "Please enter one of your number:  6\n",
      "Please enter one of your number:  7\n",
      "Please enter one of your number:  8\n",
      "Please enter one of your number:  9\n",
      "Please enter one of your number:  10\n"
     ]
    }
   ],
   "source": [
    "for counter in range(countValues):\n",
    "    thisInput = input(\"Please enter one of your number:  \")\n",
    "    thisNum = float(thisInput)\n",
    "    sum = sum + thisNum"
   ]
  },
  {
   "cell_type": "code",
   "execution_count": 30,
   "metadata": {},
   "outputs": [],
   "source": [
    "average = sum / countValues"
   ]
  },
  {
   "cell_type": "code",
   "execution_count": 32,
   "metadata": {},
   "outputs": [
    {
     "name": "stdout",
     "output_type": "stream",
     "text": [
      "You entered 10 numbers\n",
      "The average is 5.5.\n"
     ]
    }
   ],
   "source": [
    "print(\"You entered \" + str(countValues) + \" numbers\")\n",
    "print(\"The average is \" + str(average) + \".\")"
   ]
  },
  {
   "cell_type": "markdown",
   "metadata": {},
   "source": [
    "## Clean this"
   ]
  },
  {
   "cell_type": "code",
   "execution_count": 42,
   "metadata": {},
   "outputs": [
    {
     "name": "stdout",
     "output_type": "stream",
     "text": [
      "This program will find the average of a group of numbers you select\n",
      "Please select how many numbers you want:  10\n"
     ]
    }
   ],
   "source": [
    "print(\"This program will find the average of a group of numbers you select\")\n",
    "\n",
    "countRange = int(input(\"Please select how many numbers you want:  \"))"
   ]
  },
  {
   "cell_type": "code",
   "execution_count": 43,
   "metadata": {},
   "outputs": [],
   "source": [
    "sum = 0.0"
   ]
  },
  {
   "cell_type": "code",
   "execution_count": 44,
   "metadata": {},
   "outputs": [
    {
     "name": "stdout",
     "output_type": "stream",
     "text": [
      "Please select a number:  1\n",
      "Please select a number:  2\n",
      "Please select a number:  3\n",
      "Please select a number:  4\n",
      "Please select a number:  5\n",
      "Please select a number:  6\n",
      "Please select a number:  7\n",
      "Please select a number:  8\n",
      "Please select a number:  9\n",
      "Please select a number:  10\n"
     ]
    }
   ],
   "source": [
    "for num in range(countRange):\n",
    "    userNums = float(input(\"Please select a number:  \"))\n",
    "    sum = sum + userNums"
   ]
  },
  {
   "cell_type": "code",
   "execution_count": 45,
   "metadata": {},
   "outputs": [],
   "source": [
    "average = sum / countRange"
   ]
  },
  {
   "cell_type": "code",
   "execution_count": 46,
   "metadata": {},
   "outputs": [
    {
     "name": "stdout",
     "output_type": "stream",
     "text": [
      "You entered 10 numbers\n",
      "The average is 5.5.\n"
     ]
    }
   ],
   "source": [
    "print(\"You entered \" + str(countRange) + \" numbers\")\n",
    "print(\"The average is \" + str(average) + \".\")"
   ]
  },
  {
   "cell_type": "markdown",
   "metadata": {},
   "source": [
    "# Controlling Execution with \"break\""
   ]
  },
  {
   "cell_type": "code",
   "execution_count": 52,
   "metadata": {},
   "outputs": [
    {
     "name": "stdout",
     "output_type": "stream",
     "text": [
      "Please enter a nmber between -10 and 10:  -11\n",
      "Your number is less than -10\n",
      "\n",
      "Now you are out of the loop.\n"
     ]
    }
   ],
   "source": [
    "for num in range(5):\n",
    "    newNum = float(input(\"Please enter a nmber between -10 and 10:  \"))\n",
    "    if newNum < -10:\n",
    "        print(\"Your number is less than -10\")\n",
    "        break\n",
    "    elif neNumb < 10:\n",
    "        print(\"Your number is larger than 10\")\n",
    "        break\n",
    "    else:\n",
    "        print(\"your number is \" + str(newNum) + \".\")\n",
    "print()\n",
    "print(\"Now you are out of the loop.\")"
   ]
  },
  {
   "cell_type": "markdown",
   "metadata": {},
   "source": [
    "# Controlling Execution with \"continue\""
   ]
  },
  {
   "cell_type": "code",
   "execution_count": 56,
   "metadata": {},
   "outputs": [
    {
     "name": "stdout",
     "output_type": "stream",
     "text": [
      "P 1\n",
      "r 2\n",
      "o 3\n",
      "g 4\n",
      "r 5\n",
      "a 6\n",
      "m 7\n",
      "m 8\n",
      "i 9\n",
      "n 10\n",
      "g 11\n",
      "  12\n",
      "i 13\n",
      "s 14\n",
      "  15\n",
      "l 16\n",
      "i 17\n",
      "k 18\n",
      "e 19\n",
      "  20\n",
      "s 21\n",
      "o 22\n",
      "l 23\n",
      "v 24\n",
      "i 25\n",
      "n 26\n",
      "g 27\n",
      "  28\n",
      "a 29\n",
      "  30\n",
      "p 31\n",
      "u 32\n",
      "z 33\n",
      "z 34\n",
      "l 35\n",
      "e 36\n",
      ". 37\n",
      "Number of Characters and spaces 37\n"
     ]
    }
   ],
   "source": [
    "# Without using continue\n",
    "\n",
    "sentence = \"Programming is like solving a puzzle.\"\n",
    "countLetters = 0\n",
    "for letter in sentence:\n",
    "    countLetters = countLetters + 1\n",
    "    print(letter, countLetters)\n",
    "print(\"Number of Characters and spaces \" + str(countLetters))"
   ]
  },
  {
   "cell_type": "code",
   "execution_count": 57,
   "metadata": {},
   "outputs": [
    {
     "name": "stdout",
     "output_type": "stream",
     "text": [
      "P 1\n",
      "r 2\n",
      "o 3\n",
      "g 4\n",
      "r 5\n",
      "a 6\n",
      "m 7\n",
      "m 8\n",
      "i 9\n",
      "n 10\n",
      "g 11\n",
      "i 12\n",
      "s 13\n",
      "l 14\n",
      "i 15\n",
      "k 16\n",
      "e 17\n",
      "s 18\n",
      "o 19\n",
      "l 20\n",
      "v 21\n",
      "i 22\n",
      "n 23\n",
      "g 24\n",
      "a 25\n",
      "p 26\n",
      "u 27\n",
      "z 28\n",
      "z 29\n",
      "l 30\n",
      "e 31\n",
      ". 32\n",
      "Number of Characters and spaces 32\n"
     ]
    }
   ],
   "source": [
    "# Using Continue to skip spaces\n",
    "\n",
    "sentence = \"Programming is like solving a puzzle.\"\n",
    "countLetters = 0\n",
    "for letter in sentence:\n",
    "    if letter == \" \":\n",
    "        continue\n",
    "    countLetters = countLetters + 1\n",
    "    print(letter, countLetters)\n",
    "print(\"Number of Characters and spaces \" + str(countLetters))"
   ]
  },
  {
   "cell_type": "code",
   "execution_count": 58,
   "metadata": {},
   "outputs": [
    {
     "name": "stdout",
     "output_type": "stream",
     "text": [
      "P 1\n",
      "r 2\n",
      "o 3\n",
      "g 4\n",
      "r 5\n",
      "a 6\n",
      "m 7\n",
      "m 8\n",
      "i 9\n",
      "n 10\n",
      "g 11\n",
      "i 12\n",
      "s 13\n",
      "l 14\n",
      "i 15\n",
      "k 16\n",
      "e 17\n",
      "s 18\n",
      "o 19\n",
      "l 20\n",
      "v 21\n",
      "i 22\n",
      "n 23\n",
      "g 24\n",
      "a 25\n",
      "p 26\n",
      "u 27\n",
      "z 28\n",
      "z 29\n",
      "l 30\n",
      "e 31\n",
      "Number of Characters and spaces 31\n"
     ]
    }
   ],
   "source": [
    "# Using Continue to skip spaces && periods\n",
    "\n",
    "sentence = \"Programming is like solving a puzzle.\"\n",
    "countLetters = 0\n",
    "for letter in sentence:\n",
    "    if letter == \" \" or letter == \".\":\n",
    "        continue\n",
    "    countLetters = countLetters + 1\n",
    "    print(letter, countLetters)\n",
    "print(\"Number of Characters and spaces \" + str(countLetters))"
   ]
  },
  {
   "cell_type": "markdown",
   "metadata": {},
   "source": [
    "# Idefinite Loops Using While"
   ]
  },
  {
   "cell_type": "code",
   "execution_count": 60,
   "metadata": {},
   "outputs": [
    {
     "name": "stdout",
     "output_type": "stream",
     "text": [
      "1\n",
      "2\n",
      "3\n",
      "Done\n"
     ]
    }
   ],
   "source": [
    "count = 1\n",
    "print(count)\n",
    "while(count<3):\n",
    "    count += 1\n",
    "    print(count)\n",
    "print(\"Done\")"
   ]
  },
  {
   "cell_type": "markdown",
   "metadata": {},
   "source": [
    "# Planning Average using a \"while\" loop"
   ]
  },
  {
   "cell_type": "code",
   "execution_count": 71,
   "metadata": {},
   "outputs": [
    {
     "name": "stdout",
     "output_type": "stream",
     "text": [
      "This program will find the average of your numers.\n",
      "Enter one number at a time, then press 'Enter'\n",
      "Enter Q to quit\n",
      "Enter one number or enter Q to quit:  q\n",
      "You did not enter any numbers.\n"
     ]
    }
   ],
   "source": [
    "print(\"This program will find the average of your numers.\")\n",
    "print(\"Enter one number at a time, then press 'Enter'\")\n",
    "print(\"Enter Q to quit\")\n",
    "\n",
    "userInput = 0.0\n",
    "sumA = 0.0\n",
    "totalNums = 0.0\n",
    "\n",
    "userInput = input (\"Enter one number or enter Q to quit:  \")\n",
    "\n",
    "while(userInput != 'Q' and userInput != 'q'):\n",
    "    if userInput == 'Q' or userInput == 'q':\n",
    "        break\n",
    "    userNum = float(userInput)\n",
    "    sum = sum + userNum\n",
    "    totalNums = totalNums + 1\n",
    "    userInput = input(\"Enter one number or enter Q to quit:  \")\n",
    "\n",
    "if totalNums == 0:\n",
    "    print(\"You did not enter any numbers.\")\n",
    "else:\n",
    "    average = sumA / totalNums\n",
    "    print(\"The average is \" + str(average))\n",
    "\n",
    "    \n",
    "    "
   ]
  },
  {
   "cell_type": "markdown",
   "metadata": {},
   "source": [
    "# Functions"
   ]
  },
  {
   "cell_type": "code",
   "execution_count": 74,
   "metadata": {},
   "outputs": [
    {
     "name": "stdout",
     "output_type": "stream",
     "text": [
      "What is your name? Jason\n",
      "Welcome Jason!\n",
      "Congratulations on using a paramenter\n"
     ]
    }
   ],
   "source": [
    "def WelcomeByName(strName):\n",
    "    print(\"Welcome \" + strName + \"!\")\n",
    "\n",
    "strUserName = input(\"What is your name? \")\n",
    "\n",
    "WelcomeByName(strUserName)\n",
    "print(\"Congratulations on using a paramenter\")"
   ]
  },
  {
   "cell_type": "code",
   "execution_count": 75,
   "metadata": {},
   "outputs": [],
   "source": [
    "def SumB(num1, num2):\n",
    "    answer = num1 + num2\n",
    "    return answer"
   ]
  },
  {
   "cell_type": "code",
   "execution_count": 78,
   "metadata": {},
   "outputs": [
    {
     "name": "stdout",
     "output_type": "stream",
     "text": [
      "8\n"
     ]
    }
   ],
   "source": [
    "answer = SumB(3,5)\n",
    "print(answer)"
   ]
  },
  {
   "cell_type": "markdown",
   "metadata": {},
   "source": [
    "# Important Facts about Functions"
   ]
  },
  {
   "cell_type": "code",
   "execution_count": 79,
   "metadata": {},
   "outputs": [
    {
     "name": "stdout",
     "output_type": "stream",
     "text": [
      "SumC: 6\n",
      "num1 was 2 and is now still 2\n"
     ]
    }
   ],
   "source": [
    "# Functions do not change parameters\n",
    "\n",
    "def SumC(num1, num2):\n",
    "    answer = num1 + num2\n",
    "    return answer\n",
    "\n",
    "# Main Program\n",
    "num1 = 2\n",
    "num2 = 4\n",
    "\n",
    "mySum = SumC(num1, num2)\n",
    "print(\"SumC: \" + str(mySum))\n",
    "print(\"num1 was 2 and is now still \" + str(num1))"
   ]
  },
  {
   "cell_type": "code",
   "execution_count": 81,
   "metadata": {},
   "outputs": [
    {
     "name": "stdout",
     "output_type": "stream",
     "text": [
      "The next line calls the function:\n",
      "Welcome\n"
     ]
    }
   ],
   "source": [
    "# Function definition must come before the Main Program\n",
    "\n",
    "# The function definition\n",
    "def Welcome():\n",
    "    print(\"Welcome\")\n",
    "\n",
    "# This is the main program that uses Welcome\n",
    "print(\"The next line calls the function:\")\n",
    "Welcome()\n",
    "\n",
    "\n"
   ]
  },
  {
   "cell_type": "code",
   "execution_count": 83,
   "metadata": {},
   "outputs": [
    {
     "name": "stdout",
     "output_type": "stream",
     "text": [
      "-20\n",
      "20\n"
     ]
    }
   ],
   "source": [
    "# Order of Parameters matter\n",
    "\n",
    "# Function definintion\n",
    "def Difference(a,b):\n",
    "    return a-b\n",
    "\n",
    "# Main program\n",
    "a = 50\n",
    "b = 30\n",
    "answer = Difference(b,a)\n",
    "print(answer)\n",
    "\n",
    "# This flipped the answer \n",
    "\n",
    "# Main program the right way\n",
    "a = 50\n",
    "b = 30\n",
    "answer = Difference(a, b)\n",
    "print(answer)\n",
    "\n",
    "# This flipped the answer \n",
    "\n",
    "\n"
   ]
  },
  {
   "cell_type": "code",
   "execution_count": null,
   "metadata": {},
   "outputs": [],
   "source": [
    "# Order matters Exp"
   ]
  }
 ],
 "metadata": {
  "kernelspec": {
   "display_name": "Python 3",
   "language": "python",
   "name": "python3"
  },
  "language_info": {
   "codemirror_mode": {
    "name": "ipython",
    "version": 3
   },
   "file_extension": ".py",
   "mimetype": "text/x-python",
   "name": "python",
   "nbconvert_exporter": "python",
   "pygments_lexer": "ipython3",
   "version": "3.7.6"
  }
 },
 "nbformat": 4,
 "nbformat_minor": 4
}
