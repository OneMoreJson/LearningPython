{
 "cells": [
  {
   "cell_type": "code",
   "execution_count": null,
   "metadata": {},
   "outputs": [],
   "source": [
    "\n",
    "def add(a,b):\n",
    "    answer = a + b\n",
    "    return answer \n"
   ]
  },
  {
   "cell_type": "code",
   "execution_count": null,
   "metadata": {},
   "outputs": [],
   "source": [
    "add(1,2)"
   ]
  },
  {
   "cell_type": "code",
   "execution_count": null,
   "metadata": {},
   "outputs": [],
   "source": [
    "answer = add(2,3)\n",
    "print(answer)"
   ]
  },
  {
   "cell_type": "code",
   "execution_count": null,
   "metadata": {},
   "outputs": [],
   "source": [
    "print(add(1,2))"
   ]
  },
  {
   "cell_type": "code",
   "execution_count": null,
   "metadata": {},
   "outputs": [],
   "source": [
    "print(answer)"
   ]
  },
  {
   "cell_type": "code",
   "execution_count": null,
   "metadata": {},
   "outputs": [],
   "source": [
    "def sub(c,d):\n",
    "    answer = c - d\n",
    "    return answer\n",
    "\n",
    "subAnswer = sub(5,2)\n",
    "print(subAnswer)"
   ]
  },
  {
   "cell_type": "code",
   "execution_count": null,
   "metadata": {},
   "outputs": [],
   "source": [
    "num1 = int(input(\"enter 1st number\"))\n",
    "num2 = int(input(\"enter 2nd number\"))\n",
    "\n",
    "def add(num1,num2):\n",
    "    answer = num1 + num2\n",
    "    return answer\n",
    "\n",
    "addAnswer = add(num1,num2)\n",
    "print(addAnswer)\n",
    "\n"
   ]
  },
  {
   "cell_type": "code",
   "execution_count": null,
   "metadata": {},
   "outputs": [],
   "source": [
    "# First the Loop Set Up\n",
    "\n",
    "cont = True\n",
    "testA = 0\n",
    "\n",
    "while cont == True: \n",
    "    if cont == False:\n",
    "        break\n",
    "        \n",
    "    print(testA)\n",
    "    response = input(\"Would you Like To Continue, type 'Y' or 'N'\")\n",
    "    if response == 'y':\n",
    "        cont = True\n",
    "        testA +=1\n",
    "    else:\n",
    "        cont = False\n",
    "        print(\"Thanks for playing\")"
   ]
  },
  {
   "cell_type": "markdown",
   "metadata": {},
   "source": [
    "# Function in a Function?"
   ]
  },
  {
   "cell_type": "code",
   "execution_count": null,
   "metadata": {},
   "outputs": [],
   "source": [
    "numA = 0\n",
    "numB = 0 \n",
    "name = \"xxxx\"\n",
    "\n",
    "def add1Func(numA, numB):\n",
    "    answer1 = numA + numB\n",
    "    return answer1\n",
    "\n",
    "def giveAnswer(name):\n",
    "    answer0 = add1Func(numA,numB)\n",
    "    print(name + \" your answer is \" + str(answer0))\n",
    "\n",
    "numA = int(input(\"Give me a number:  \"))\n",
    "numB = int(input(\"Give me a number:  \"))\n",
    "name = input(\"Give your name\")\n",
    "\n",
    "print()\n",
    "\n",
    "giveAnswer(name)\n",
    "\n",
    "\n",
    "\n"
   ]
  },
  {
   "cell_type": "code",
   "execution_count": null,
   "metadata": {},
   "outputs": [],
   "source": [
    "highNum = False\n",
    "\n",
    "def highNumFunc(highNum):\n",
    "    while highNum == False or highNum < -100 or highNum > 100:\n",
    "        highNum = int(input(\"Please provide a number as your high number:   \"))\n",
    "        print()\n",
    "        if highNum < -100 or highNum > 100:\n",
    "            print(\"Please select BETWEEN -100 and 100.\")\n",
    "            print()\n",
    "        else:\n",
    "            print(\"Thank you.  Your high number is:\", highNum)\n",
    "            return highNum\n",
    "            print()\n",
    "\n",
    "highNum = highNumFunc(highNum)\n",
    "        \n",
    "print(highNum)\n",
    "    "
   ]
  },
  {
   "cell_type": "code",
   "execution_count": null,
   "metadata": {},
   "outputs": [],
   "source": [
    "lowNum = False\n",
    "\n",
    "def lowNumFunc(lowNum,highNum):\n",
    "    while lowNum == False or lowNum < -100 or lowNum > highNum:\n",
    "        lowNum = int(input(\"Please provide a number as your low number:   \"))\n",
    "        print()\n",
    "        if lowNum < -100 or lowNum > 100:\n",
    "            print(\"Please select BETWEEN -1004 and 100.\")\n",
    "            print()\n",
    "        elif lowNum > highNum:\n",
    "            print(\"Please select a number lower than your high number.   \")\n",
    "            print()\n",
    "        else:\n",
    "            print(\"Thank you.  Your low number is:   \", lowNum)\n",
    "            return lowNum\n",
    "            print()\n",
    "\n",
    "lowNum = lowNumFunc(lowNum, highNum)\n"
   ]
  },
  {
   "cell_type": "code",
   "execution_count": null,
   "metadata": {},
   "outputs": [],
   "source": [
    "print(lowNum)"
   ]
  },
  {
   "cell_type": "code",
   "execution_count": null,
   "metadata": {},
   "outputs": [],
   "source": [
    "print(highNum)"
   ]
  },
  {
   "cell_type": "code",
   "execution_count": null,
   "metadata": {},
   "outputs": [],
   "source": [
    "numA = False\n",
    "\n",
    "def numAFunc(numA):\n",
    "    print(\"Now please select two numbers between\", highNum, \"and\", lowNum, \"and we will provide their sum, difference, product and quotient.\")\n",
    "    print()\n",
    "    while numA == False or numA < lowNum or numA > highNum:\n",
    "        numA = int(input(\"Please select a number:   \"))\n",
    "        print()\n",
    "        if numA < lowNum or numA > highNum:\n",
    "            print(\"Please choose a number between the range of\", lowNum, \"and\", highNum)\n",
    "            print()\n",
    "        else:\n",
    "            print(\"Thank you.  You chose:   \", numA)\n",
    "            return numA\n",
    "            print()\n",
    "\n",
    "numA = numAFunc(numA)\n",
    "\n",
    "print(numA)"
   ]
  },
  {
   "cell_type": "code",
   "execution_count": null,
   "metadata": {},
   "outputs": [],
   "source": [
    "numB = False\n",
    "\n",
    "def numBFunc(numB):\n",
    "    while numB == False or numB < lowNum or numB > highNum:\n",
    "        numB = int(input(\"Please select a Second number:   \"))\n",
    "        print()\n",
    "        if numB < lowNum or numB > highNum:\n",
    "            print(\"Please choose a number between the range of\", lowNum, \"and\", highNum)\n",
    "            print()\n",
    "        else:\n",
    "            print(\"Thank you.  You chose:   \", numB)\n",
    "            return numB\n",
    "            print()\n",
    "\n",
    "numB = numBFunc(numB)\n",
    "\n",
    "print(numB)"
   ]
  },
  {
   "cell_type": "code",
   "execution_count": null,
   "metadata": {},
   "outputs": [],
   "source": [
    "def isinrange (lr, hr, n):\n",
    "    if n > lr and n < hr:\n",
    "        return True\n",
    "    else:\n",
    "        return False "
   ]
  },
  {
   "cell_type": "code",
   "execution_count": null,
   "metadata": {},
   "outputs": [],
   "source": [
    "if isinrange(1,10,5) == True and isinrange(1,10,4) == True:\n",
    "    print(\"Both times the function is true\")\n",
    "else:\n",
    "    print(\"One of these functions is not true\")"
   ]
  },
  {
   "cell_type": "markdown",
   "metadata": {},
   "source": [
    "# Test Change as a Whole"
   ]
  },
  {
   "cell_type": "code",
   "execution_count": 5,
   "metadata": {},
   "outputs": [
    {
     "name": "stdout",
     "output_type": "stream",
     "text": [
      "Please select your low number between 100 and -100:  11\n",
      "Please select your high number between 100 and -100:  100\n",
      "Please select the first number between 100 and 11 to be calculated:  54\n",
      "Please select the second number between 100 and 11 to be calculated:  23\n",
      "When you add 54 to 23 the sum is 77\n",
      "When you subtract 23 from 54 the difference is -31\n",
      "When you multiply 54 with 23 the product is 1242\n",
      "When you divide 54 by 23 the quotent is 2.347826086956522\n",
      "Would you Like To Continue, type 'Y' or 'N'v\n",
      "no calculations are performed\n",
      "Please select your low number between 100 and -100:  1\n",
      "Please select your high number between 100 and -100:  55\n",
      "Please select the first number between 55 and 1 to be calculated:  23\n",
      "Please select the second number between 55 and 1 to be calculated:  45\n",
      "When you add 23 to 45 the sum is 68\n",
      "When you subtract 45 from 23 the difference is 22\n",
      "When you multiply 23 with 45 the product is 1035\n",
      "When you divide 23 by 45 the quotent is 0.5111111111111111\n",
      "Would you Like To Continue, type 'Y' or 'N'n\n",
      "Thank you for letting us calculate more numbers!\n"
     ]
    }
   ],
   "source": [
    "# Build Calc Functions\n",
    "\n",
    "def addFunc(numA, numB):\n",
    "    return numA + numB\n",
    "\n",
    "\n",
    "def subFunc(numA, numB):\n",
    "    return numB - numA\n",
    "\n",
    "\n",
    "def multFunc(numA, numB):\n",
    "    return numB * numA\n",
    "\n",
    "\n",
    "def divFunc(numA, numB): \n",
    "    return numA / numB\n",
    "\n",
    "# Check in Range Function\n",
    "\n",
    "def isinrange (lr, hr, n):\n",
    "    if n > lr and n < hr:\n",
    "        return True\n",
    "    else:\n",
    "        return False \n",
    "    \n",
    "# Begin Loop\n",
    "\n",
    "cont = True\n",
    "\n",
    "while cont == True: \n",
    "    \n",
    "    # \"All four input values are read first, no matter what...\" \n",
    "\n",
    "    low = int(input(\"Please select your low number between 100 and -100:  \"))\n",
    "    high = int(input(\"Please select your high number between 100 and -100:  \"))\n",
    "\n",
    "    numA = int(input(\"Please select the first number between \" + str(high) + \" and \" + str(low) + \" to be calculated:  \"))\n",
    "    numB = int(input(\"Please select the second number between \" + str(high) + \" and \" + str(low) + \" to be calculated:  \"))\n",
    "\n",
    "\n",
    "    # \"The function will need to be called twice in order to test that both input values are in range\"\n",
    "\n",
    "    if isinrange(low,high,numA) == True and isinrange(low,high,numB) == True:\n",
    "\n",
    "    # \"There are no input or print statements inside these functions...\"\n",
    "\n",
    "        print(\"When you add\", numA, \"to\", numB, \"the sum is\", addFunc(numA, numB))\n",
    "        print(\"When you subtract\", numB, \"from\", numA, \"the difference is\", subFunc(numA, numB))\n",
    "        print(\"When you multiply\", numA, \"with\", numB, \"the product is\", multFunc(numA, numB))\n",
    "        if numB == 0:\n",
    "            print(\"no calculations are performed\")\n",
    "        else:\n",
    "            print(\"When you divide\", numA, \"by\", numB, \"the quotent is\", divFunc(numA, numB))\n",
    "    else:\n",
    "        print(\"no calculations are performed\")  \n",
    "    \n",
    "    # Continue Loop or Not\n",
    "    \n",
    "    response = input(\"Would you Like To Continue, type 'Y' or 'N'\")\n",
    "    if response == 'y' or response == 'Y':\n",
    "        numA = False\n",
    "        numB = False\n",
    "        highNum = False\n",
    "        lowNum = False\n",
    "        cont = True\n",
    "\n",
    "    elif response == 'n' or response == 'N':\n",
    "        cont = False\n",
    "        print(\"Thank you for letting us calculate more numbers!\")  \n",
    "        break\n",
    "\n",
    "    else:\n",
    "        print(\"no calculations are performed\")\n",
    "        numA = False\n",
    "        numB = False\n",
    "        highNum = False\n",
    "        lowNum = False\n",
    "        cont = True\n",
    "        "
   ]
  },
  {
   "cell_type": "code",
   "execution_count": null,
   "metadata": {},
   "outputs": [],
   "source": []
  }
 ],
 "metadata": {
  "kernelspec": {
   "display_name": "Python 3",
   "language": "python",
   "name": "python3"
  },
  "language_info": {
   "codemirror_mode": {
    "name": "ipython",
    "version": 3
   },
   "file_extension": ".py",
   "mimetype": "text/x-python",
   "name": "python",
   "nbconvert_exporter": "python",
   "pygments_lexer": "ipython3",
   "version": "3.7.6"
  }
 },
 "nbformat": 4,
 "nbformat_minor": 4
}
