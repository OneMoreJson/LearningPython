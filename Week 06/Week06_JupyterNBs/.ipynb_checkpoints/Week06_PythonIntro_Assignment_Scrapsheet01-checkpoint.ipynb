{
 "cells": [
  {
   "cell_type": "markdown",
   "metadata": {},
   "source": [
    "# Functions"
   ]
  },
  {
   "cell_type": "code",
   "execution_count": 1,
   "metadata": {},
   "outputs": [],
   "source": [
    "def addNum(numbA, numbB):\n",
    "    return numbA + numbB\n",
    "\n",
    "def subNum(numbA, numbB):\n",
    "    return numbB - numbA\n",
    "\n",
    "def multNum(numbA, numbB):\n",
    "    return numbA * numbB\n",
    "\n",
    "def divNum(numbA, numbB):\n",
    "    return numbA / numB"
   ]
  },
  {
   "cell_type": "code",
   "execution_count": 2,
   "metadata": {},
   "outputs": [],
   "source": [
    "# def sCalc(numA, numB, userSelect):\n",
    "#     if userSelect == \"1\" or userSelect.lower() == \"add\" or userSelect.lower() == \"a\":\n",
    "#         return addNum(numA, numB)\n",
    "    \n",
    "#     elif userSelect == \"2\" or userSelect.lower() == \"subtract\" or userSelect.lower() == \"s\":\n",
    "#         return subNum(numA, numB)\n",
    "    \n",
    "#     elif userSelect == \"3\" or userSelect.lower() == \"multiply\" or userSelect.lower() == \"m\":\n",
    "#         return multNum(numA, numB)\n",
    "\n",
    "#     elif userSelect == \"4\" or userSelect.lower() == \"divide\" or userSelect.lower() == \"d\":\n",
    "#         return divNum(numA, numB)\n",
    "\n",
    "#     elif userSelect == \"5\" or userSelect.lower() == \"all\":\n",
    "#         return addNum(numA, numB), subNum(numA, numB), multNum(numA, numB), divNum(numA, numB)\n",
    "\n",
    "#     elif userSelect.lower() == \"exit\"or userSelect.lower() == \"e\":\n",
    "#         print(\"goodbye\")\n",
    "        \n",
    "#     else:\n",
    "#         print(\"you did not select anything\")\n"
   ]
  },
  {
   "cell_type": "code",
   "execution_count": null,
   "metadata": {},
   "outputs": [],
   "source": [
    "def memoryFunc(userSelect):\n",
    "    if userSelect == \"1\" or userSelect.lower() == \"add\" or userSelect.lower() == \"a\":\n",
    "        memoryDict['Add'] = addNum(numbA, numbB)\n",
    "        memoryDict['Subtract'] = 0\n",
    "        memoryDict['Multiply'] = 0\n",
    "        memoryDict['Divide'] = 0\n",
    "        return memoryDict['Add'], memoryDict['Subtract'], memoryDict['Multiply'], memoryDict['Divide']\n",
    "\n",
    "    elif userSelect == \"2\" or userSelect.lower() == \"subtract\" or userSelect.lower() == \"s\":\n",
    "        memoryDict['Add'] = 0\n",
    "        memoryDict['Subtract'] = subNum(numbA, numbB)\n",
    "        memoryDict['Multiply'] = 0\n",
    "        memoryDict['Divide'] = 0\n",
    "        return memoryDict['Add'], memoryDict['Subtract'], memoryDict['Multiply'], memoryDict['Divide']\n",
    "\n",
    "    elif userSelect == \"3\" or userSelect.lower() == \"multiply\" or userSelect.lower() == \"m\":\n",
    "        memoryDict['Add'] = 0\n",
    "        memoryDict['Subtract'] = 0\n",
    "        memoryDict['Multiply'] = multNum(numbA, numbB)\n",
    "        memoryDict['Divide'] = 0\n",
    "        return memoryDict['Add'], memoryDict['Subtract'], memoryDict['Multiply'], memoryDict['Divide']\n",
    "\n",
    "    elif userSelect == \"4\" or userSelect.lower() == \"divide\" or userSelect.lower() == \"d\":\n",
    "        memoryDict['Add'] = 0\n",
    "        memoryDict['Subtract'] = 0\n",
    "        memoryDict['Multiply'] = 0\n",
    "        memoryDict['Divide'] = divNum(numbA, numbB)\n",
    "        return memoryDict['Add'], memoryDict['Subtract'], memoryDict['Multiply'], memoryDict['Divide']\n",
    "\n",
    "    elif userSelect == \"5\" or userSelect.lower() == \"all\":\n",
    "        memoryDict['Add'] = addNum(numbA, numbB)\n",
    "        memoryDict['Subtract'] = subNum(numbA, numbB)\n",
    "        memoryDict['Multiply'] = multNum(numbA, numbB)\n",
    "        memoryDict['Divide'] = divNum(numbA, numbB)\n",
    "        return memoryDict['Add'], memoryDict['Subtract'], memoryDict['Multiply'], memoryDict['Divide']\n",
    "\n",
    "    elif userSelect.lower() == \"exit\"or userSelect.lower() == \"e\":\n",
    "        memoryDict['Add'] = 0\n",
    "        memoryDict['Subtract'] = 0\n",
    "        memoryDict['Multiply'] = 0\n",
    "        memoryDict['Divide'] = 0\n",
    "        return memoryDict['Add'], memoryDict['Subtract'], memoryDict['Multiply'], memoryDict['Divide']\n",
    "\n",
    "    else:\n",
    "        memoryDict['Add'] = 0\n",
    "        memoryDict['Subtract'] = 0\n",
    "        memoryDict['Multiply'] = 0\n",
    "        memoryDict['Divide'] = 0\n",
    "        return memoryDict['Add'], memoryDict['Subtract'], memoryDict['Multiply'], memoryDict['Divide']\n",
    "        print(\"nothing in storage\")"
   ]
  },
  {
   "cell_type": "code",
   "execution_count": 3,
   "metadata": {},
   "outputs": [],
   "source": [
    "# def memoryFunc(userSelect):\n",
    "#     if userSelect == \"1\" or userSelect.lower() == \"add\" or userSelect.lower() == \"a\":\n",
    "#         memoryDict['Add'] = sCalc(numA, numB, '1')\n",
    "#         memoryDict['Subtract'] = 0\n",
    "#         memoryDict['Multiply'] = 0\n",
    "#         memoryDict['Divide'] = 0\n",
    "#         return memoryDict['Add'], memoryDict['Subtract'], memoryDict['Multiply'], memoryDict['Divide']\n",
    "\n",
    "#     elif userSelect == \"2\" or userSelect.lower() == \"subtract\" or userSelect.lower() == \"s\":\n",
    "#         memoryDict['Add'] = 0\n",
    "#         memoryDict['Subtract'] = sCalc(numA, numB, '2')\n",
    "#         memoryDict['Multiply'] = 0\n",
    "#         memoryDict['Divide'] = 0\n",
    "#         return memoryDict['Add'], memoryDict['Subtract'], memoryDict['Multiply'], memoryDict['Divide']\n",
    "\n",
    "#     elif userSelect == \"3\" or userSelect.lower() == \"multiply\" or userSelect.lower() == \"m\":\n",
    "#         memoryDict['Add'] = 0\n",
    "#         memoryDict['Subtract'] = 0\n",
    "#         memoryDict['Multiply'] = sCalc(numA, numB, '3')\n",
    "#         memoryDict['Divide'] = 0\n",
    "#         return memoryDict['Add'], memoryDict['Subtract'], memoryDict['Multiply'], memoryDict['Divide']\n",
    "\n",
    "#     elif userSelect == \"4\" or userSelect.lower() == \"divide\" or userSelect.lower() == \"d\":\n",
    "#         memoryDict['Add'] = 0\n",
    "#         memoryDict['Subtract'] = 0\n",
    "#         memoryDict['Multiply'] = 0\n",
    "#         memoryDict['Divide'] = sCalc(numA, numB, '4')\n",
    "#         return memoryDict['Add'], memoryDict['Subtract'], memoryDict['Multiply'], memoryDict['Divide']\n",
    "\n",
    "#     elif userSelect == \"5\" or userSelect.lower() == \"all\":\n",
    "#         memoryDict['Add'] = sCalc(numA, numB, '1')\n",
    "#         memoryDict['Subtract'] = sCalc(numA, numB, '2')\n",
    "#         memoryDict['Multiply'] = sCalc(numA, numB, '3')\n",
    "#         memoryDict['Divide'] = sCalc(numA, numB, '4')\n",
    "#         return memoryDict['Add'], memoryDict['Subtract'], memoryDict['Multiply'], memoryDict['Divide']\n",
    "\n",
    "#     elif userSelect.lower() == \"exit\"or userSelect.lower() == \"e\":\n",
    "#         memoryDict['Add'] = 0\n",
    "#         memoryDict['Subtract'] = 0\n",
    "#         memoryDict['Multiply'] = 0\n",
    "#         memoryDict['Divide'] = 0\n",
    "#         return memoryDict['Add'], memoryDict['Subtract'], memoryDict['Multiply'], memoryDict['Divide']\n",
    "\n",
    "#     else:\n",
    "#         memoryDict['Add'] = 0\n",
    "#         memoryDict['Subtract'] = 0\n",
    "#         memoryDict['Multiply'] = 0\n",
    "#         memoryDict['Divide'] = 0\n",
    "#         return memoryDict['Add'], memoryDict['Subtract'], memoryDict['Multiply'], memoryDict['Divide']\n",
    "#         print(\"nothing in storage\")"
   ]
  },
  {
   "cell_type": "markdown",
   "metadata": {},
   "source": [
    "# Set Lists, Dicts, and Vars"
   ]
  },
  {
   "cell_type": "code",
   "execution_count": 4,
   "metadata": {},
   "outputs": [],
   "source": [
    "menu = [\"Add\", \"Subtract\", \"Multiply\", \"Divide\", \"All\", \"Exit\"]"
   ]
  },
  {
   "cell_type": "code",
   "execution_count": 5,
   "metadata": {},
   "outputs": [],
   "source": [
    "memoryDict = {'Add': 0, 'Subtract': 0, 'Multiply': 0, 'Divide': 0}"
   ]
  },
  {
   "cell_type": "code",
   "execution_count": 16,
   "metadata": {},
   "outputs": [
    {
     "name": "stdout",
     "output_type": "stream",
     "text": [
      "pick first number for calc0\n",
      "pick first number for calc2\n",
      "0 2\n"
     ]
    }
   ],
   "source": [
    "numA = int(input(\"pick first number for calc\"))\n",
    "numB = int(input(\"pick first number for calc\"))\n",
    "\n",
    "print(numA, numB)"
   ]
  },
  {
   "cell_type": "code",
   "execution_count": 17,
   "metadata": {},
   "outputs": [
    {
     "name": "stdout",
     "output_type": "stream",
     "text": [
      "Please select one of the following:\n",
      "1. Add\n",
      "2. Subtract\n",
      "3. Multiply\n",
      "4. Divide\n",
      "5. All\n",
      "6. Exit\n",
      "\n",
      "5\n"
     ]
    }
   ],
   "source": [
    "userSelect = input(\"Please select one of the following:\\n1. \" + menu[0] + \"\\n2. \" + menu[1] + \"\\n3. \" + menu[2] + \"\\n4. \" + menu[3] + \"\\n5. \" + menu[4] + \"\\n6. \" + menu[5] + \"\\n\\n\")"
   ]
  },
  {
   "cell_type": "markdown",
   "metadata": {},
   "source": [
    "# Run Code"
   ]
  },
  {
   "cell_type": "code",
   "execution_count": 18,
   "metadata": {},
   "outputs": [
    {
     "data": {
      "text/plain": [
       "(2, 2, 0, 0.0)"
      ]
     },
     "execution_count": 18,
     "metadata": {},
     "output_type": "execute_result"
    }
   ],
   "source": [
    "sCalc(numA, numB, userSelect)     # Checking to see if it's outputting correctly"
   ]
  },
  {
   "cell_type": "code",
   "execution_count": 19,
   "metadata": {},
   "outputs": [
    {
     "data": {
      "text/plain": [
       "(2, 2, 0, 0.0)"
      ]
     },
     "execution_count": 19,
     "metadata": {},
     "output_type": "execute_result"
    }
   ],
   "source": [
    "memoryFunc(userSelect) # Checking to see if it's outputting correctly"
   ]
  },
  {
   "cell_type": "code",
   "execution_count": 20,
   "metadata": {},
   "outputs": [
    {
     "name": "stdout",
     "output_type": "stream",
     "text": [
      "{'Add': 2, 'Subtract': 2, 'Multiply': 0, 'Divide': 0.0}\n"
     ]
    }
   ],
   "source": [
    "print(memoryDict)"
   ]
  },
  {
   "cell_type": "code",
   "execution_count": null,
   "metadata": {},
   "outputs": [],
   "source": []
  }
 ],
 "metadata": {
  "kernelspec": {
   "display_name": "Python 3",
   "language": "python",
   "name": "python3"
  },
  "language_info": {
   "codemirror_mode": {
    "name": "ipython",
    "version": 3
   },
   "file_extension": ".py",
   "mimetype": "text/x-python",
   "name": "python",
   "nbconvert_exporter": "python",
   "pygments_lexer": "ipython3",
   "version": "3.7.6"
  }
 },
 "nbformat": 4,
 "nbformat_minor": 4
}
