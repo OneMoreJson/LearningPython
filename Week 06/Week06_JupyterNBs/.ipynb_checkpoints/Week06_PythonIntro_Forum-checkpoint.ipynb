{
 "cells": [
  {
   "cell_type": "code",
   "execution_count": 1,
   "metadata": {},
   "outputs": [
    {
     "name": "stdout",
     "output_type": "stream",
     "text": [
      "['a', True, 'Hello There', 8, 9.101]\n"
     ]
    }
   ],
   "source": [
    "# List with all the data types\n",
    "\n",
    "myListA = ['a', True, 'Hello There', 8, 9.101]\n",
    "\n",
    "print(myListA)"
   ]
  },
  {
   "cell_type": "code",
   "execution_count": 3,
   "metadata": {},
   "outputs": [
    {
     "name": "stdout",
     "output_type": "stream",
     "text": [
      "['following this, a list', ['a', 'b', 'c']]\n"
     ]
    }
   ],
   "source": [
    "# List with a List inside\n",
    "\n",
    "myListB = ['following this, a list', ['a','b','c']]\n",
    "\n",
    "print(myListB)"
   ]
  },
  {
   "cell_type": "code",
   "execution_count": 14,
   "metadata": {},
   "outputs": [
    {
     "name": "stdout",
     "output_type": "stream",
     "text": [
      "[2, 5, 3, 4, 1]\n",
      "[2, 5, 3, 4, 1]\n",
      "[1, 2, 3, 4, 5]\n"
     ]
    }
   ],
   "source": [
    "# Now lets manipulate the data\n",
    "\n",
    "listA = [2, 5, 3, 4, 1]\n",
    "\n",
    "print(listA)\n",
    "\n",
    "nums_sorted = sorted(listA)\n",
    "\n",
    "print(listA)               # listA was sorted but does not remain sorted\n",
    "print(nums_sorted)         # listA sorted data placed in var and we keep the sorted list "
   ]
  },
  {
   "cell_type": "code",
   "execution_count": 28,
   "metadata": {},
   "outputs": [
    {
     "name": "stdout",
     "output_type": "stream",
     "text": [
      "['b', 'b', 'b']\n",
      "['b', 'b', 'b', 'c']\n",
      "['a', 'b', 'b', 'b', 'c']\n",
      "['a', 'b', 'b', 'c']\n"
     ]
    }
   ],
   "source": [
    "# Add and Delete\n",
    "\n",
    "listB = ['b', 'b', 'b']\n",
    "\n",
    "print(listB)\n",
    "\n",
    "listB.append('c')  # add to the end\n",
    "\n",
    "print(listB)\n",
    "\n",
    "listB.insert(0, 'a')  # insert data at position '0'\n",
    "\n",
    "print(listB)\n",
    "\n",
    "listB.remove('b')\n",
    "\n",
    "print(listB)  # deletes first 'b'\n"
   ]
  },
  {
   "cell_type": "code",
   "execution_count": 31,
   "metadata": {},
   "outputs": [
    {
     "name": "stdout",
     "output_type": "stream",
     "text": [
      "<class 'tuple'>\n",
      "('John', 'blue eyes', 'blond hair', '69 inches', {'class': 'warrio'})\n"
     ]
    }
   ],
   "source": [
    "# Lets make a tupld of a character in a game ... note the dictionary inside!!\n",
    "\n",
    "characterA = ('John', 'blue eyes', 'blond hair', '69 inches', {'class': 'warrio'})\n",
    "\n",
    "print(type(characterA))\n",
    "print(characterA)\n"
   ]
  },
  {
   "cell_type": "code",
   "execution_count": 37,
   "metadata": {},
   "outputs": [
    {
     "name": "stdout",
     "output_type": "stream",
     "text": [
      "['101-555-1111', '253-555-1111', '605-555-1111', '907-555-1111', '927-555-1111']\n"
     ]
    }
   ],
   "source": [
    "# Sorting Tuple information\n",
    "phoneNumsTups = ('253-555-1111',\n",
    "                 '907-555-1111',\n",
    "                 '927-555-1111',\n",
    "                 '605-555-1111',\n",
    "                 '101-555-1111', )\n",
    "\n",
    "print(sorted(phoneNumsTups))"
   ]
  },
  {
   "cell_type": "code",
   "execution_count": 39,
   "metadata": {},
   "outputs": [
    {
     "name": "stdout",
     "output_type": "stream",
     "text": [
      "<class 'dict'>\n",
      "{'name': 'Roberto', 'hair': 'blue', 'eyes': 'grey', 'class': 'rogue', 'awards': 'none'}\n"
     ]
    }
   ],
   "source": [
    "characterB = {'name': 'Roberto', \n",
    "              'hair': 'blue', \n",
    "              'eyes': 'grey', \n",
    "              'class': 'rogue', \n",
    "              'awards': 'none'}\n",
    "print(type(characterB))\n",
    "print(characterB)"
   ]
  },
  {
   "cell_type": "code",
   "execution_count": 43,
   "metadata": {},
   "outputs": [
    {
     "name": "stdout",
     "output_type": "stream",
     "text": [
      "Roberto, you have been awarded the achievement of Rotten Rapscallion\n"
     ]
    }
   ],
   "source": [
    "characterB['awards'] = 'Rotten Rapscallion'\n",
    "\n",
    "print(characterB['name'] + \", you have been awarded the achievement of \" + characterB['awards'] )"
   ]
  },
  {
   "cell_type": "code",
   "execution_count": null,
   "metadata": {},
   "outputs": [],
   "source": []
  },
  {
   "cell_type": "code",
   "execution_count": 51,
   "metadata": {},
   "outputs": [
    {
     "name": "stdout",
     "output_type": "stream",
     "text": [
      "treasure\n"
     ]
    }
   ],
   "source": [
    "crazyDeepList = ['firstList', ['secondList', ['thirdList', ['fourthList', ['fifthList', 'hike', 'treasure']]]]]\n",
    "\n",
    "# now to get the treasure...\n",
    "\n",
    "print(crazyDeepList[1][1][1][1][2])"
   ]
  },
  {
   "cell_type": "code",
   "execution_count": null,
   "metadata": {},
   "outputs": [],
   "source": []
  },
  {
   "cell_type": "code",
   "execution_count": null,
   "metadata": {},
   "outputs": [],
   "source": []
  },
  {
   "cell_type": "code",
   "execution_count": null,
   "metadata": {},
   "outputs": [],
   "source": []
  },
  {
   "cell_type": "code",
   "execution_count": null,
   "metadata": {},
   "outputs": [],
   "source": []
  },
  {
   "cell_type": "code",
   "execution_count": null,
   "metadata": {},
   "outputs": [],
   "source": []
  },
  {
   "cell_type": "code",
   "execution_count": null,
   "metadata": {},
   "outputs": [],
   "source": []
  },
  {
   "cell_type": "code",
   "execution_count": null,
   "metadata": {},
   "outputs": [],
   "source": []
  }
 ],
 "metadata": {
  "kernelspec": {
   "display_name": "Python 3",
   "language": "python",
   "name": "python3"
  },
  "language_info": {
   "codemirror_mode": {
    "name": "ipython",
    "version": 3
   },
   "file_extension": ".py",
   "mimetype": "text/x-python",
   "name": "python",
   "nbconvert_exporter": "python",
   "pygments_lexer": "ipython3",
   "version": "3.7.6"
  }
 },
 "nbformat": 4,
 "nbformat_minor": 4
}
