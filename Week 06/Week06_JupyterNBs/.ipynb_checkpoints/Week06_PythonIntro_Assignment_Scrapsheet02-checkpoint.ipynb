{
 "cells": [
  {
   "cell_type": "code",
   "execution_count": 15,
   "metadata": {},
   "outputs": [],
   "source": [
    "def addNum(a, b):\n",
    "    return a + b\n",
    "\n",
    "def subNum(a, b):\n",
    "    return a - b\n",
    "\n",
    "def multNum(a, b):\n",
    "    return a * b\n",
    "\n",
    "def divNum(a, b):\n",
    "    return a / b\n"
   ]
  },
  {
   "cell_type": "code",
   "execution_count": 16,
   "metadata": {},
   "outputs": [],
   "source": [
    "def calcFunc(numA, numB, operator):\n",
    "    if operator == \"add\":\n",
    "        return addNum(numA, numB)\n",
    "    if operator == \"sub\":\n",
    "        return subNum(numA, numB)\n",
    "    if operator == \"mult\":\n",
    "        return multNum(numA, numB)\n",
    "    if operator == \"div\":\n",
    "        return divNum(numA, numB)\n",
    "    if operator == \"all\":\n",
    "        return addNum(numA, numB), subNum(numA, numB), multNum(numA, numB), divNum(numA, numB)\n",
    "    else:\n",
    "        print(\"nothing\")"
   ]
  },
  {
   "cell_type": "code",
   "execution_count": 18,
   "metadata": {},
   "outputs": [
    {
     "name": "stdout",
     "output_type": "stream",
     "text": [
      "pick first number:\n",
      "\n",
      "2\n",
      "pick second number:\n",
      "\n",
      "4\n",
      "pick operator:\n",
      "\n",
      "add\n"
     ]
    }
   ],
   "source": [
    "numA = int(input(\"pick first number:\\n\\n\"))\n",
    "numB = int(input(\"pick second number:\\n\\n\"))\n",
    "op = input(\"pick operator:\\n\\n\")"
   ]
  },
  {
   "cell_type": "code",
   "execution_count": 10,
   "metadata": {},
   "outputs": [
    {
     "data": {
      "text/plain": [
       "-3"
      ]
     },
     "execution_count": 10,
     "metadata": {},
     "output_type": "execute_result"
    }
   ],
   "source": [
    "calcFunc(numA, numB, op)"
   ]
  },
  {
   "cell_type": "code",
   "execution_count": 11,
   "metadata": {},
   "outputs": [],
   "source": [
    "calcDic = {'add': 0,'sub': 0,'mult': 0,'div': 0}"
   ]
  },
  {
   "cell_type": "code",
   "execution_count": 12,
   "metadata": {},
   "outputs": [],
   "source": [
    "def recFunc(operator):\n",
    "    if operator == 'add':\n",
    "        calcDic['add'] = calcFunc(numA, numB, 'add')\n",
    "        calcDic['sub'] = 0\n",
    "        calcDic['mult'] = 0\n",
    "        calcDic['div'] = 0\n",
    "        return calcDic['add'], calcDic['sub'], calcDic['mult'], calcDic['div']\n",
    "    elif operator == 'sub':\n",
    "        calcDic['add'] = 0\n",
    "        calcDic['sub'] = calcFunc(numA, numB, 'sub')\n",
    "        calcDic['mult'] = 0\n",
    "        calcDic['div'] = 0\n",
    "        return calcDic['add'], calcDic['sub'], calcDic['mult'], calcDic['div']\n",
    "    elif operator == 'mult':\n",
    "        calcDic['add'] = 0\n",
    "        calcDic['sub'] = 0\n",
    "        calcDic['mult'] = calcFunc(numA, numB, 'mult')\n",
    "        calcDic['div'] = 0\n",
    "        return calcDic['add'], calcDic['sub'], calcDic['mult'], calcDic['div']\n",
    "    elif operator == 'div':\n",
    "        calcDic['add'] = 0\n",
    "        calcDic['sub'] = 0\n",
    "        calcDic['mult'] = 0\n",
    "        calcDic['div'] = calcFunc(numA, numB, 'div')\n",
    "        return calcDic['add'], calcDic['sub'], calcDic['mult'], calcDic['div']\n",
    "    elif operator == 'all':\n",
    "        calcDic['add'] = calcFunc(numA, numB, 'add')\n",
    "        calcDic['sub'] = calcFunc(numA, numB, 'sub')\n",
    "        calcDic['mult'] = calcFunc(numA, numB, 'mult')\n",
    "        calcDic['div'] = calcFunc(numA, numB, 'div')\n",
    "        return calcDic['add'], calcDic['sub'], calcDic['mult'], calcDic['div']\n",
    "    else:\n",
    "        print('stopped here')\n",
    "    "
   ]
  },
  {
   "cell_type": "code",
   "execution_count": 13,
   "metadata": {},
   "outputs": [
    {
     "data": {
      "text/plain": [
       "(0, -3, 0, 0)"
      ]
     },
     "execution_count": 13,
     "metadata": {},
     "output_type": "execute_result"
    }
   ],
   "source": [
    "recFunc(op)"
   ]
  },
  {
   "cell_type": "code",
   "execution_count": 14,
   "metadata": {},
   "outputs": [
    {
     "name": "stdout",
     "output_type": "stream",
     "text": [
      "{'add': 0, 'sub': -3, 'mult': 0, 'div': 0}\n"
     ]
    }
   ],
   "source": [
    "print(calcDic)"
   ]
  },
  {
   "cell_type": "code",
   "execution_count": null,
   "metadata": {},
   "outputs": [],
   "source": []
  },
  {
   "cell_type": "code",
   "execution_count": null,
   "metadata": {},
   "outputs": [],
   "source": []
  }
 ],
 "metadata": {
  "kernelspec": {
   "display_name": "Python 3",
   "language": "python",
   "name": "python3"
  },
  "language_info": {
   "codemirror_mode": {
    "name": "ipython",
    "version": 3
   },
   "file_extension": ".py",
   "mimetype": "text/x-python",
   "name": "python",
   "nbconvert_exporter": "python",
   "pygments_lexer": "ipython3",
   "version": "3.7.6"
  }
 },
 "nbformat": 4,
 "nbformat_minor": 4
}
