{
 "cells": [
  {
   "cell_type": "code",
   "execution_count": 7,
   "metadata": {},
   "outputs": [
    {
     "name": "stdout",
     "output_type": "stream",
     "text": [
      "please enter a number to add2\n",
      "please enter 2nd number to add3\n",
      "Congratulations, you made it to the end of the code with 5 as your answer\n"
     ]
    }
   ],
   "source": [
    "# First lets build something that can crash if we don’t use exception handling\n",
    "\n",
    "\n",
    "a = int(input(\"please enter a number to add:  \"))\n",
    "b = int(input(\"please enter 2nd number to add:  \"))\n",
    "\n",
    "mySum = a + b \n",
    "\n",
    "print(\"Congratulations, you made it to the end of the code with \" + str(mySum) + \" as your answer\")"
   ]
  },
  {
   "cell_type": "code",
   "execution_count": 8,
   "metadata": {},
   "outputs": [
    {
     "name": "stdout",
     "output_type": "stream",
     "text": [
      "please enter a number to add2\n",
      "please enter 2nd number to add2\n",
      "Thank you.  You entered two numbers.  When added together, 4 is your answer\n",
      "Congratulations, you made it to the end of the code with\n"
     ]
    }
   ],
   "source": [
    "# First lets build something that can crash if we don’t use exception handling\n",
    "\n",
    "try:\n",
    "    a = int(input(\"please enter a number to add:  \"))\n",
    "    b = int(input(\"please enter 2nd number to add:  \"))\n",
    "    mySum = a + b \n",
    "    print(\"Thank you.  You entered two numbers.  When added together, \" + str(mySum) + \" is your answer\")\n",
    "except ValueError:\n",
    "    print(\"You broke the code because you did not type a number. \")\n",
    "    print(\"However you did not crash my code cause I have an exception for this \")\n",
    "\n",
    "print(\"Congratulations, you made it to the end of the code with\")"
   ]
  },
  {
   "cell_type": "code",
   "execution_count": null,
   "metadata": {},
   "outputs": [],
   "source": []
  }
 ],
 "metadata": {
  "kernelspec": {
   "display_name": "Python 3",
   "language": "python",
   "name": "python3"
  },
  "language_info": {
   "codemirror_mode": {
    "name": "ipython",
    "version": 3
   },
   "file_extension": ".py",
   "mimetype": "text/x-python",
   "name": "python",
   "nbconvert_exporter": "python",
   "pygments_lexer": "ipython3",
   "version": "3.7.6"
  }
 },
 "nbformat": 4,
 "nbformat_minor": 4
}
