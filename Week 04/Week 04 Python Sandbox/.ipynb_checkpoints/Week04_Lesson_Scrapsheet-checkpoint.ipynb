{
 "cells": [
  {
   "cell_type": "code",
   "execution_count": 1,
   "metadata": {},
   "outputs": [
    {
     "name": "stdout",
     "output_type": "stream",
     "text": [
      "Enter a number: 3\n",
      "Enter a number: 3\n",
      "6.0\n"
     ]
    }
   ],
   "source": [
    "string1 = (input(\"Enter a number: \"))\n",
    "num1 = float(string1)\n",
    "string2 = (input(\"Enter a number: \"))\n",
    "num2 = float(string2)\n",
    "mySum = num1 + num2\n",
    "print (mySum)"
   ]
  },
  {
   "cell_type": "code",
   "execution_count": 2,
   "metadata": {},
   "outputs": [
    {
     "name": "stdout",
     "output_type": "stream",
     "text": [
      "Enter a number: 2\n",
      "Your number: 2.0\n"
     ]
    }
   ],
   "source": [
    "try:\n",
    "    string1 = (input(\"Enter a number: \"))\n",
    "    num1 = float(string1)\n",
    "except:\n",
    "    print(\"You did not enter a number!\")\n",
    "else:\n",
    "    print(\"Your number: \" + str(num1))\n",
    "    "
   ]
  },
  {
   "cell_type": "markdown",
   "metadata": {},
   "source": [
    "## try:\n",
    "    string1 = (input(\"Enter a number: \"))\n",
    "    num1 = float(string1)\n",
    "except(ValueError, KeyboardInterrupt):\n",
    "    print(\"You did not enter a number!\")\n",
    "else:\n",
    "    print(\"Your number: \" + str(num1))\n",
    "    "
   ]
  },
  {
   "cell_type": "code",
   "execution_count": 3,
   "metadata": {},
   "outputs": [
    {
     "name": "stdout",
     "output_type": "stream",
     "text": [
      "Enter a number:  4\n",
      "Your number: 4.0\n"
     ]
    }
   ],
   "source": [
    "try:\n",
    "    string1 = input(\"Enter a number:  \")\n",
    "    num1 = float(string1)\n",
    "except ValueError:\n",
    "    print(\"You enterd '\" + string1 + \"'\")\n",
    "    print(\"You did not enter a number.\")\n",
    "except KeyboardInterrupt:\n",
    "    print(\"You used Ctrl + C to end the program.\")\n",
    "else:\n",
    "    print(\"Your number: \" + str(num1))"
   ]
  },
  {
   "cell_type": "code",
   "execution_count": 4,
   "metadata": {},
   "outputs": [],
   "source": [
    "# Base Exception Hierarchy\n",
    "\n",
    "\n",
    "# +-- SystemExit\n",
    "# +-- KeyboardInterrupt\n",
    "# +-- GeneratorExit\n",
    "# +-- Exception\n",
    "#     +-- StopIteration\n",
    "#     +-- stopAsyncIteration\n",
    "#     +-- ArithmeticError\n",
    "#     |   +-- FloatingPointError\n",
    "#     |   +-- OverflowError\n",
    "#     |   +-- ZeroDivisionError\n",
    "#     +-- AssertionError\n",
    "#     +-- AttributeError\n",
    "#     +-- BufferError\n",
    "#     +-- EOError\n",
    "#     +-- ImportError"
   ]
  },
  {
   "cell_type": "code",
   "execution_count": 5,
   "metadata": {},
   "outputs": [
    {
     "name": "stdout",
     "output_type": "stream",
     "text": [
      "You will divide the first number by the second:\n",
      "Enter an integer: 5\n",
      "Enter an integer: 4\n",
      "The quotient is 1.25.\n"
     ]
    }
   ],
   "source": [
    "class FractionError(Exception):\n",
    "    pass\n",
    "try:\n",
    "    print(\"You will divide the first number by the second:\")\n",
    "    num1 = int(input(\"Enter an integer: \"))\n",
    "    num2 = int(input(\"Enter an integer: \"))\n",
    "    quotient = num1 / num2 \n",
    "    print(\"The quotient is \" + str(quotient) + \".\")\n",
    "    if quotient > -1 and quotient < 1:\n",
    "        raise FractionError\n",
    "except ValueError: \n",
    "    print(\"Please enter a number.\")\n",
    "except ZeroDivisionError:\n",
    "    print(\"You divided by zero.\")\n",
    "except ArithmeticError:\n",
    "    print(\"An arithmetic error occurred.\")\n",
    "except FractionError:\n",
    "    print(\"The quotient is a proper fraction.\")\n",
    "    \n",
    "    \n",
    "    \n",
    "    \n",
    "    \n",
    "    "
   ]
  },
  {
   "cell_type": "code",
   "execution_count": 6,
   "metadata": {},
   "outputs": [
    {
     "name": "stdout",
     "output_type": "stream",
     "text": [
      "Enter a single character: 5\n",
      "53\n"
     ]
    }
   ],
   "source": [
    "try:\n",
    "    str1 = input(\"Enter a single character: \")\n",
    "    num = ord(str1)\n",
    "    print(num)\n",
    "except TypeError:\n",
    "    print(\"You entered more than 1 character.\")\n",
    "    try:\n",
    "        num1 = float(input(\"Enter a number from 0 to 100: \"))\n",
    "    except ValueError:\n",
    "        print(\"You did not enter a number.\")\n",
    "    else: \n",
    "        print(\"Buy\")"
   ]
  },
  {
   "cell_type": "code",
   "execution_count": 7,
   "metadata": {},
   "outputs": [],
   "source": [
    "# Defining your won exeptions\n",
    "\n",
    "class NegativeInputError(Exception):\n",
    "    pass\n",
    "class Over100Error(Exception):\n",
    "    pass\n",
    "\n",
    "        "
   ]
  },
  {
   "cell_type": "code",
   "execution_count": null,
   "metadata": {},
   "outputs": [],
   "source": [
    "# try: \n",
    "#     num = float(input(\"Enter a number from 1 to 100: \"))\n",
    "#     if num < 0:\n",
    "#         raise NegativeInputError\n",
    "#     elif num > 100:\n",
    "#         raise Over100Error"
   ]
  },
  {
   "cell_type": "code",
   "execution_count": 10,
   "metadata": {},
   "outputs": [
    {
     "name": "stdout",
     "output_type": "stream",
     "text": [
      "Enter a number from 1 to 100:  5\n",
      "Thank you\n"
     ]
    }
   ],
   "source": [
    "class NegativeInputError(Exception):\n",
    "    pass\n",
    "class Over100Error(Exception):\n",
    "    pass\n",
    "\n",
    "keepGoing = True\n",
    "\n",
    "while keepGoing:\n",
    "    try:\n",
    "        num = float(input(\"Enter a number from 1 to 100:  \"))\n",
    "        if num < 0:\n",
    "            raise NegativeInputError\n",
    "        elif num > 100: \n",
    "            raise Over100Error\n",
    "    except ValueError:\n",
    "        print(\"Please enter a number.\")\n",
    "        print()\n",
    "    except NegativeInputError:\n",
    "        print(\"You entered a number < 0\")\n",
    "        print()\n",
    "    except Over100Error:\n",
    "        print(\"You entered a number > 100\")\n",
    "        print()\n",
    "    else:\n",
    "        print(\"Thank you\")\n",
    "        keepGoing = False"
   ]
  },
  {
   "cell_type": "code",
   "execution_count": 11,
   "metadata": {},
   "outputs": [
    {
     "name": "stdout",
     "output_type": "stream",
     "text": [
      "Enter one charcter: f\n",
      "102\n",
      "Bye now\n"
     ]
    }
   ],
   "source": [
    "try:\n",
    "    str1 = input(\"Enter one charcter: \")\n",
    "    num = ord((str1))\n",
    "    print(num)\n",
    "except TypeError:\n",
    "    print(\"You didi not enter 1 character.\")\n",
    "finally:\n",
    "    print(\"Bye now\")"
   ]
  },
  {
   "cell_type": "code",
   "execution_count": null,
   "metadata": {},
   "outputs": [],
   "source": []
  }
 ],
 "metadata": {
  "kernelspec": {
   "display_name": "Python 3",
   "language": "python",
   "name": "python3"
  },
  "language_info": {
   "codemirror_mode": {
    "name": "ipython",
    "version": 3
   },
   "file_extension": ".py",
   "mimetype": "text/x-python",
   "name": "python",
   "nbconvert_exporter": "python",
   "pygments_lexer": "ipython3",
   "version": "3.7.6"
  }
 },
 "nbformat": 4,
 "nbformat_minor": 4
}
