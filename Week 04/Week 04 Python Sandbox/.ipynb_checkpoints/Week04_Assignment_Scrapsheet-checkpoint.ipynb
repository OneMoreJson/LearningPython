{
 "cells": [
  {
   "cell_type": "code",
   "execution_count": null,
   "metadata": {},
   "outputs": [],
   "source": [
    "class UserInputOutsideRange(Exception):\n",
    "    pass\n",
    "\n",
    "try:\n",
    "    low = int(input(\"Please select your low number between 100 and -100:  \"))\n",
    "    high = int(input(\"Please select your high number between 100 and -100:  \"))\n",
    "    if low < -100 or low > 100:\n",
    "        raise UserInputOutsideRange\n",
    "    elif high < -100 or high > 100:\n",
    "        raise UserInputOutsideRange\n",
    "except UserInputOutsideRange:\n",
    "    print(\"You selected a number outside the range of -100 and 100\")\n",
    "except ValueError:\n",
    "    print(\"You did not input a number\")\n"
   ]
  },
  {
   "cell_type": "code",
   "execution_count": null,
   "metadata": {},
   "outputs": [],
   "source": [
    "try:\n",
    "    numA = int(input(\"Please select the first number between \" + str(high) + \" and \" + str(low) + \" to be calculated:  \"))\n",
    "    numB = int(input(\"Please select the second number between \" + str(high) + \" and \" + str(low) + \" to be calculated:  \"))\n",
    "except ValueError:\n",
    "    print(\"You did not input a number\")"
   ]
  },
  {
   "cell_type": "code",
   "execution_count": 1,
   "metadata": {},
   "outputs": [
    {
     "name": "stdout",
     "output_type": "stream",
     "text": [
      "Please select your low number between 100 and -100:  a\n",
      "You did not input a number\n",
      "Please select your low number between 100 and -100:  d\n",
      "You did not input a number\n",
      "Please select your low number between 100 and -100:  1\n",
      "Please select your high number between 100 and -100:  a\n",
      "You did not input a number\n",
      "Please select your low number between 100 and -100:  1\n",
      "Please select your high number between 100 and -100:  5\n"
     ]
    }
   ],
   "source": [
    "class UserInputOutsideRange(Exception):\n",
    "    pass\n",
    "\n",
    "bugA = True\n",
    "while bugA == True:\n",
    "    try:\n",
    "        low = int(input(\"Please select your low number between 100 and -100:  \"))\n",
    "        high = int(input(\"Please select your high number between 100 and -100:  \"))\n",
    "        bugA = False\n",
    "        if low < -100 or low > 100:\n",
    "            raise UserInputOutsideRange\n",
    "        elif high < -100 or high > 100:\n",
    "            raise UserInputOutsideRange\n",
    "    except UserInputOutsideRange:\n",
    "        print(\"You selected a number outside the range of -100 and 100\")\n",
    "    except ValueError:\n",
    "        print(\"You did not input a number\")\n"
   ]
  },
  {
   "cell_type": "code",
   "execution_count": 2,
   "metadata": {},
   "outputs": [
    {
     "name": "stdout",
     "output_type": "stream",
     "text": [
      "Please select the first number between 5 and 1 to be calculated:  d\n",
      "You did not input a number\n",
      "Please select the first number between 5 and 1 to be calculated:  2\n",
      "Please select the second number between 5 and 1 to be calculated:  g\n",
      "You did not input a number\n",
      "Please select the first number between 5 and 1 to be calculated:  2\n",
      "Please select the second number between 5 and 1 to be calculated:  7\n"
     ]
    }
   ],
   "source": [
    "bugB = True\n",
    "while bugB == True:\n",
    "    try:\n",
    "        numA = int(input(\"Please select the first number between \" + str(high) + \" and \" + str(low) + \" to be calculated:  \"))\n",
    "        numB = int(input(\"Please select the second number between \" + str(high) + \" and \" + str(low) + \" to be calculated:  \"))\n",
    "        bugB = False\n",
    "    except ValueError:\n",
    "        print(\"You did not input a number\")"
   ]
  },
  {
   "cell_type": "code",
   "execution_count": null,
   "metadata": {},
   "outputs": [],
   "source": []
  }
 ],
 "metadata": {
  "kernelspec": {
   "display_name": "Python 3",
   "language": "python",
   "name": "python3"
  },
  "language_info": {
   "codemirror_mode": {
    "name": "ipython",
    "version": 3
   },
   "file_extension": ".py",
   "mimetype": "text/x-python",
   "name": "python",
   "nbconvert_exporter": "python",
   "pygments_lexer": "ipython3",
   "version": "3.7.6"
  }
 },
 "nbformat": 4,
 "nbformat_minor": 4
}
