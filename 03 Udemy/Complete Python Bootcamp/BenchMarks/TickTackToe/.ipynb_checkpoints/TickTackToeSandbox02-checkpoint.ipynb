{
 "cells": [
  {
   "cell_type": "code",
   "execution_count": 1,
   "id": "f21423de",
   "metadata": {},
   "outputs": [],
   "source": [
    "# IMPORTS\n",
    "import random\n",
    "\n",
    "# VARS\n",
    "places = [1, 2, 3, 4, 5, 6, 7, 8, 9]\n",
    "playerChoices = []\n",
    "compChoices = []\n",
    "playerTurn = True\n",
    "play = True\n",
    "win = False"
   ]
  },
  {
   "cell_type": "code",
   "execution_count": 2,
   "id": "a5702fad",
   "metadata": {},
   "outputs": [],
   "source": [
    "# Instructions\n",
    "def inst():\n",
    "    print('Welcome to Py Tick Tack Toe')\n",
    "    print('')\n",
    "    print('You will be \"X\" while your opponent will be \"O\"')\n",
    "    print('')\n",
    "    print('You will take turns selecting squares')\n",
    "    print('If you get three squares in a row, you win!')"
   ]
  },
  {
   "cell_type": "code",
   "execution_count": 3,
   "id": "fd0bce02",
   "metadata": {},
   "outputs": [],
   "source": [
    "# Build Board\n",
    "def bb():\n",
    "\n",
    "    print('       |       |')\n",
    "    print('   {}   |   {}   |   {}' .format(places[0], places[1], places[2]))\n",
    "    print('_______|_______|_______')\n",
    "    print('       |       |')\n",
    "    print('   {}   |   {}   |   {}' .format(places[3], places[4], places[5]))\n",
    "    print('_______|_______|_______')\n",
    "    print('       |       |')\n",
    "    print('   {}   |   {}   |   {}' .format(places[6], places[7], places[8]))\n",
    "    print('       |       |')"
   ]
  },
  {
   "cell_type": "code",
   "execution_count": 4,
   "id": "a2e029eb",
   "metadata": {},
   "outputs": [],
   "source": [
    "# Check Valid Choice\n",
    "def selectionCheck(choice, places):\n",
    "\n",
    "    if(choice in places):\n",
    "        return True\n",
    "    else:\n",
    "        return False\n"
   ]
  },
  {
   "cell_type": "code",
   "execution_count": 5,
   "id": "8e61fa22",
   "metadata": {},
   "outputs": [],
   "source": [
    "# Computer Choice\n",
    "def compChoice():\n",
    "    out = random.randint(1, 9)\n",
    "\n",
    "    if(selectionCheck(out, places)):\n",
    "        return out\n",
    "    else:\n",
    "        return compChoice()"
   ]
  },
  {
   "cell_type": "code",
   "execution_count": 6,
   "id": "5449fcb2",
   "metadata": {},
   "outputs": [],
   "source": [
    "# Player Choice\n",
    "def playerChoice():\n",
    "    try:\n",
    "        selection = int(input(\n",
    "            'Please select a number square that has not been taken\\n'))\n",
    "    except ValueError:\n",
    "        print('That was not a number...')\n",
    "        return playerChoice()\n",
    "\n",
    "    if(selectionCheck(selection, places)):\n",
    "        return selection\n",
    "    else:\n",
    "        print(\"I'm sorry, that is an invalid input.\")\n",
    "        return playerChoice()"
   ]
  },
  {
   "cell_type": "code",
   "execution_count": 7,
   "id": "5f0ac456",
   "metadata": {},
   "outputs": [],
   "source": [
    "# Replace Square number with X or O\n",
    "def replaceSquare(xo, selection, places):\n",
    "    for i in range(len(places)):\n",
    "        if places[i] == selection:\n",
    "            places[i] = xo\n",
    "    bb()\n",
    "    return places"
   ]
  },
  {
   "cell_type": "code",
   "execution_count": 8,
   "id": "a3164b7b",
   "metadata": {},
   "outputs": [],
   "source": [
    "# Winner?\n",
    "def checkWinner(playerSelections, playerTurn):\n",
    "    win1 = [1, 2, 3]\n",
    "    win2 = [4, 5, 6]\n",
    "    win3 = [7, 8, 9]\n",
    "    win4 = [1, 4, 7]\n",
    "    win5 = [2, 5, 8]\n",
    "    win6 = [3, 6, 9]\n",
    "    win7 = [1, 5, 9]\n",
    "    win8 = [3, 5, 7]\n",
    "\n",
    "    win1Check = all(elem in playerSelections for elem in win1)\n",
    "    win2Check = all(elem in playerSelections for elem in win2)\n",
    "    win3Check = all(elem in playerSelections for elem in win3)\n",
    "    win4Check = all(elem in playerSelections for elem in win4)\n",
    "    win5Check = all(elem in playerSelections for elem in win5)\n",
    "    win6Check = all(elem in playerSelections for elem in win6)\n",
    "    win7Check = all(elem in playerSelections for elem in win7)\n",
    "    win8Check = all(elem in playerSelections for elem in win8)\n",
    "\n",
    "    if win1Check or win2Check or win3Check or win4Check or win5Check or win6Check or win7Check or win8Check:\n",
    "        print(\"winner!!!\")\n",
    "    else:\n",
    "        playerTurn = not playerTurn\n",
    "        runGame(playerTurn)"
   ]
  },
  {
   "cell_type": "code",
   "execution_count": 9,
   "id": "43f7c728",
   "metadata": {},
   "outputs": [],
   "source": [
    "# Run Game (Start with player)\n",
    "def runGame(playerTurn):\n",
    "\n",
    "    if(playerTurn):\n",
    "        # Displays\n",
    "        print('--------> Player\\'s Move <--------\\n')\n",
    "        # Player selects\n",
    "        selection = playerChoice()\n",
    "        # Store selection in player list\n",
    "        playerChoices.append(selection)\n",
    "        # Change Board list\n",
    "        # Rewrite Board\n",
    "        replaceSquare('X', selection, places)\n",
    "\n",
    "        # Check if there is a win\n",
    "        # change players\n",
    "        checkWinner(playerChoices, playerTurn)\n",
    "\n",
    "        print('\\n')\n",
    "\n",
    "    else:\n",
    "        # Displays\n",
    "        print('--------> Computers\\'s Move <--------\\n')\n",
    "\n",
    "        # Comp selects\n",
    "        selection = compChoice()\n",
    "        # Store selection in comp list``\n",
    "        compChoices.append(selection)\n",
    "        # Change Board list\n",
    "        # Rewrite Board\n",
    "        replaceSquare('O', selection, places)\n",
    "\n",
    "        # Check if there is a win\n",
    "        # change players\n",
    "        checkWinner(compChoices, playerTurn)\n",
    "\n",
    "        print('\\n')"
   ]
  },
  {
   "cell_type": "code",
   "execution_count": 10,
   "id": "5371e1f1",
   "metadata": {},
   "outputs": [
    {
     "name": "stdout",
     "output_type": "stream",
     "text": [
      "--------> Player's Move <--------\n",
      "\n",
      "Please select a number square that has not been taken\n",
      "1\n",
      "       |       |\n",
      "   X   |   2   |   3\n",
      "_______|_______|_______\n",
      "       |       |\n",
      "   4   |   5   |   6\n",
      "_______|_______|_______\n",
      "       |       |\n",
      "   7   |   8   |   9\n",
      "       |       |\n",
      "winner!!!\n",
      "\n",
      "\n"
     ]
    }
   ],
   "source": [
    "runGame(playerTurn)"
   ]
  },
  {
   "cell_type": "code",
   "execution_count": 11,
   "id": "73576bbf",
   "metadata": {},
   "outputs": [],
   "source": [
    "places = [1, 2, 3, 4, 5, 6, 7, 8, 9]"
   ]
  },
  {
   "cell_type": "code",
   "execution_count": 12,
   "id": "b222f946",
   "metadata": {},
   "outputs": [
    {
     "name": "stdout",
     "output_type": "stream",
     "text": [
      "--------> Player's Move <--------\n",
      "\n",
      "Please select a number square that has not been taken\n",
      "0\n",
      "I'm sorry, that is an invalid input.\n",
      "Please select a number square that has not been taken\n",
      "9\n",
      "       |       |\n",
      "   1   |   2   |   3\n",
      "_______|_______|_______\n",
      "       |       |\n",
      "   4   |   5   |   6\n",
      "_______|_______|_______\n",
      "       |       |\n",
      "   7   |   8   |   X\n",
      "       |       |\n",
      "winner!!!\n",
      "\n",
      "\n"
     ]
    }
   ],
   "source": [
    "runGame(playerTurn)"
   ]
  },
  {
   "cell_type": "code",
   "execution_count": null,
   "id": "cb27ad1a",
   "metadata": {},
   "outputs": [],
   "source": []
  }
 ],
 "metadata": {
  "kernelspec": {
   "display_name": "Python 3 (ipykernel)",
   "language": "python",
   "name": "python3"
  },
  "language_info": {
   "codemirror_mode": {
    "name": "ipython",
    "version": 3
   },
   "file_extension": ".py",
   "mimetype": "text/x-python",
   "name": "python",
   "nbconvert_exporter": "python",
   "pygments_lexer": "ipython3",
   "version": "3.9.12"
  }
 },
 "nbformat": 4,
 "nbformat_minor": 5
}
