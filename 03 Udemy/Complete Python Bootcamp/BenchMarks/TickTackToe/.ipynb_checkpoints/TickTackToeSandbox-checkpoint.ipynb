{
 "cells": [
  {
   "cell_type": "code",
   "execution_count": 1,
   "id": "3965be11",
   "metadata": {},
   "outputs": [],
   "source": [
    "import random"
   ]
  },
  {
   "cell_type": "code",
   "execution_count": 2,
   "id": "4406184d",
   "metadata": {},
   "outputs": [],
   "source": [
    "places = [1, 2, 3, 4, 5, 6, 7, 8, 9]\n",
    "playerChoices = []\n",
    "compChoices = []\n",
    "play = True\n",
    "win = False\n"
   ]
  },
  {
   "cell_type": "code",
   "execution_count": 3,
   "id": "4baac364",
   "metadata": {},
   "outputs": [],
   "source": [
    "def bb():\n",
    "\n",
    "    print('       |       |')\n",
    "    print('   {}   |   {}   |   {}' .format(places[0], places[1], places[2]))\n",
    "    print('_______|_______|_______')\n",
    "    print('       |       |')\n",
    "    print('   {}   |   {}   |   {}' .format(places[3], places[4], places[5]))\n",
    "    print('_______|_______|_______')\n",
    "    print('       |       |')\n",
    "    print('   {}   |   {}   |   {}' .format(places[6], places[7], places[8]))\n",
    "    print('       |       |')"
   ]
  },
  {
   "cell_type": "code",
   "execution_count": 4,
   "id": "b02e4fba",
   "metadata": {},
   "outputs": [
    {
     "name": "stdout",
     "output_type": "stream",
     "text": [
      "       |       |\n",
      "   1   |   2   |   3\n",
      "_______|_______|_______\n",
      "       |       |\n",
      "   4   |   5   |   6\n",
      "_______|_______|_______\n",
      "       |       |\n",
      "   7   |   8   |   9\n",
      "       |       |\n"
     ]
    }
   ],
   "source": [
    "bb()"
   ]
  },
  {
   "cell_type": "code",
   "execution_count": 5,
   "id": "408051ca",
   "metadata": {},
   "outputs": [],
   "source": [
    "places[0] = 'X'"
   ]
  },
  {
   "cell_type": "code",
   "execution_count": 6,
   "id": "3d331546",
   "metadata": {},
   "outputs": [
    {
     "name": "stdout",
     "output_type": "stream",
     "text": [
      "       |       |\n",
      "   X   |   2   |   3\n",
      "_______|_______|_______\n",
      "       |       |\n",
      "   4   |   5   |   6\n",
      "_______|_______|_______\n",
      "       |       |\n",
      "   7   |   8   |   9\n",
      "       |       |\n"
     ]
    }
   ],
   "source": [
    "bb()"
   ]
  },
  {
   "cell_type": "code",
   "execution_count": 7,
   "id": "1b977bce",
   "metadata": {},
   "outputs": [],
   "source": [
    "def inst():\n",
    "    print('Welcome to Py Tick Tack Toe')\n",
    "    print('')\n",
    "    print('You will be \"X\" while your opponent will be \"O\"')\n",
    "    print('')\n",
    "    print('Please select a number square that has not been taken')\n",
    "    print('If you get three squares in a row, you win!')"
   ]
  },
  {
   "cell_type": "code",
   "execution_count": 8,
   "id": "c61fab12",
   "metadata": {},
   "outputs": [
    {
     "name": "stdout",
     "output_type": "stream",
     "text": [
      "Welcome to Py Tick Tack Toe\n",
      "\n",
      "You will be \"X\" while your opponent will be \"O\"\n",
      "\n",
      "Please select a number square that has not been taken\n",
      "If you get three squares in a row, you win!\n"
     ]
    }
   ],
   "source": [
    "inst()"
   ]
  },
  {
   "cell_type": "code",
   "execution_count": 9,
   "id": "633cda67",
   "metadata": {},
   "outputs": [],
   "source": [
    "def selectionCheck(choice, places):\n",
    "    if(choice in places):\n",
    "        return True\n",
    "    else:\n",
    "        return False"
   ]
  },
  {
   "cell_type": "code",
   "execution_count": 19,
   "id": "f91a4ee6",
   "metadata": {},
   "outputs": [],
   "source": [
    "def compChoice():\n",
    "    out = random.randint(1, 9)\n",
    "\n",
    "    if(selectionCheck(out, places)):\n",
    "        return out\n",
    "    else:\n",
    "        print('call compChoice()')\n",
    "        return compChoice()"
   ]
  },
  {
   "cell_type": "code",
   "execution_count": 20,
   "id": "c9ee69da",
   "metadata": {},
   "outputs": [
    {
     "name": "stdout",
     "output_type": "stream",
     "text": [
      "4\n",
      "call compChoice()\n",
      "5\n",
      "6\n",
      "6\n",
      "9\n",
      "3\n",
      "8\n",
      "2\n",
      "3\n",
      "6\n"
     ]
    }
   ],
   "source": [
    "print(compChoice())\n",
    "print(compChoice())\n",
    "print(compChoice())\n",
    "print(compChoice())\n",
    "print(compChoice())\n",
    "print(compChoice())\n",
    "print(compChoice())\n",
    "print(compChoice())\n",
    "print(compChoice())\n",
    "print(compChoice())"
   ]
  },
  {
   "cell_type": "code",
   "execution_count": 21,
   "id": "694eb9d1",
   "metadata": {},
   "outputs": [],
   "source": [
    "def userChoice():\n",
    "    selection = input('Please select a number square that has not been taken')"
   ]
  },
  {
   "cell_type": "code",
   "execution_count": 22,
   "id": "d3a9f5ba",
   "metadata": {},
   "outputs": [
    {
     "name": "stdout",
     "output_type": "stream",
     "text": [
      "Please select a number square that has not been taken2\n"
     ]
    }
   ],
   "source": [
    "userChoice()"
   ]
  },
  {
   "cell_type": "code",
   "execution_count": null,
   "id": "d6a815aa",
   "metadata": {},
   "outputs": [],
   "source": []
  }
 ],
 "metadata": {
  "kernelspec": {
   "display_name": "Python 3 (ipykernel)",
   "language": "python",
   "name": "python3"
  },
  "language_info": {
   "codemirror_mode": {
    "name": "ipython",
    "version": 3
   },
   "file_extension": ".py",
   "mimetype": "text/x-python",
   "name": "python",
   "nbconvert_exporter": "python",
   "pygments_lexer": "ipython3",
   "version": "3.9.12"
  }
 },
 "nbformat": 4,
 "nbformat_minor": 5
}
