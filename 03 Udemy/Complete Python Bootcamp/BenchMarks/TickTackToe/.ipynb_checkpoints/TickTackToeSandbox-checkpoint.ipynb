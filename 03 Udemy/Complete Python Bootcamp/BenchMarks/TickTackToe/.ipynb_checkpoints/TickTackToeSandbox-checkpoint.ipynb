{
 "cells": [
  {
   "cell_type": "code",
   "execution_count": 1,
   "id": "a91f1ee5",
   "metadata": {},
   "outputs": [],
   "source": [
    "import random"
   ]
  },
  {
   "cell_type": "code",
   "execution_count": 2,
   "id": "9eaa0e91",
   "metadata": {},
   "outputs": [],
   "source": [
    "places = [1, 2, 3, 4, 5, 6, 7, 8, 9]\n",
    "playerChoices = []\n",
    "compChoices = []\n",
    "play = True\n",
    "win = False\n"
   ]
  },
  {
   "cell_type": "code",
   "execution_count": 3,
   "id": "427ecc25",
   "metadata": {},
   "outputs": [],
   "source": [
    "def bb():\n",
    "\n",
    "    print('       |       |')\n",
    "    print('   {}   |   {}   |   {}' .format(places[0], places[1], places[2]))\n",
    "    print('_______|_______|_______')\n",
    "    print('       |       |')\n",
    "    print('   {}   |   {}   |   {}' .format(places[3], places[4], places[5]))\n",
    "    print('_______|_______|_______')\n",
    "    print('       |       |')\n",
    "    print('   {}   |   {}   |   {}' .format(places[6], places[7], places[8]))\n",
    "    print('       |       |')"
   ]
  },
  {
   "cell_type": "code",
   "execution_count": 4,
   "id": "d04f49d3",
   "metadata": {},
   "outputs": [
    {
     "name": "stdout",
     "output_type": "stream",
     "text": [
      "       |       |\n",
      "   1   |   2   |   3\n",
      "_______|_______|_______\n",
      "       |       |\n",
      "   4   |   5   |   6\n",
      "_______|_______|_______\n",
      "       |       |\n",
      "   7   |   8   |   9\n",
      "       |       |\n"
     ]
    }
   ],
   "source": [
    "bb()"
   ]
  },
  {
   "cell_type": "code",
   "execution_count": 5,
   "id": "17e6073f",
   "metadata": {},
   "outputs": [],
   "source": [
    "places[0] = 'X'"
   ]
  },
  {
   "cell_type": "code",
   "execution_count": 6,
   "id": "efb3153d",
   "metadata": {},
   "outputs": [
    {
     "name": "stdout",
     "output_type": "stream",
     "text": [
      "       |       |\n",
      "   X   |   2   |   3\n",
      "_______|_______|_______\n",
      "       |       |\n",
      "   4   |   5   |   6\n",
      "_______|_______|_______\n",
      "       |       |\n",
      "   7   |   8   |   9\n",
      "       |       |\n"
     ]
    }
   ],
   "source": [
    "bb()"
   ]
  },
  {
   "cell_type": "code",
   "execution_count": 7,
   "id": "985dabb5",
   "metadata": {},
   "outputs": [],
   "source": [
    "def inst():\n",
    "    print('Welcome to Py Tick Tack Toe')\n",
    "    print('')\n",
    "    print('You will be \"X\" while your opponent will be \"O\"')\n",
    "    print('')\n",
    "    print('Please select a number square that has not been taken')\n",
    "    print('If you get three squares in a row, you win!')"
   ]
  },
  {
   "cell_type": "code",
   "execution_count": 8,
   "id": "3e99f054",
   "metadata": {},
   "outputs": [
    {
     "name": "stdout",
     "output_type": "stream",
     "text": [
      "Welcome to Py Tick Tack Toe\n",
      "\n",
      "You will be \"X\" while your opponent will be \"O\"\n",
      "\n",
      "Please select a number square that has not been taken\n",
      "If you get three squares in a row, you win!\n"
     ]
    }
   ],
   "source": [
    "inst()"
   ]
  },
  {
   "cell_type": "code",
   "execution_count": 9,
   "id": "419fd70c",
   "metadata": {},
   "outputs": [],
   "source": [
    "def selectionCheck(choice, places):\n",
    "    if(choice in places):\n",
    "        return True\n",
    "    else:\n",
    "        return False"
   ]
  },
  {
   "cell_type": "code",
   "execution_count": 17,
   "id": "4b5ed97f",
   "metadata": {},
   "outputs": [],
   "source": [
    "def compChoice():\n",
    "    out = random.randint(1, 9)\n",
    "\n",
    "    if(selectionCheck(out, places)):\n",
    "        return out\n",
    "    else:\n",
    "        print('call compChoice()')\n",
    "        return compChoice()"
   ]
  },
  {
   "cell_type": "code",
   "execution_count": 18,
   "id": "066672c0",
   "metadata": {},
   "outputs": [
    {
     "name": "stdout",
     "output_type": "stream",
     "text": [
      "6\n",
      "call compChoice()\n",
      "None\n",
      "3\n",
      "2\n",
      "2\n",
      "9\n",
      "call compChoice()\n",
      "None\n",
      "5\n",
      "3\n",
      "call compChoice()\n",
      "None\n"
     ]
    }
   ],
   "source": [
    "print(compChoice())\n",
    "print(compChoice())\n",
    "print(compChoice())\n",
    "print(compChoice())\n",
    "print(compChoice())\n",
    "print(compChoice())\n",
    "print(compChoice())\n",
    "print(compChoice())\n",
    "print(compChoice())\n",
    "print(compChoice())"
   ]
  },
  {
   "cell_type": "code",
   "execution_count": null,
   "id": "44146bc3",
   "metadata": {},
   "outputs": [],
   "source": []
  }
 ],
 "metadata": {
  "kernelspec": {
   "display_name": "Python 3 (ipykernel)",
   "language": "python",
   "name": "python3"
  },
  "language_info": {
   "codemirror_mode": {
    "name": "ipython",
    "version": 3
   },
   "file_extension": ".py",
   "mimetype": "text/x-python",
   "name": "python",
   "nbconvert_exporter": "python",
   "pygments_lexer": "ipython3",
   "version": "3.9.12"
  }
 },
 "nbformat": 4,
 "nbformat_minor": 5
}
