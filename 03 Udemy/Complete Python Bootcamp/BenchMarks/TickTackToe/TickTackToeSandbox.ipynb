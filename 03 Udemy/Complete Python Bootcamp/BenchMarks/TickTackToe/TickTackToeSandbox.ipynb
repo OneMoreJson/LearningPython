{
 "cells": [
  {
   "cell_type": "code",
   "execution_count": 1,
   "id": "c9af7b8d",
   "metadata": {},
   "outputs": [],
   "source": [
    "places = [1, 2, 3, 4, 5, 6, 7, 8, 9]\n",
    "play = True\n",
    "win = False\n"
   ]
  },
  {
   "cell_type": "code",
   "execution_count": 2,
   "id": "02a6430f",
   "metadata": {},
   "outputs": [],
   "source": [
    "def bb():\n",
    "\n",
    "\n",
    "    print('       |       |')\n",
    "    print('   {}   |   {}   |   {}' .format(places[0], places[1], places[2]))\n",
    "    print('_______|_______|_______')\n",
    "    print('       |       |')\n",
    "    print('   {}   |   {}   |   {}' .format(places[3], places[4], places[5]))\n",
    "    print('_______|_______|_______')\n",
    "    print('       |       |')\n",
    "    print('   {}   |   {}   |   {}' .format(places[6], places[7], places[8]))\n",
    "    print('       |       |')"
   ]
  },
  {
   "cell_type": "code",
   "execution_count": 3,
   "id": "738cf88b",
   "metadata": {},
   "outputs": [
    {
     "name": "stdout",
     "output_type": "stream",
     "text": [
      "       |       |\n",
      "   1   |   2   |   3\n",
      "_______|_______|_______\n",
      "       |       |\n",
      "   4   |   5   |   6\n",
      "_______|_______|_______\n",
      "       |       |\n",
      "   7   |   8   |   9\n",
      "       |       |\n"
     ]
    }
   ],
   "source": [
    "bb()"
   ]
  },
  {
   "cell_type": "code",
   "execution_count": null,
   "id": "786fbe6f",
   "metadata": {},
   "outputs": [],
   "source": []
  }
 ],
 "metadata": {
  "kernelspec": {
   "display_name": "Python 3 (ipykernel)",
   "language": "python",
   "name": "python3"
  },
  "language_info": {
   "codemirror_mode": {
    "name": "ipython",
    "version": 3
   },
   "file_extension": ".py",
   "mimetype": "text/x-python",
   "name": "python",
   "nbconvert_exporter": "python",
   "pygments_lexer": "ipython3",
   "version": "3.9.12"
  }
 },
 "nbformat": 4,
 "nbformat_minor": 5
}
