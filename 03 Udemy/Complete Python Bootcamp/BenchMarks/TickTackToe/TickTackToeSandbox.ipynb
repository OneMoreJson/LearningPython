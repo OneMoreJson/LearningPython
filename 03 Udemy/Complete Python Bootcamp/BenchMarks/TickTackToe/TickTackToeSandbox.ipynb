{
 "cells": [
  {
   "cell_type": "code",
   "execution_count": 1,
   "id": "211c2488",
   "metadata": {},
   "outputs": [],
   "source": [
    "import random"
   ]
  },
  {
   "cell_type": "code",
   "execution_count": 2,
   "id": "c2c97f15",
   "metadata": {},
   "outputs": [],
   "source": [
    "places = [1, 2, 3, 4, 5, 6, 7, 8, 9]\n",
    "playerChoices = []\n",
    "compChoices = []\n",
    "play = True\n",
    "win = False\n"
   ]
  },
  {
   "cell_type": "code",
   "execution_count": 3,
   "id": "914b5d18",
   "metadata": {},
   "outputs": [],
   "source": [
    "def bb():\n",
    "\n",
    "    print('       |       |')\n",
    "    print('   {}   |   {}   |   {}' .format(places[0], places[1], places[2]))\n",
    "    print('_______|_______|_______')\n",
    "    print('       |       |')\n",
    "    print('   {}   |   {}   |   {}' .format(places[3], places[4], places[5]))\n",
    "    print('_______|_______|_______')\n",
    "    print('       |       |')\n",
    "    print('   {}   |   {}   |   {}' .format(places[6], places[7], places[8]))\n",
    "    print('       |       |')"
   ]
  },
  {
   "cell_type": "code",
   "execution_count": 4,
   "id": "166121d7",
   "metadata": {},
   "outputs": [
    {
     "name": "stdout",
     "output_type": "stream",
     "text": [
      "       |       |\n",
      "   1   |   2   |   3\n",
      "_______|_______|_______\n",
      "       |       |\n",
      "   4   |   5   |   6\n",
      "_______|_______|_______\n",
      "       |       |\n",
      "   7   |   8   |   9\n",
      "       |       |\n"
     ]
    }
   ],
   "source": [
    "bb()"
   ]
  },
  {
   "cell_type": "code",
   "execution_count": 5,
   "id": "67cd57f9",
   "metadata": {},
   "outputs": [],
   "source": [
    "places[0] = 'X'\n",
    "places[1] = 'X'\n",
    "places[2] = 'X'"
   ]
  },
  {
   "cell_type": "code",
   "execution_count": 6,
   "id": "edf8f8f2",
   "metadata": {},
   "outputs": [
    {
     "name": "stdout",
     "output_type": "stream",
     "text": [
      "       |       |\n",
      "   X   |   X   |   X\n",
      "_______|_______|_______\n",
      "       |       |\n",
      "   4   |   5   |   6\n",
      "_______|_______|_______\n",
      "       |       |\n",
      "   7   |   8   |   9\n",
      "       |       |\n"
     ]
    }
   ],
   "source": [
    "bb()"
   ]
  },
  {
   "cell_type": "code",
   "execution_count": 7,
   "id": "777b42ec",
   "metadata": {},
   "outputs": [],
   "source": [
    "def inst():\n",
    "    print('Welcome to Py Tick Tack Toe')\n",
    "    print('')\n",
    "    print('You will be \"X\" while your opponent will be \"O\"')\n",
    "    print('')\n",
    "    print('Please select a number square that has not been taken')\n",
    "    print('If you get three squares in a row, you win!')"
   ]
  },
  {
   "cell_type": "code",
   "execution_count": 8,
   "id": "e05418b1",
   "metadata": {},
   "outputs": [
    {
     "name": "stdout",
     "output_type": "stream",
     "text": [
      "Welcome to Py Tick Tack Toe\n",
      "\n",
      "You will be \"X\" while your opponent will be \"O\"\n",
      "\n",
      "Please select a number square that has not been taken\n",
      "If you get three squares in a row, you win!\n"
     ]
    }
   ],
   "source": [
    "inst()"
   ]
  },
  {
   "cell_type": "code",
   "execution_count": 9,
   "id": "8cb86a19",
   "metadata": {},
   "outputs": [],
   "source": [
    "def selectionCheck(choice, places):\n",
    "    if(type(choice) == int):\n",
    "        if(choice in places):\n",
    "            return True\n",
    "        else:\n",
    "            return False\n",
    "    else:\n",
    "        return False"
   ]
  },
  {
   "cell_type": "code",
   "execution_count": 11,
   "id": "53dfaf22",
   "metadata": {},
   "outputs": [],
   "source": [
    "def compChoice():\n",
    "    out = random.randint(1, 9)\n",
    "\n",
    "    if(selectionCheck(out, places)):\n",
    "        return out\n",
    "    else:\n",
    "        print('call compChoice()')\n",
    "        return compChoice()"
   ]
  },
  {
   "cell_type": "code",
   "execution_count": 12,
   "id": "830df71a",
   "metadata": {},
   "outputs": [
    {
     "name": "stdout",
     "output_type": "stream",
     "text": [
      "9\n",
      "6\n",
      "call compChoice()\n",
      "6\n",
      "call compChoice()\n",
      "9\n",
      "8\n",
      "4\n",
      "call compChoice()\n",
      "6\n",
      "8\n",
      "call compChoice()\n",
      "4\n",
      "call compChoice()\n",
      "call compChoice()\n",
      "9\n"
     ]
    }
   ],
   "source": [
    "print(compChoice())\n",
    "print(compChoice())\n",
    "print(compChoice())\n",
    "print(compChoice())\n",
    "print(compChoice())\n",
    "print(compChoice())\n",
    "print(compChoice())\n",
    "print(compChoice())\n",
    "print(compChoice())\n",
    "print(compChoice())"
   ]
  },
  {
   "cell_type": "code",
   "execution_count": 24,
   "id": "feb3e8b4",
   "metadata": {},
   "outputs": [],
   "source": [
    "# Player Choice\n",
    "def playerChoice():\n",
    "    try:\n",
    "        selection = int(input(\n",
    "            'Please select a number square that has not been taken\\n'))\n",
    "    except ValueError:\n",
    "        print('That was not a number...')\n",
    "        return playerChoice()\n",
    "\n",
    "    if(selectionCheck(selection, places)):\n",
    "        return selection\n",
    "    else:\n",
    "        print(\"I'm sorry, that is an invalid input.\")\n",
    "        return playerChoice()"
   ]
  },
  {
   "cell_type": "code",
   "execution_count": 25,
   "id": "10177ada",
   "metadata": {},
   "outputs": [
    {
     "name": "stdout",
     "output_type": "stream",
     "text": [
      "Please select a number square that has not been taken\n",
      "1\n",
      "I'm sorry, that is an invalid input.\n",
      "Please select a number square that has not been taken\n",
      "2\n",
      "I'm sorry, that is an invalid input.\n",
      "Please select a number square that has not been taken\n",
      "3\n",
      "I'm sorry, that is an invalid input.\n",
      "Please select a number square that has not been taken\n",
      "100\n",
      "I'm sorry, that is an invalid input.\n",
      "Please select a number square that has not been taken\n",
      "nine\n",
      "That was not a number...\n",
      "Please select a number square that has not been taken\n",
      "jason\n",
      "That was not a number...\n",
      "Please select a number square that has not been taken\n",
      "\n",
      "That was not a number...\n",
      "Please select a number square that has not been taken\n",
      "5\n"
     ]
    },
    {
     "data": {
      "text/plain": [
       "5"
      ]
     },
     "execution_count": 25,
     "metadata": {},
     "output_type": "execute_result"
    }
   ],
   "source": [
    "playerChoice()"
   ]
  },
  {
   "cell_type": "code",
   "execution_count": null,
   "id": "e5fb97db",
   "metadata": {},
   "outputs": [],
   "source": []
  },
  {
   "cell_type": "code",
   "execution_count": null,
   "id": "48567f47",
   "metadata": {},
   "outputs": [],
   "source": []
  }
 ],
 "metadata": {
  "kernelspec": {
   "display_name": "Python 3 (ipykernel)",
   "language": "python",
   "name": "python3"
  },
  "language_info": {
   "codemirror_mode": {
    "name": "ipython",
    "version": 3
   },
   "file_extension": ".py",
   "mimetype": "text/x-python",
   "name": "python",
   "nbconvert_exporter": "python",
   "pygments_lexer": "ipython3",
   "version": "3.9.12"
  }
 },
 "nbformat": 4,
 "nbformat_minor": 5
}
