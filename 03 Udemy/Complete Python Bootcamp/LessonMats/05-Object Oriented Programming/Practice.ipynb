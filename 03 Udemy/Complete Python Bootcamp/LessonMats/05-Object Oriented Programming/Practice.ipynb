{
 "cells": [
  {
   "cell_type": "code",
   "execution_count": 1,
   "id": "a3440bdf",
   "metadata": {},
   "outputs": [],
   "source": [
    "mylist = [1,2,3]"
   ]
  },
  {
   "cell_type": "code",
   "execution_count": 2,
   "id": "b2dfd8ca",
   "metadata": {},
   "outputs": [],
   "source": [
    "myset = set()"
   ]
  },
  {
   "cell_type": "code",
   "execution_count": 4,
   "id": "66fae5ed",
   "metadata": {},
   "outputs": [
    {
     "data": {
      "text/plain": [
       "list"
      ]
     },
     "execution_count": 4,
     "metadata": {},
     "output_type": "execute_result"
    }
   ],
   "source": [
    "type(mylist)"
   ]
  },
  {
   "cell_type": "code",
   "execution_count": 52,
   "id": "e09a0352",
   "metadata": {},
   "outputs": [],
   "source": [
    "class Dog():\n",
    "    \n",
    "    species = 'mammal'\n",
    "    \n",
    "    def __init__(self, breed, name, spots):\n",
    "        self.breed = breed\n",
    "        self.name = name\n",
    "        self.spots = spots\n",
    "        \n",
    "    def bark(self, times):\n",
    "        print('woof ' * times)\n",
    "    \n",
    "    def barkName(self):\n",
    "        print('Woof! My name is {}' .format(self.name))\n",
    "        "
   ]
  },
  {
   "cell_type": "code",
   "execution_count": 53,
   "id": "c47eda35",
   "metadata": {},
   "outputs": [],
   "source": [
    "myDog = Dog(breed='bully lab', spots=False, name='Calvin')"
   ]
  },
  {
   "cell_type": "code",
   "execution_count": 54,
   "id": "5835aff3",
   "metadata": {},
   "outputs": [
    {
     "data": {
      "text/plain": [
       "__main__.Dog"
      ]
     },
     "execution_count": 54,
     "metadata": {},
     "output_type": "execute_result"
    }
   ],
   "source": [
    "type(myDog)"
   ]
  },
  {
   "cell_type": "code",
   "execution_count": 55,
   "id": "77fad079",
   "metadata": {},
   "outputs": [
    {
     "name": "stdout",
     "output_type": "stream",
     "text": [
      "bully lab\n",
      "Calvin\n",
      "False\n"
     ]
    }
   ],
   "source": [
    "print(myDog.breed)\n",
    "print(myDog.name)\n",
    "print(myDog.spots)"
   ]
  },
  {
   "cell_type": "code",
   "execution_count": 56,
   "id": "4f893b5a",
   "metadata": {},
   "outputs": [
    {
     "name": "stdout",
     "output_type": "stream",
     "text": [
      "woof woof woof woof \n"
     ]
    }
   ],
   "source": [
    "myDog.bark(4)"
   ]
  },
  {
   "cell_type": "code",
   "execution_count": 57,
   "id": "8e545586",
   "metadata": {},
   "outputs": [
    {
     "name": "stdout",
     "output_type": "stream",
     "text": [
      "Woof! My name is Calvin\n"
     ]
    }
   ],
   "source": [
    "myDog.barkName()"
   ]
  },
  {
   "cell_type": "code",
   "execution_count": null,
   "id": "e86f8587",
   "metadata": {},
   "outputs": [],
   "source": []
  }
 ],
 "metadata": {
  "kernelspec": {
   "display_name": "Python 3 (ipykernel)",
   "language": "python",
   "name": "python3"
  },
  "language_info": {
   "codemirror_mode": {
    "name": "ipython",
    "version": 3
   },
   "file_extension": ".py",
   "mimetype": "text/x-python",
   "name": "python",
   "nbconvert_exporter": "python",
   "pygments_lexer": "ipython3",
   "version": "3.9.12"
  }
 },
 "nbformat": 4,
 "nbformat_minor": 5
}
