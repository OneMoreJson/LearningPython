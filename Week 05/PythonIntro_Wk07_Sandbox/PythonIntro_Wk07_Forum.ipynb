{
 "cells": [
  {
   "cell_type": "code",
   "execution_count": 28,
   "metadata": {},
   "outputs": [],
   "source": [
    "class Course:\n",
    "    studentCount = 0\n",
    "\n",
    "    def __init__(self, instructor, courseLetter, courseLvl, courseTime, studentNum):\n",
    "        self.instructor = instructor\n",
    "        self.courseLetter = courseLetter\n",
    "        self.courseLvl = courseLvl\n",
    "        self.courseTime = courseTime\n",
    "        self.studentNum = studentNum\n",
    "        \n",
    "        Course.studentCount += 1\n",
    "        \n",
    "    def showCourseInfo(self):\n",
    "        return self.instructor + \"\\n\" + self.courseLetter + \"\\n\" + self.courseLvl + \"\\n\" + self.courseTime + \"\\n\" + str(self.studentNum)"
   ]
  },
  {
   "cell_type": "code",
   "execution_count": 29,
   "metadata": {},
   "outputs": [],
   "source": [
    "biology101 = Course(\"John Jones\", \"BIO\", \"101\", \"3:00 P.M\", 5)"
   ]
  },
  {
   "cell_type": "code",
   "execution_count": 30,
   "metadata": {},
   "outputs": [
    {
     "name": "stdout",
     "output_type": "stream",
     "text": [
      "John Jones\n",
      "BIO\n",
      "101\n",
      "3:00 P.M\n",
      "5\n"
     ]
    }
   ],
   "source": [
    "print(biology101.showCourseInfo())"
   ]
  },
  {
   "cell_type": "markdown",
   "metadata": {},
   "source": [
    "# New from Maria"
   ]
  },
  {
   "cell_type": "code",
   "execution_count": 21,
   "metadata": {},
   "outputs": [],
   "source": [
    "#The class\n",
    "\n",
    "class Veteran:\n",
    "    vetCount = 0\n",
    "\n",
    "    def __init__(self, name, rank):\n",
    "        self.name = name\n",
    "        self.rank = rank\n",
    "        \n",
    "        Veteran.vetCount += 1\n",
    "\n",
    "    def displayCount (self):\n",
    "        print(\"Total Veterans in APUS\" + Veteran.vetCount)\n",
    "\n",
    "    def displayVeteran(self):\n",
    "        print(\"Name: \" + self.name + \", Rank: \" + self.rank)\n",
    "\n",
    "\n",
    "vet1 = Veteran(\"Maria\", \"E5\")\n",
    "vet2 = Veteran(\"Joe\", \"E7\")"
   ]
  },
  {
   "cell_type": "code",
   "execution_count": 25,
   "metadata": {},
   "outputs": [
    {
     "data": {
      "text/plain": [
       "<bound method Veteran.displayVeteran of <__main__.Veteran object at 0x7f93fb3d5ed0>>"
      ]
     },
     "execution_count": 25,
     "metadata": {},
     "output_type": "execute_result"
    }
   ],
   "source": [
    "vet1.displayVeteran\n",
    "vet2.displayVeteran"
   ]
  },
  {
   "cell_type": "code",
   "execution_count": null,
   "metadata": {},
   "outputs": [],
   "source": []
  }
 ],
 "metadata": {
  "kernelspec": {
   "display_name": "Python 3",
   "language": "python",
   "name": "python3"
  },
  "language_info": {
   "codemirror_mode": {
    "name": "ipython",
    "version": 3
   },
   "file_extension": ".py",
   "mimetype": "text/x-python",
   "name": "python",
   "nbconvert_exporter": "python",
   "pygments_lexer": "ipython3",
   "version": "3.7.6"
  }
 },
 "nbformat": 4,
 "nbformat_minor": 4
}
