{
 "cells": [
  {
   "cell_type": "markdown",
   "metadata": {},
   "source": [
    "# From Lesson"
   ]
  },
  {
   "cell_type": "code",
   "execution_count": null,
   "metadata": {},
   "outputs": [],
   "source": [
    "class Person:\n",
    "    fname = \"\"\n",
    "    lname = \"\"\n",
    "    \n",
    "    def myName(self): # method to return the name \n",
    "        return self.fname + \" \" + self.lname\n",
    "    # the self key word refer to the class variable, if you omit the 'self', th code will look for global variable."
   ]
  },
  {
   "cell_type": "code",
   "execution_count": null,
   "metadata": {},
   "outputs": [],
   "source": [
    "Coder = Person()\n",
    "\n",
    "Coder.fname = \"Jason\"\n",
    "Coder.lname = \"Cameorn\"\n"
   ]
  },
  {
   "cell_type": "code",
   "execution_count": null,
   "metadata": {},
   "outputs": [],
   "source": [
    "Coder.myName()"
   ]
  },
  {
   "cell_type": "markdown",
   "metadata": {},
   "source": [
    "# My Sandbox 01"
   ]
  },
  {
   "cell_type": "code",
   "execution_count": 194,
   "metadata": {},
   "outputs": [],
   "source": [
    "# adding all the functions to the class to be used in the main  code\n",
    "\n",
    "class UserInputOutsideRange(Exception):\n",
    "    pass\n",
    "\n",
    "\n",
    "class Calc:\n",
    "    a = int\n",
    "    b = int\n",
    "    low = int\n",
    "    high = int\n",
    "    r = \" \"\n",
    "    \n",
    "    # Move Calc Functions\n",
    "    def __init__(self, a, b, low, high, r):\n",
    "        self.a = a\n",
    "        self.b = b\n",
    "        self.low = low\n",
    "        self.high = high\n",
    "        self.r = r\n",
    "    \n",
    "    def addMeth(self, a, b):\n",
    "        return self.a + self.b\n",
    "    \n",
    "    def subMeth(self, a, b):\n",
    "        return self.b - self.a\n",
    "\n",
    "    def multMeth(self, a, b):\n",
    "        return self.a * self.b\n",
    " \n",
    "    def divMeth(self, a, b):\n",
    "        try:\n",
    "            return self.a / self.b\n",
    "        except ZeroDivisionError:\n",
    "            return \"Unable by zero\"\n",
    "        \n",
    "    # Get Low Number\n",
    "    def getLowMeth(self):\n",
    "        self.low = int(input(\"Please select your low number between 100 and -100:  \"))\n",
    "        return self.low\n",
    "\n",
    "    # Get Low Number\n",
    "    def getHighMeth(self):\n",
    "        self.high = int(input(\"Please select your high number between 100 and -100:  \"))\n",
    "        return self.high\n",
    "    \n",
    "    # Get First Calc Number\n",
    "    def getFirstNumMeth(self):\n",
    "        self.a = int(input(\"Please select the first number between \", self.high, \" and \", self.low, \" to be calculated:  \"))\n",
    "        return self.a\n",
    "    \n",
    "    # Get First Calc Number\n",
    "    def getSecondNumMeth(self):\n",
    "        self.b = int(input(\"Please select the first number between \", self.high, \" and \", self.low, \" to be calculated:  \"))    \n",
    "        return self.b\n",
    "\n",
    "    # Move and Combine Range Check and All In One\n",
    "    def allInOne (self, a, b, low, high):\n",
    "        if self.a > low and self.a < high and self.b > low and self.b < high:\n",
    "            m = self.addMeth(a, b)\n",
    "            n = self.subMeth(a, b)\n",
    "            o = self.multMeth(a, b)\n",
    "            p = self.divMeth(a, b)\n",
    "            return m, n, o, p\n",
    "        else:\n",
    "            return 0, 0, 0, 0\n",
    "    \n",
    "    # Move Menue\n",
    "    def userInputMeth(self):\n",
    "        menu = [\"Add\", \"Subtract\", \"Multiply\", \"Divide\", \"All\", \"Exit\"]\n",
    "\n",
    "        r = input(\"Please select one of the following:\\n\\n****Hint: You can select the number or type the word****\\n1. \" + menu[0] + \"\\n2. \" + menu[1] + \"\\n3. \" + menu[2] + \"\\n4. \" + menu[3] + \"\\n5. \" + menu[4] + \"\\n6. \" + menu[5] + \"\\n\\n\")        \n",
    "\n",
    "        if r == \"1\" or r.lower() == \"add\" or r.lower() == \"a\":\n",
    "            return '+'\n",
    "        elif r == \"2\" or r.lower() == \"subtract\" or r.lower() == \"s\":\n",
    "            return '-'\n",
    "        elif r == \"3\" or r.lower() == \"multiply\" or r.lower() == \"m\":\n",
    "            return '*'\n",
    "        elif r == \"4\" or r.lower() == \"divide\" or r.lower() == \"d\":\n",
    "            return '/'\n",
    "        elif r == \"5\" or r.lower() == \"all\":\n",
    "            return 'a'\n",
    "        elif r == '6' or r.lower() == \"exit\"or r.lower() == \"e\":\n",
    "            return 'e'\n",
    "        else:\n",
    "            return 'e'"
   ]
  },
  {
   "cell_type": "code",
   "execution_count": 198,
   "metadata": {},
   "outputs": [],
   "source": [
    "numA = 4\n",
    "numB = 2\n",
    "\n",
    "lr = -20\n",
    "hr = 20\n",
    "r = str"
   ]
  },
  {
   "cell_type": "code",
   "execution_count": 199,
   "metadata": {},
   "outputs": [],
   "source": [
    "calcObj = Calc(numA, numB, lr, hr, r)"
   ]
  },
  {
   "cell_type": "code",
   "execution_count": 202,
   "metadata": {},
   "outputs": [
    {
     "name": "stdout",
     "output_type": "stream",
     "text": [
      "4\n",
      "2\n",
      "-20\n",
      "20\n"
     ]
    }
   ],
   "source": [
    "print(calcObj.a)\n",
    "print(calcObj.b)\n",
    "print(calcObj.low)\n",
    "print(calcObj.high)"
   ]
  },
  {
   "cell_type": "code",
   "execution_count": 206,
   "metadata": {},
   "outputs": [],
   "source": [
    "newList = calcObj.allInOne(calcObj.a, calcObj.b, calcObj.low,calcObj.high)"
   ]
  },
  {
   "cell_type": "code",
   "execution_count": 207,
   "metadata": {},
   "outputs": [
    {
     "name": "stdout",
     "output_type": "stream",
     "text": [
      "(6, -2, 8, 2.0)\n"
     ]
    }
   ],
   "source": [
    "print(newList)"
   ]
  },
  {
   "cell_type": "code",
   "execution_count": 200,
   "metadata": {},
   "outputs": [
    {
     "data": {
      "text/plain": [
       "(6, -2, 8, 2.0)"
      ]
     },
     "execution_count": 200,
     "metadata": {},
     "output_type": "execute_result"
    }
   ],
   "source": [
    "calcObj.allInOne(numA, numB, lr, hr)"
   ]
  },
  {
   "cell_type": "code",
   "execution_count": 186,
   "metadata": {},
   "outputs": [
    {
     "data": {
      "text/plain": [
       "4"
      ]
     },
     "execution_count": 186,
     "metadata": {},
     "output_type": "execute_result"
    }
   ],
   "source": [
    "calcObj.addMeth(numA, numB)"
   ]
  },
  {
   "cell_type": "code",
   "execution_count": 187,
   "metadata": {},
   "outputs": [
    {
     "name": "stdout",
     "output_type": "stream",
     "text": [
      "Please select one of the following:\n",
      "\n",
      "****Hint: You can select the number or type the word****\n",
      "1. Add\n",
      "2. Subtract\n",
      "3. Multiply\n",
      "4. Divide\n",
      "5. All\n",
      "6. Exit\n",
      "\n",
      "2\n"
     ]
    },
    {
     "data": {
      "text/plain": [
       "'-'"
      ]
     },
     "execution_count": 187,
     "metadata": {},
     "output_type": "execute_result"
    }
   ],
   "source": [
    "calcObj.userInputMeth()"
   ]
  },
  {
   "cell_type": "code",
   "execution_count": 192,
   "metadata": {},
   "outputs": [
    {
     "name": "stdout",
     "output_type": "stream",
     "text": [
      "Please select your low number between 100 and -100:  -10\n",
      "-10\n",
      "-10\n"
     ]
    }
   ],
   "source": [
    "print(calcObj.getLowMeth())\n",
    "print(calcObj.low)"
   ]
  },
  {
   "cell_type": "code",
   "execution_count": 189,
   "metadata": {},
   "outputs": [
    {
     "name": "stdout",
     "output_type": "stream",
     "text": [
      "Please select your high number between 100 and -100:  20\n",
      "20\n",
      "20\n"
     ]
    }
   ],
   "source": [
    "print(calcObj.getHighMeth())\n",
    "print(calcObj.high)"
   ]
  },
  {
   "cell_type": "markdown",
   "metadata": {},
   "source": [
    "# More stuff I wonder about"
   ]
  },
  {
   "cell_type": "code",
   "execution_count": 83,
   "metadata": {},
   "outputs": [
    {
     "name": "stdout",
     "output_type": "stream",
     "text": [
      "[<class 'int'>, <class 'int'>, <class 'int'>, <class 'int'>]\n"
     ]
    }
   ],
   "source": [
    "m = int\n",
    "n = int\n",
    "o = int\n",
    "p = int\n",
    "\n",
    "numList = [m, n, o, p]\n",
    "\n",
    "print(numList)"
   ]
  },
  {
   "cell_type": "code",
   "execution_count": 84,
   "metadata": {},
   "outputs": [],
   "source": [
    "m = \"now I'm a string??\""
   ]
  },
  {
   "cell_type": "code",
   "execution_count": 85,
   "metadata": {},
   "outputs": [
    {
     "name": "stdout",
     "output_type": "stream",
     "text": [
      "[\"now I'm a string??\", <class 'int'>, <class 'int'>, <class 'int'>]\n"
     ]
    }
   ],
   "source": [
    "numList = [m, n, o, p]\n",
    "\n",
    "print(numList)"
   ]
  },
  {
   "cell_type": "code",
   "execution_count": 87,
   "metadata": {},
   "outputs": [
    {
     "name": "stdout",
     "output_type": "stream",
     "text": [
      "[1, True, 'Run away with me', 1.23]\n"
     ]
    }
   ],
   "source": [
    "m = 1\n",
    "n = True\n",
    "o = \"Run away with me\"\n",
    "p = 1.23\n",
    "\n",
    "numList = [m, n, o, p]\n",
    "\n",
    "print(numList)"
   ]
  },
  {
   "cell_type": "code",
   "execution_count": 91,
   "metadata": {},
   "outputs": [
    {
     "name": "stdout",
     "output_type": "stream",
     "text": [
      "4 + 0\n"
     ]
    }
   ],
   "source": [
    "print(numA, \"+\", numB)"
   ]
  },
  {
   "cell_type": "markdown",
   "metadata": {},
   "source": [
    "# Other Tests"
   ]
  },
  {
   "cell_type": "code",
   "execution_count": 125,
   "metadata": {},
   "outputs": [],
   "source": [
    "class AnotherCalc:\n",
    "    a = int\n",
    "    \n",
    "    def __init__(self, a):\n",
    "        self.a = a\n",
    "    \n",
    "    def defA(self, a):\n",
    "        return int(input(\"select number:  \"))"
   ]
  },
  {
   "cell_type": "code",
   "execution_count": 126,
   "metadata": {},
   "outputs": [],
   "source": [
    "yetAnotherCalc = AnotherCalc(int)"
   ]
  },
  {
   "cell_type": "code",
   "execution_count": 127,
   "metadata": {},
   "outputs": [
    {
     "data": {
      "text/plain": [
       "int"
      ]
     },
     "execution_count": 127,
     "metadata": {},
     "output_type": "execute_result"
    }
   ],
   "source": [
    "yetAnotherCalc.a"
   ]
  },
  {
   "cell_type": "code",
   "execution_count": 128,
   "metadata": {},
   "outputs": [
    {
     "name": "stdout",
     "output_type": "stream",
     "text": [
      "select number:  6\n"
     ]
    },
    {
     "data": {
      "text/plain": [
       "6"
      ]
     },
     "execution_count": 128,
     "metadata": {},
     "output_type": "execute_result"
    }
   ],
   "source": [
    "yetAnotherCalc.defA(int)"
   ]
  },
  {
   "cell_type": "code",
   "execution_count": null,
   "metadata": {},
   "outputs": [],
   "source": []
  }
 ],
 "metadata": {
  "kernelspec": {
   "display_name": "Python 3",
   "language": "python",
   "name": "python3"
  },
  "language_info": {
   "codemirror_mode": {
    "name": "ipython",
    "version": 3
   },
   "file_extension": ".py",
   "mimetype": "text/x-python",
   "name": "python",
   "nbconvert_exporter": "python",
   "pygments_lexer": "ipython3",
   "version": "3.7.6"
  }
 },
 "nbformat": 4,
 "nbformat_minor": 4
}
