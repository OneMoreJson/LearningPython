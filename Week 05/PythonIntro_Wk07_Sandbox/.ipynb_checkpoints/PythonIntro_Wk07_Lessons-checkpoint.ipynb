{
 "cells": [
  {
   "cell_type": "code",
   "execution_count": null,
   "metadata": {},
   "outputs": [],
   "source": [
    "class Person:\n",
    "    fname = \"\"\n",
    "    lname = \"\""
   ]
  },
  {
   "cell_type": "code",
   "execution_count": null,
   "metadata": {},
   "outputs": [],
   "source": [
    "pat = Person()"
   ]
  },
  {
   "cell_type": "code",
   "execution_count": null,
   "metadata": {},
   "outputs": [],
   "source": [
    "print(Person())"
   ]
  },
  {
   "cell_type": "code",
   "execution_count": null,
   "metadata": {},
   "outputs": [],
   "source": [
    "print(pat)"
   ]
  },
  {
   "cell_type": "code",
   "execution_count": null,
   "metadata": {},
   "outputs": [],
   "source": [
    "pat.fname = \"Patrick\"\n",
    "pat.lname = \"Mansour\""
   ]
  },
  {
   "cell_type": "code",
   "execution_count": null,
   "metadata": {},
   "outputs": [],
   "source": [
    "print(pat.fname)"
   ]
  },
  {
   "cell_type": "code",
   "execution_count": null,
   "metadata": {},
   "outputs": [],
   "source": [
    "print(pat.lname)"
   ]
  },
  {
   "cell_type": "code",
   "execution_count": null,
   "metadata": {},
   "outputs": [],
   "source": [
    "sam = Person()\n",
    "sam.fname = \"Sammy\"\n",
    "sam.lname = \"Bond\"\n"
   ]
  },
  {
   "cell_type": "code",
   "execution_count": null,
   "metadata": {},
   "outputs": [],
   "source": [
    "print(sam.fname,\" \",sam.lname)\n",
    "print(pat.fname,\" \",pat.lname)"
   ]
  },
  {
   "cell_type": "code",
   "execution_count": null,
   "metadata": {},
   "outputs": [],
   "source": [
    "class Person:\n",
    "    fname = \"\"\n",
    "    lname = \"\"\n",
    "    def myName(self): # method to return the name \n",
    "        return self.fname + \" \" + self.lname\n",
    "    # the self key word refer to the class variable, if you omit the 'self', th code will look for global variable."
   ]
  },
  {
   "cell_type": "code",
   "execution_count": null,
   "metadata": {},
   "outputs": [],
   "source": [
    "pat = Person()\n",
    "pat.fname = \"Patrick\"\n",
    "pat.lname = \"Mansour\"\n",
    "\n",
    "sam = Person()\n",
    "sam.fname = \"Sammy\"\n",
    "sam.lname = \"Bond\""
   ]
  },
  {
   "cell_type": "code",
   "execution_count": null,
   "metadata": {},
   "outputs": [],
   "source": [
    "print(\"----Print name using myName method---\")\n",
    "print(pat.myName())\n",
    "print(sam.myName())"
   ]
  },
  {
   "cell_type": "code",
   "execution_count": null,
   "metadata": {},
   "outputs": [],
   "source": [
    "class Person:\n",
    "    fname = \"\"\n",
    "    lname = \"\"\n",
    "    countPerson = 0 ## Class variable\n",
    "    \n",
    "    def myName(self): # method to return the name \n",
    "        return self.fname + \" \" + self.lname\n",
    "    "
   ]
  },
  {
   "cell_type": "code",
   "execution_count": null,
   "metadata": {},
   "outputs": [],
   "source": [
    "pat = Person()\n",
    "pat.fname = \"Patrick\"\n",
    "pat.lname = \"Mansour\"\n",
    "\n",
    "sam = Person()\n",
    "sam.fname = \"Sammy\"\n",
    "sam.lname = \"Bond\""
   ]
  },
  {
   "cell_type": "code",
   "execution_count": null,
   "metadata": {},
   "outputs": [],
   "source": [
    "pat.role = \"Sales\""
   ]
  },
  {
   "cell_type": "code",
   "execution_count": null,
   "metadata": {},
   "outputs": [],
   "source": [
    "Person.countPerson += 1"
   ]
  },
  {
   "cell_type": "code",
   "execution_count": null,
   "metadata": {},
   "outputs": [],
   "source": [
    "print(pat.myName())"
   ]
  },
  {
   "cell_type": "code",
   "execution_count": null,
   "metadata": {},
   "outputs": [],
   "source": [
    "print(\"Number of objects for this class\", Person.countPerson)"
   ]
  },
  {
   "cell_type": "markdown",
   "metadata": {},
   "source": [
    "# 3"
   ]
  },
  {
   "cell_type": "code",
   "execution_count": 6,
   "metadata": {},
   "outputs": [],
   "source": [
    "class Person:\n",
    "    countPerson = 0\n",
    "    \n",
    "    def __init__(self,fname,lname):\n",
    "        self.fname = fname\n",
    "        self.lname = lname\n",
    "        Person.countPerson += 1\n",
    "    \n",
    "    def myName(self): \n",
    "        return self.fname + \" \" + self.lname"
   ]
  },
  {
   "cell_type": "code",
   "execution_count": 11,
   "metadata": {},
   "outputs": [],
   "source": [
    "pat = Person(\"Patrick\", \"Mansour\")\n",
    "pat.role = \"Sales\""
   ]
  },
  {
   "cell_type": "code",
   "execution_count": 15,
   "metadata": {},
   "outputs": [],
   "source": [
    "sam = Person(\"Sammy\", \"Bond\")\n",
    "sam.role = \"Instructor\""
   ]
  },
  {
   "cell_type": "code",
   "execution_count": 16,
   "metadata": {},
   "outputs": [
    {
     "name": "stdout",
     "output_type": "stream",
     "text": [
      "Patrick Mansour Sales\n"
     ]
    }
   ],
   "source": [
    "print(pat.myName(), pat.role)"
   ]
  },
  {
   "cell_type": "code",
   "execution_count": 17,
   "metadata": {},
   "outputs": [
    {
     "name": "stdout",
     "output_type": "stream",
     "text": [
      "Sammy Bond Instructor\n"
     ]
    }
   ],
   "source": [
    "print(sam.myName(), sam.role)"
   ]
  },
  {
   "cell_type": "code",
   "execution_count": 18,
   "metadata": {},
   "outputs": [
    {
     "name": "stdout",
     "output_type": "stream",
     "text": [
      "Number of objects for this class 6\n"
     ]
    }
   ],
   "source": [
    "print(\"Number of objects for this class\", Person.countPerson)"
   ]
  },
  {
   "cell_type": "markdown",
   "metadata": {},
   "source": [
    "# Inheritance"
   ]
  },
  {
   "cell_type": "code",
   "execution_count": 19,
   "metadata": {},
   "outputs": [],
   "source": [
    "class Person:\n",
    "    countPerson = 0\n",
    "    \n",
    "    def __init__(self,fname,lname):\n",
    "        self.fname = fname\n",
    "        self.lname = lname\n",
    "        Person.countPerson += 1\n",
    "    \n",
    "    def myName(self): \n",
    "        return self.fname + \" \" + self.lname"
   ]
  },
  {
   "cell_type": "code",
   "execution_count": 20,
   "metadata": {},
   "outputs": [],
   "source": [
    "class Instructor(Person):\n",
    "    def courseName(self, courseName):\n",
    "        self.courseName = courseName"
   ]
  },
  {
   "cell_type": "code",
   "execution_count": 22,
   "metadata": {},
   "outputs": [],
   "source": [
    "sam2 = Instructor(\"Sammy\", \"Abaza\")\n",
    "sam2.courseName(\"IT courses\")"
   ]
  },
  {
   "cell_type": "code",
   "execution_count": 26,
   "metadata": {},
   "outputs": [
    {
     "name": "stdout",
     "output_type": "stream",
     "text": [
      "Sammy Abaza IT courses\n"
     ]
    }
   ],
   "source": [
    "print(sam2.fname, sam2.lname, sam2.courseName)"
   ]
  },
  {
   "cell_type": "markdown",
   "metadata": {},
   "source": [
    "# Further Reading and Lessons"
   ]
  },
  {
   "cell_type": "code",
   "execution_count": 49,
   "metadata": {},
   "outputs": [],
   "source": [
    "class phonecase:\n",
    "    def __init__(self,num):                   # Constructior __init__()\n",
    "        self.numberInStock = num\n",
    "        \n",
    "    def newShipment(self, numbCases):\n",
    "        self.numberInStock = self.numberInStock + numbCases\n",
    "        "
   ]
  },
  {
   "cell_type": "code",
   "execution_count": 52,
   "metadata": {},
   "outputs": [
    {
     "name": "stdout",
     "output_type": "stream",
     "text": [
      "Used phonecase(0) 0\n",
      "Used phonecase(36) 36\n",
      "# cases for myCase3: 40\n"
     ]
    }
   ],
   "source": [
    "myCase2 = phonecase(0)\n",
    "print('Used phonecase(0)', myCase2.numberInStock)\n",
    "\n",
    "myCase3 = phonecase(36)\n",
    "print('Used phonecase(36)', myCase3.numberInStock)\n",
    "\n",
    "myCase3.newShipment(4)\n",
    "print(\"# cases for myCase3:\", myCase3.numberInStock)"
   ]
  },
  {
   "cell_type": "code",
   "execution_count": 57,
   "metadata": {},
   "outputs": [
    {
     "name": "stdout",
     "output_type": "stream",
     "text": [
      "['__class__', '__delattr__', '__dict__', '__dir__', '__doc__', '__eq__', '__format__', '__ge__', '__getattribute__', '__gt__', '__hash__', '__init__', '__init_subclass__', '__le__', '__lt__', '__module__', '__ne__', '__new__', '__reduce__', '__reduce_ex__', '__repr__', '__setattr__', '__sizeof__', '__str__', '__subclasshook__', '__weakref__', 'newShipment', 'numberInStock']\n"
     ]
    }
   ],
   "source": [
    "myCase = phonecase(1)\n",
    "print(dir(myCase))"
   ]
  },
  {
   "cell_type": "code",
   "execution_count": 58,
   "metadata": {},
   "outputs": [
    {
     "name": "stdout",
     "output_type": "stream",
     "text": [
      "__class__\n",
      "__delattr__\n",
      "__dict__\n",
      "__dir__\n",
      "__doc__\n",
      "__eq__\n",
      "__format__\n",
      "__ge__\n",
      "__getattribute__\n",
      "__gt__\n",
      "__hash__\n",
      "__init__\n",
      "__init_subclass__\n",
      "__le__\n",
      "__lt__\n",
      "__module__\n",
      "__ne__\n",
      "__new__\n",
      "__reduce__\n",
      "__reduce_ex__\n",
      "__repr__\n",
      "__setattr__\n",
      "__sizeof__\n",
      "__str__\n",
      "__subclasshook__\n",
      "__weakref__\n",
      "newShipment\n",
      "numberInStock\n"
     ]
    }
   ],
   "source": [
    "class phonecase:\n",
    "    def __init__(self,num):\n",
    "        self.numberInStock = num\n",
    "    \n",
    "    def newShipment(self, numCases):\n",
    "        self.numberInStock = self.numberInStock + numCases\n",
    "\n",
    "myCase2 = phonecase(0)\n",
    "\n",
    "for x in dir(myCase2):\n",
    "    print(x)"
   ]
  },
  {
   "cell_type": "markdown",
   "metadata": {},
   "source": [
    "# Passing lists to class"
   ]
  },
  {
   "cell_type": "code",
   "execution_count": 63,
   "metadata": {},
   "outputs": [
    {
     "name": "stdout",
     "output_type": "stream",
     "text": [
      "The sum is 90\n"
     ]
    }
   ],
   "source": [
    "class myListClass:\n",
    "    def __init__(self,listIn):\n",
    "        self.classList = listIn\n",
    "        \n",
    "    def addList(self):\n",
    "        instanceSum = 0\n",
    "        for n in self.classList:\n",
    "            instanceSum = instanceSum + n\n",
    "        print(\"The sum is\", instanceSum)\n",
    "        \n",
    "myList = [10, 50, 30]\n",
    "myListClassInstance = myListClass(myList)\n",
    "\n",
    "myListClassInstance.addList()\n",
    "        "
   ]
  },
  {
   "cell_type": "markdown",
   "metadata": {},
   "source": [
    "# Overloading Operators"
   ]
  },
  {
   "cell_type": "code",
   "execution_count": 64,
   "metadata": {},
   "outputs": [
    {
     "data": {
      "text/plain": [
       "[3, 5, 7, 10, 20]"
      ]
     },
     "execution_count": 64,
     "metadata": {},
     "output_type": "execute_result"
    }
   ],
   "source": [
    "listA = [3,5,7]\n",
    "listB = [10,20]\n",
    "listA +listB"
   ]
  },
  {
   "cell_type": "code",
   "execution_count": 69,
   "metadata": {},
   "outputs": [],
   "source": [
    "class myListClass:\n",
    "    def __init__(self,aList):\n",
    "        self.myList = aList\n",
    "    \n",
    "    def __add__(self,other):\n",
    "        # the __add__ method is used to define how + works\n",
    "        instanceSum = 0\n",
    "        \n",
    "        for n in self.myList:\n",
    "            instanceSum = instanceSum + n\n",
    "        \n",
    "        for n in other.myList:\n",
    "            instanceSum = instanceSum + n\n",
    "            \n",
    "        return instanceSum"
   ]
  },
  {
   "cell_type": "code",
   "execution_count": 70,
   "metadata": {},
   "outputs": [
    {
     "name": "stdout",
     "output_type": "stream",
     "text": [
      "45\n"
     ]
    }
   ],
   "source": [
    "oneList = [3,5,7]\n",
    "otherList = [10,20]\n",
    "\n",
    "myListA = myListClass(oneList)\n",
    "myListB = myListClass(otherList)\n",
    "\n",
    "sum = myListA + myListB\n",
    "print(sum)"
   ]
  },
  {
   "cell_type": "markdown",
   "metadata": {},
   "source": [
    "# Extending Classes to Make new classes"
   ]
  },
  {
   "cell_type": "code",
   "execution_count": 74,
   "metadata": {},
   "outputs": [],
   "source": [
    "class phonecase:\n",
    "    def __init__(self, number = 0, brand = \"\", model = \"\"):\n",
    "        self.numberInStock = number\n",
    "        self.brand = brand\n",
    "        self.model = model\n",
    "    \n",
    "    def newShipment(self, numCases):\n",
    "        self.numberInStock = self.numberInStock + numCases\n",
    "    \n",
    "    def soldCase(self, numSold):\n",
    "        self.numberInStock = self.numberInStock - numSold\n",
    "    \n",
    "    def getNumberInStock(self):\n",
    "        return self.numberInStock\n",
    "    \n",
    "    def setNumberInStock(self, num):\n",
    "        self.numberInStock = num\n",
    "    \n",
    "    def getBrand(self):\n",
    "        return self.brand\n",
    "    \n",
    "    def setBrand(self, brand):\n",
    "        sef.brand = brand\n",
    "        \n",
    "    def getModel(self):\n",
    "        return self.model\n",
    "    \n",
    "    def setModel(self, model):\n",
    "        self.model = model\n",
    "        \n",
    "    def __st__(self):\n",
    "        return str(self.numberInStock) + \" of \" + self.brand + \":\" + self.model\n",
    "    "
   ]
  },
  {
   "cell_type": "code",
   "execution_count": 75,
   "metadata": {},
   "outputs": [],
   "source": [
    "class SamsungCase(phonecase): \n",
    "    def __init__(self, num = 0, model = \"\"):\n",
    "        self.numberInStock = num\n",
    "        self.model = model\n",
    "        self.brand = \"Samsung\"\n",
    "    \n",
    "    def setBrand(self, brand):\n",
    "        print(\"Sorry, this will always be Samsung\")"
   ]
  },
  {
   "cell_type": "code",
   "execution_count": null,
   "metadata": {},
   "outputs": [],
   "source": []
  },
  {
   "cell_type": "code",
   "execution_count": null,
   "metadata": {},
   "outputs": [],
   "source": []
  },
  {
   "cell_type": "code",
   "execution_count": null,
   "metadata": {},
   "outputs": [],
   "source": []
  },
  {
   "cell_type": "code",
   "execution_count": null,
   "metadata": {},
   "outputs": [],
   "source": []
  },
  {
   "cell_type": "code",
   "execution_count": null,
   "metadata": {},
   "outputs": [],
   "source": []
  },
  {
   "cell_type": "code",
   "execution_count": null,
   "metadata": {},
   "outputs": [],
   "source": []
  }
 ],
 "metadata": {
  "kernelspec": {
   "display_name": "Python 3",
   "language": "python",
   "name": "python3"
  },
  "language_info": {
   "codemirror_mode": {
    "name": "ipython",
    "version": 3
   },
   "file_extension": ".py",
   "mimetype": "text/x-python",
   "name": "python",
   "nbconvert_exporter": "python",
   "pygments_lexer": "ipython3",
   "version": "3.7.6"
  }
 },
 "nbformat": 4,
 "nbformat_minor": 4
}
