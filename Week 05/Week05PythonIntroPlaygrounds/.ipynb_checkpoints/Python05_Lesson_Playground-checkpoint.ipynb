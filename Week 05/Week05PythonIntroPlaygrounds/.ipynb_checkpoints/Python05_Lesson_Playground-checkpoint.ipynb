{
 "cells": [
  {
   "cell_type": "code",
   "execution_count": 4,
   "metadata": {},
   "outputs": [],
   "source": [
    "def greeting(strName):\n",
    "    print(\"Welcome \" + strName + \"!\")\n",
    "\n",
    "def addNum(n1, n2):\n",
    "    try:\n",
    "        answer = n1 + n2\n",
    "        return answer\n",
    "    except Exception:\n",
    "        print(\"The adding function did not work.\")\n",
    "    \n",
    "def average3(n1, n2, n3):\n",
    "    answer = (n1 + n2 + n3) /3\n",
    "    return answer "
   ]
  },
  {
   "cell_type": "code",
   "execution_count": 5,
   "metadata": {},
   "outputs": [],
   "source": [
    "# greeting(\"Jason\")"
   ]
  },
  {
   "cell_type": "code",
   "execution_count": 6,
   "metadata": {},
   "outputs": [
    {
     "data": {
      "text/plain": [
       "6"
      ]
     },
     "execution_count": 6,
     "metadata": {},
     "output_type": "execute_result"
    }
   ],
   "source": [
    "n1 = 2\n",
    "n2 = 4 \n",
    "\n",
    "addNum(n1, n2)"
   ]
  },
  {
   "cell_type": "code",
   "execution_count": 7,
   "metadata": {},
   "outputs": [
    {
     "data": {
      "text/plain": [
       "4.0"
      ]
     },
     "execution_count": 7,
     "metadata": {},
     "output_type": "execute_result"
    }
   ],
   "source": [
    "average3(4, 2, 6)"
   ]
  },
  {
   "cell_type": "markdown",
   "metadata": {},
   "source": [
    "### Everything needed it's own non-Jupyter Notebook... We are back now"
   ]
  },
  {
   "cell_type": "markdown",
   "metadata": {},
   "source": [
    "# String Fun"
   ]
  },
  {
   "cell_type": "code",
   "execution_count": 3,
   "metadata": {},
   "outputs": [
    {
     "name": "stdout",
     "output_type": "stream",
     "text": [
      "Enter a single character: s\n",
      "The ASCII value of your character is 115\n"
     ]
    }
   ],
   "source": [
    "letter = input (\"Enter a single character: \" )\n",
    "ascii = ord(letter)\n",
    "\n",
    "print(\"The ASCII value of your character is \" + str(ascii))\n"
   ]
  },
  {
   "cell_type": "code",
   "execution_count": 17,
   "metadata": {},
   "outputs": [
    {
     "name": "stdout",
     "output_type": "stream",
     "text": [
      "Please give me a sentence:  We are eating pizza tonight!!!\n",
      "87\n",
      "101\n",
      "32\n",
      "97\n",
      "114\n",
      "101\n",
      "32\n",
      "101\n",
      "97\n",
      "116\n",
      "105\n",
      "110\n",
      "103\n",
      "32\n",
      "112\n",
      "105\n",
      "122\n",
      "122\n",
      "97\n",
      "32\n",
      "116\n",
      "111\n",
      "110\n",
      "105\n",
      "103\n",
      "104\n",
      "116\n",
      "33\n",
      "33\n",
      "33\n"
     ]
    }
   ],
   "source": [
    "giveString = input(\"Please give me a sentence:  \")\n",
    "\n",
    "for w in giveString:\n",
    "    print(ord(w))"
   ]
  },
  {
   "cell_type": "code",
   "execution_count": 22,
   "metadata": {},
   "outputs": [
    {
     "name": "stdout",
     "output_type": "stream",
     "text": [
      "abc\n",
      " def\t ghi \t klm\n"
     ]
    }
   ],
   "source": [
    "print('abc\\n def\\t ghi \\t klm')"
   ]
  },
  {
   "cell_type": "code",
   "execution_count": 28,
   "metadata": {},
   "outputs": [
    {
     "name": "stdout",
     "output_type": "stream",
     "text": [
      "ASCII Code and Character\n",
      "0\u0000\t1\u0001\t2\u0002\t3\u0003\t4\u0004\t5\u0005\t6\u0006\t7\u0007\t8\b\t9\t\t10\n",
      "\t11\u000b",
      "\t12\f",
      "\t13\r",
      "\t14\u000e\t15\u000f\t16\u0010\t17\u0011\t18\u0012\t19\u0013\t20\u0014\t21\u0015\t22\u0016\t23\u0017\t24\u0018\t25\u0019\t26\u001a\t27\u001b\t28\u001c",
      "\t29\u001d",
      "\t30\u001e",
      "\t31\u001f\t32 \t33!\t34\"\t35#\t36$\t37%\t38&\t39'\t40(\t41)\t42*\t43+\t44,\t45-\t46.\t47/\t480\t491\t502\t513\t524\t535\t546\t557\t568\t579\t58:\t59;\t60<\t61=\t62>\t63?\t64@\t65A\t66B\t67C\t68D\t69E\t70F\t71G\t72H\t73I\t74J\t75K\t76L\t77M\t78N\t79O\t80P\t81Q\t82R\t83S\t84T\t85U\t86V\t87W\t88X\t89Y\t90Z\t91[\t92\\\t93]\t94^\t95_\t96`\t97a\t98b\t99c\t\n"
     ]
    }
   ],
   "source": [
    "print(\"ASCII Code and Character\")\n",
    "table = \"\"\n",
    "\n",
    "for i in range(100):\n",
    "    table = table + str(i) + chr(i) + \"\\t\"\n",
    "\n",
    "print(table)"
   ]
  },
  {
   "cell_type": "code",
   "execution_count": 29,
   "metadata": {},
   "outputs": [
    {
     "name": "stdout",
     "output_type": "stream",
     "text": [
      "Characeer and ASCII code\n",
      "H 72\n",
      "e 101\n",
      "l 108\n",
      "l 108\n",
      "o 111\n",
      "  32\n",
      "K 75\n",
      "a 97\n",
      "y 121\n",
      "! 33\n",
      "\n",
      "Index and letter\n",
      "0 H\n",
      "1 e\n",
      "2 l\n",
      "3 l\n",
      "4 o\n",
      "5  \n",
      "6 K\n",
      "7 a\n",
      "8 y\n",
      "9 !\n"
     ]
    }
   ],
   "source": [
    "greeting = \"Hello Kay!\"\n",
    "\n",
    "print(\"Characeer and ASCII code\")\n",
    "\n",
    "for letter in greeting:\n",
    "    ascii = ord(letter)\n",
    "    print(letter, str(ascii))\n",
    "print()\n",
    "\n",
    "print(\"Index and letter\")\n",
    "for i in range(len(greeting)):\n",
    "    print(i, greeting[i])"
   ]
  },
  {
   "cell_type": "code",
   "execution_count": 33,
   "metadata": {},
   "outputs": [
    {
     "name": "stdout",
     "output_type": "stream",
     "text": [
      " Fun\n"
     ]
    }
   ],
   "source": [
    "sentence = \"Pythone is Fun\"\n",
    "\n",
    "print(sentence[10:14])"
   ]
  },
  {
   "cell_type": "code",
   "execution_count": 34,
   "metadata": {},
   "outputs": [
    {
     "name": "stdout",
     "output_type": "stream",
     "text": [
      "Python\n"
     ]
    }
   ],
   "source": [
    "print(sentence[0:6])"
   ]
  },
  {
   "cell_type": "code",
   "execution_count": 35,
   "metadata": {},
   "outputs": [
    {
     "name": "stdout",
     "output_type": "stream",
     "text": [
      " is Fun\n"
     ]
    }
   ],
   "source": [
    "print(sentence[7:])"
   ]
  },
  {
   "cell_type": "code",
   "execution_count": 36,
   "metadata": {},
   "outputs": [
    {
     "data": {
      "text/plain": [
       "'Word'"
      ]
     },
     "execution_count": 36,
     "metadata": {},
     "output_type": "execute_result"
    }
   ],
   "source": [
    "c = \"Word\"\n",
    "\n",
    "c[0:7]"
   ]
  },
  {
   "cell_type": "code",
   "execution_count": 37,
   "metadata": {},
   "outputs": [
    {
     "data": {
      "text/plain": [
       "''"
      ]
     },
     "execution_count": 37,
     "metadata": {},
     "output_type": "execute_result"
    }
   ],
   "source": [
    "c[8:19]"
   ]
  },
  {
   "cell_type": "code",
   "execution_count": 38,
   "metadata": {},
   "outputs": [
    {
     "name": "stdout",
     "output_type": "stream",
     "text": [
      "False\n",
      "False\n",
      "False\n",
      "True\n"
     ]
    }
   ],
   "source": [
    "# ISALPH()\n",
    "# Returns True when the string has at least one character and all characters are alphabetic (letters only)\n",
    "\n",
    "al = \"hello world\"\n",
    "bl = \"hello $^&*}\"\n",
    "cl = \"hello145\"\n",
    "dl = \"helloWORLD\"\n",
    "\n",
    "print(al.isalpha())\n",
    "print(bl.isalpha())\n",
    "print(cl.isalpha())\n",
    "print(dl.isalpha())"
   ]
  },
  {
   "cell_type": "code",
   "execution_count": 40,
   "metadata": {},
   "outputs": [
    {
     "name": "stdout",
     "output_type": "stream",
     "text": [
      "False\n",
      "True\n",
      "False\n"
     ]
    }
   ],
   "source": [
    "# ISDIGIT()\n",
    "\n",
    "d1 = \"helloWORLD\"\n",
    "e1 = \"342\"\n",
    "fl = \"2.89\"\n",
    "\n",
    "print(dl.isdigit())\n",
    "print(e1.isdigit())\n",
    "print(fl.isdigit())"
   ]
  },
  {
   "cell_type": "code",
   "execution_count": 47,
   "metadata": {},
   "outputs": [],
   "source": [
    "# ISLOWER()\n",
    "\n",
    "# firstPart = s[0:3]\n",
    "# secondPart = s[8:11]\n",
    "# print(firstPart + secondPart)"
   ]
  },
  {
   "cell_type": "code",
   "execution_count": 48,
   "metadata": {},
   "outputs": [
    {
     "name": "stdout",
     "output_type": "stream",
     "text": [
      "True\n"
     ]
    }
   ],
   "source": [
    "# ISSPACE()\n",
    "\n",
    "a1 = \"hello world\"\n",
    "print(a1[5].isspace())"
   ]
  },
  {
   "cell_type": "code",
   "execution_count": 49,
   "metadata": {},
   "outputs": [
    {
     "name": "stdout",
     "output_type": "stream",
     "text": [
      "index and letter\n",
      "0 H\n",
      "1 e\n",
      "2 l\n",
      "3 l\n",
      "4 o\n",
      "5  \n",
      "6 K\n",
      "7 a\n",
      "8 y\n",
      "9 !\n"
     ]
    }
   ],
   "source": [
    "# Using LEN(STRING)\n",
    "\n",
    "greeting = \"Hello Kay!\"\n",
    "print(\"index and letter\")\n",
    "for i in range(len(greeting)):\n",
    "    print(i,greeting[i])"
   ]
  },
  {
   "cell_type": "code",
   "execution_count": 50,
   "metadata": {},
   "outputs": [
    {
     "name": "stdout",
     "output_type": "stream",
     "text": [
      "abc\n"
     ]
    }
   ],
   "source": [
    "# LOWER()\n",
    "\n",
    "d1 = \"ABC\"\n",
    "\n",
    "print(d1.lower())"
   ]
  },
  {
   "cell_type": "code",
   "execution_count": 51,
   "metadata": {},
   "outputs": [
    {
     "name": "stdout",
     "output_type": "stream",
     "text": [
      "['Sam', ' Joe', ' Sue', ' Bob']\n",
      "Sam, Joe, Sue, Bob\n"
     ]
    }
   ],
   "source": [
    "# SPLIT()\n",
    "\n",
    "['Sam, Jo', 'Su', 'Bob']\n",
    "d1 = \"Sam, Joe, Sue, Bob\"\n",
    "print(d1.split(','))\n",
    "print(d1)"
   ]
  },
  {
   "cell_type": "markdown",
   "metadata": {},
   "source": [
    "# Formatting Strings"
   ]
  },
  {
   "cell_type": "code",
   "execution_count": 60,
   "metadata": {},
   "outputs": [
    {
     "name": "stdout",
     "output_type": "stream",
     "text": [
      "Withougt formatting\n",
      "pear fruit\n",
      "celery vegetable\n",
      "\n",
      "With formatting\n",
      "- pear + fruit.\n",
      "- celery + vegetable.\n"
     ]
    }
   ],
   "source": [
    "print('Withougt formatting')\n",
    "print('pear', 'fruit')\n",
    "print('celery', 'vegetable')\n",
    "print()\n",
    "print('With formatting')\n",
    "myFormat = \"- {0} + {1}.\"\n",
    "print(myFormat.format('pear', 'fruit'))\n",
    "print(myFormat.format('celery', 'vegetable'))"
   ]
  },
  {
   "cell_type": "code",
   "execution_count": 61,
   "metadata": {},
   "outputs": [],
   "source": [
    "name = \"Gertrude\""
   ]
  },
  {
   "cell_type": "code",
   "execution_count": null,
   "metadata": {},
   "outputs": [],
   "source": []
  },
  {
   "cell_type": "code",
   "execution_count": 2,
   "metadata": {},
   "outputs": [
    {
     "name": "stdout",
     "output_type": "stream",
     "text": [
      "Hello, world\n"
     ]
    }
   ],
   "source": [
    "greeting = \"Hello, world\"\n",
    "# greeting[0] = \"j\"\n",
    "print(greeting)"
   ]
  },
  {
   "cell_type": "code",
   "execution_count": 3,
   "metadata": {},
   "outputs": [
    {
     "name": "stdout",
     "output_type": "stream",
     "text": [
      "a\n",
      "p\n",
      "p\n",
      "l\n",
      "e\n"
     ]
    }
   ],
   "source": [
    "fruit = \"apple\"\n",
    "for idx in range(5):\n",
    "    currentChar = fruit[idx]\n",
    "    print(currentChar)"
   ]
  },
  {
   "cell_type": "code",
   "execution_count": 4,
   "metadata": {},
   "outputs": [
    {
     "name": "stdout",
     "output_type": "stream",
     "text": [
      "a\n",
      "p\n",
      "p\n",
      "l\n",
      "e\n"
     ]
    }
   ],
   "source": [
    "fruit = \"apple\"\n",
    "\n",
    "position = 0\n",
    "while position < len(fruit):\n",
    "    print(fruit[position])\n",
    "    position = position + 1"
   ]
  },
  {
   "cell_type": "code",
   "execution_count": 5,
   "metadata": {},
   "outputs": [
    {
     "name": "stdout",
     "output_type": "stream",
     "text": [
      "True\n",
      "False\n",
      "True\n",
      "False\n"
     ]
    }
   ],
   "source": [
    "print('p' in 'apple')\n",
    "print('i' in 'apple')\n",
    "print('ap' in 'apple')\n",
    "print('pa' in 'apple')"
   ]
  },
  {
   "cell_type": "code",
   "execution_count": 7,
   "metadata": {},
   "outputs": [
    {
     "name": "stdout",
     "output_type": "stream",
     "text": [
      "cmpsc\n",
      "bfjps\n"
     ]
    }
   ],
   "source": [
    "def removeVowels(s):\n",
    "    vowels = \"aeiouAEIOU\"\n",
    "    sWithoutVowels = \"\"\n",
    "    for eachChar in s:\n",
    "        if eachChar not in vowels:\n",
    "            sWithoutVowels = sWithoutVowels + eachChar\n",
    "    return sWithoutVowels\n",
    "\n",
    "print(removeVowels(\"compsci\"))\n",
    "print(removeVowels(\"aAbEefIijopUus\"))"
   ]
  },
  {
   "cell_type": "code",
   "execution_count": null,
   "metadata": {},
   "outputs": [],
   "source": [
    "def removeCommas(s):\n",
    "    commas = \",\"\n",
    "    withoutCommas = \"\"\n",
    "    for eachChar in s:\n",
    "        if eachChar not in commas:\n",
    "            withoutCommas = withoutCommas + eachChar\n",
    "    return withoutCommas\n",
    "\n",
    "print(removeCommas(\"Jason, Smith, Smash, Cameron, John\"))\n",
    "print(removeCommas(\"[,>,<,],*,*,*,*\"))"
   ]
  },
  {
   "cell_type": "code",
   "execution_count": null,
   "metadata": {},
   "outputs": [],
   "source": []
  },
  {
   "cell_type": "code",
   "execution_count": null,
   "metadata": {},
   "outputs": [],
   "source": []
  },
  {
   "cell_type": "code",
   "execution_count": null,
   "metadata": {},
   "outputs": [],
   "source": []
  },
  {
   "cell_type": "code",
   "execution_count": null,
   "metadata": {},
   "outputs": [],
   "source": []
  }
 ],
 "metadata": {
  "kernelspec": {
   "display_name": "Python 3",
   "language": "python",
   "name": "python3"
  },
  "language_info": {
   "codemirror_mode": {
    "name": "ipython",
    "version": 3
   },
   "file_extension": ".py",
   "mimetype": "text/x-python",
   "name": "python",
   "nbconvert_exporter": "python",
   "pygments_lexer": "ipython3",
   "version": "3.7.6"
  }
 },
 "nbformat": 4,
 "nbformat_minor": 4
}
