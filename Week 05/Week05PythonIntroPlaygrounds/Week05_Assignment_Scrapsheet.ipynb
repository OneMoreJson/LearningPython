{
 "cells": [
  {
   "cell_type": "code",
   "execution_count": null,
   "metadata": {},
   "outputs": [],
   "source": [
    "x = input(\"give me a number\")\n",
    "\n",
    "y = input(\"give me another number\")\n",
    "\n",
    "z = \"+\""
   ]
  },
  {
   "cell_type": "code",
   "execution_count": null,
   "metadata": {},
   "outputs": [],
   "source": [
    "cMathString = (x + \", \" + y + \", \" + z)\n",
    "\n",
    "print(cMathString)"
   ]
  },
  {
   "cell_type": "code",
   "execution_count": null,
   "metadata": {},
   "outputs": [],
   "source": [
    "exp =  cMathString.split(\", \")\n",
    "\n",
    "print(exp)"
   ]
  },
  {
   "cell_type": "code",
   "execution_count": null,
   "metadata": {},
   "outputs": [],
   "source": [
    "print(exp[0])"
   ]
  },
  {
   "cell_type": "code",
   "execution_count": null,
   "metadata": {},
   "outputs": [],
   "source": [
    "def addNums (num1, num2):\n",
    "    addAnswer = num1 + num2\n",
    "    print(addAnswer)\n",
    "    return addAnswer\n",
    "\n",
    "\n",
    "addNums(exp[0],exp[1])\n",
    "\n",
    "\n",
    "\n",
    "\n",
    "# def calcFunc1(expression):\n",
    "#     if exp(2) == \"+\":\n",
    "#         finAnswer = addNums(exp[0], exp[1])\n",
    "#         print(finAnswer)\n",
    "#     else:\n",
    "#         print(\"This is dumb\")\n",
    "        \n",
    "\n",
    "# calcFunc1(exp)"
   ]
  },
  {
   "cell_type": "markdown",
   "metadata": {},
   "source": [
    "# Retrying the concept"
   ]
  },
  {
   "cell_type": "code",
   "execution_count": 50,
   "metadata": {},
   "outputs": [
    {
     "name": "stdout",
     "output_type": "stream",
     "text": [
      "give me a number:  2\n",
      "give me another number:  3\n"
     ]
    }
   ],
   "source": [
    "a = input(\"give me a number:  \")\n",
    "\n",
    "b = input(\"give me another number:  \")\n",
    "\n",
    "c = ['+', '-', '*', '/']\n",
    "\n",
    "d = 0\n",
    "\n",
    "\n",
    "\n",
    "dMathString = a + \", \" + b + \", \" + c[0 + d]"
   ]
  },
  {
   "cell_type": "code",
   "execution_count": 55,
   "metadata": {},
   "outputs": [
    {
     "name": "stdout",
     "output_type": "stream",
     "text": [
      "5\n",
      "-1\n",
      "6\n",
      "0.6666666666666666\n",
      "0\n"
     ]
    }
   ],
   "source": [
    "def addNum (num1, num2):\n",
    "    answer = int(num1) + int(num2)\n",
    "    print(answer)\n",
    "    return answer\n",
    "\n",
    "def subNum (num1, num2):\n",
    "    answer = int(num1) - int(num2)\n",
    "    print(answer)\n",
    "    return answer\n",
    "\n",
    "def mltNum (num1, num2):\n",
    "    answer = int(num1) * int(num2)\n",
    "    print(answer)\n",
    "    return answer\n",
    "\n",
    "def divNum (num1, num2):\n",
    "    answer = int(num1) / int(num2)\n",
    "    print(answer)\n",
    "    return answer\n",
    "\n",
    "\n",
    "def sCalc(stringExpression):\n",
    "    breakString = stringExpression.split(\", \")\n",
    "    \n",
    "    if breakString[2] == \"+\":\n",
    "        addNum(breakString[0], breakString[1])\n",
    "        \n",
    "    elif breakString[2] == \"-\":\n",
    "        subNum(breakString[0], breakString[1])\n",
    "        \n",
    "    elif breakString[2] == \"*\":\n",
    "        mltNum(breakString[0], breakString[1])\n",
    "     \n",
    "    elif breakString[2] == \"/\":\n",
    "        divNum(breakString[0], breakString[1])\n",
    "        \n",
    "    else:\n",
    "        print(\"no operator found\")\n",
    "        \n",
    "        \n",
    "\n",
    "sCalc(dMathString)\n",
    "d = d + 1\n",
    "dMathString = a + \", \" + b + \", \" + c[0 + d]\n",
    "\n",
    "sCalc(dMathString)\n",
    "d = d + 1\n",
    "dMathString = a + \", \" + b + \", \" + c[0 + d]\n",
    "\n",
    "sCalc(dMathString)\n",
    "d = d + 1\n",
    "dMathString = a + \", \" + b + \", \" + c[0 + d]\n",
    "\n",
    "sCalc(dMathString)\n",
    "d = d - 3\n",
    "dMathString = a + \", \" + b + \", \" + c[0 + d]\n",
    "\n",
    "print(d)"
   ]
  },
  {
   "cell_type": "code",
   "execution_count": 52,
   "metadata": {},
   "outputs": [],
   "source": [
    "def testFunc():\n",
    "    grt = \"hello\"\n",
    "    return grt\n",
    "\n",
    "aVar = testFunc()"
   ]
  },
  {
   "cell_type": "code",
   "execution_count": 53,
   "metadata": {},
   "outputs": [
    {
     "name": "stdout",
     "output_type": "stream",
     "text": [
      "hello\n"
     ]
    }
   ],
   "source": [
    "print(aVar)"
   ]
  },
  {
   "cell_type": "code",
   "execution_count": null,
   "metadata": {},
   "outputs": [],
   "source": []
  },
  {
   "cell_type": "code",
   "execution_count": null,
   "metadata": {},
   "outputs": [],
   "source": []
  },
  {
   "cell_type": "code",
   "execution_count": null,
   "metadata": {},
   "outputs": [],
   "source": []
  },
  {
   "cell_type": "code",
   "execution_count": null,
   "metadata": {},
   "outputs": [],
   "source": []
  }
 ],
 "metadata": {
  "kernelspec": {
   "display_name": "Python 3",
   "language": "python",
   "name": "python3"
  },
  "language_info": {
   "codemirror_mode": {
    "name": "ipython",
    "version": 3
   },
   "file_extension": ".py",
   "mimetype": "text/x-python",
   "name": "python",
   "nbconvert_exporter": "python",
   "pygments_lexer": "ipython3",
   "version": "3.7.6"
  }
 },
 "nbformat": 4,
 "nbformat_minor": 4
}
